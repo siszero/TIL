{
  "nbformat": 4,
  "nbformat_minor": 0,
  "metadata": {
    "colab": {
      "name": "pie 를 이용한 원형차트 그리기.ipynb",
      "provenance": [],
      "collapsed_sections": []
    },
    "kernelspec": {
      "name": "python3",
      "display_name": "Python 3"
    },
    "language_info": {
      "name": "python"
    }
  },
  "cells": [
    {
      "cell_type": "markdown",
      "metadata": {
        "id": "gmpBxssZXox6"
      },
      "source": [
        "# **pie 를 이용한 원형차트 그리기**"
      ]
    },
    {
      "cell_type": "code",
      "metadata": {
        "colab": {
          "base_uri": "https://localhost:8080/"
        },
        "id": "ym1WKwJnU9W6",
        "outputId": "995ba870-5721-4274-8048-5c44c6d96316"
      },
      "source": [
        "!pip install matplotlib -U\n",
        "!sudo apt-get install -y fonts-nanum \n",
        "!sudo fc-cache -fv \n",
        "!rm ~/.cache/matplotlib -rf"
      ],
      "execution_count": null,
      "outputs": [
        {
          "output_type": "stream",
          "text": [
            "Requirement already up-to-date: matplotlib in /usr/local/lib/python3.7/dist-packages (3.4.2)\n",
            "Requirement already satisfied, skipping upgrade: python-dateutil>=2.7 in /usr/local/lib/python3.7/dist-packages (from matplotlib) (2.8.1)\n",
            "Requirement already satisfied, skipping upgrade: numpy>=1.16 in /usr/local/lib/python3.7/dist-packages (from matplotlib) (1.19.5)\n",
            "Requirement already satisfied, skipping upgrade: pillow>=6.2.0 in /usr/local/lib/python3.7/dist-packages (from matplotlib) (7.1.2)\n",
            "Requirement already satisfied, skipping upgrade: kiwisolver>=1.0.1 in /usr/local/lib/python3.7/dist-packages (from matplotlib) (1.3.1)\n",
            "Requirement already satisfied, skipping upgrade: pyparsing>=2.2.1 in /usr/local/lib/python3.7/dist-packages (from matplotlib) (2.4.7)\n",
            "Requirement already satisfied, skipping upgrade: cycler>=0.10 in /usr/local/lib/python3.7/dist-packages (from matplotlib) (0.10.0)\n",
            "Requirement already satisfied, skipping upgrade: six>=1.5 in /usr/local/lib/python3.7/dist-packages (from python-dateutil>=2.7->matplotlib) (1.15.0)\n",
            "Reading package lists... Done\n",
            "Building dependency tree       \n",
            "Reading state information... Done\n",
            "fonts-nanum is already the newest version (20170925-1).\n",
            "0 upgraded, 0 newly installed, 0 to remove and 39 not upgraded.\n",
            "/usr/share/fonts: caching, new cache contents: 0 fonts, 1 dirs\n",
            "/usr/share/fonts/truetype: caching, new cache contents: 0 fonts, 3 dirs\n",
            "/usr/share/fonts/truetype/humor-sans: caching, new cache contents: 1 fonts, 0 dirs\n",
            "/usr/share/fonts/truetype/liberation: caching, new cache contents: 16 fonts, 0 dirs\n",
            "/usr/share/fonts/truetype/nanum: caching, new cache contents: 10 fonts, 0 dirs\n",
            "/usr/local/share/fonts: caching, new cache contents: 0 fonts, 0 dirs\n",
            "/root/.local/share/fonts: skipping, no such directory\n",
            "/root/.fonts: skipping, no such directory\n",
            "/var/cache/fontconfig: cleaning cache directory\n",
            "/root/.cache/fontconfig: not cleaning non-existent cache directory\n",
            "/root/.fontconfig: not cleaning non-existent cache directory\n",
            "fc-cache: succeeded\n"
          ],
          "name": "stdout"
        }
      ]
    },
    {
      "cell_type": "code",
      "metadata": {
        "id": "RPDKdcCLfXDP"
      },
      "source": [
        "import matplotlib.pyplot as plt\n",
        "plt.rcParams['font.family']=['NanumGothic', 'sans-serif']\n",
        "plt.rcParams['axes.unicode_minus'] = False\n",
        "\n",
        "import pandas as pd"
      ],
      "execution_count": null,
      "outputs": []
    },
    {
      "cell_type": "code",
      "metadata": {
        "id": "m6B7gA0eXKrT"
      },
      "source": [
        "movie_title = ['크루엘라', '극장판 귀멸의 칼날: 무한열차편', '학교 가는 길']\n",
        "audience = [664308, 2099131, 20067]\n",
        "\n",
        "data = {'영화제목' : movie_title, '누적관객' : audience}\n",
        "df = pd.DataFrame(data)"
      ],
      "execution_count": null,
      "outputs": []
    },
    {
      "cell_type": "code",
      "metadata": {
        "colab": {
          "base_uri": "https://localhost:8080/"
        },
        "id": "bg11uAsYQDXI",
        "outputId": "7b7a4130-ba49-4fd4-ca1b-70d37e2e7578"
      },
      "source": [
        "df"
      ],
      "execution_count": null,
      "outputs": [
        {
          "output_type": "execute_result",
          "data": {
            "text/html": [
              "<div>\n",
              "<style scoped>\n",
              "    .dataframe tbody tr th:only-of-type {\n",
              "        vertical-align: middle;\n",
              "    }\n",
              "\n",
              "    .dataframe tbody tr th {\n",
              "        vertical-align: top;\n",
              "    }\n",
              "\n",
              "    .dataframe thead th {\n",
              "        text-align: right;\n",
              "    }\n",
              "</style>\n",
              "<table border=\"1\" class=\"dataframe\">\n",
              "  <thead>\n",
              "    <tr style=\"text-align: right;\">\n",
              "      <th></th>\n",
              "      <th>영화제목</th>\n",
              "      <th>누적관객</th>\n",
              "    </tr>\n",
              "  </thead>\n",
              "  <tbody>\n",
              "    <tr>\n",
              "      <th>0</th>\n",
              "      <td>크루엘라</td>\n",
              "      <td>664308</td>\n",
              "    </tr>\n",
              "    <tr>\n",
              "      <th>1</th>\n",
              "      <td>극장판 귀멸의 칼날: 무한열차편</td>\n",
              "      <td>2099131</td>\n",
              "    </tr>\n",
              "    <tr>\n",
              "      <th>2</th>\n",
              "      <td>학교 가는 길</td>\n",
              "      <td>20067</td>\n",
              "    </tr>\n",
              "  </tbody>\n",
              "</table>\n",
              "</div>"
            ],
            "text/plain": [
              "                영화제목     누적관객\n",
              "0               크루엘라   664308\n",
              "1  극장판 귀멸의 칼날: 무한열차편  2099131\n",
              "2            학교 가는 길    20067"
            ]
          },
          "metadata": {
            "tags": []
          },
          "execution_count": 3
        }
      ]
    },
    {
      "cell_type": "markdown",
      "metadata": {
        "id": "NqzEiwIYZpPl"
      },
      "source": [
        "\\- pie chart 생성"
      ]
    },
    {
      "cell_type": "code",
      "metadata": {
        "colab": {
          "base_uri": "https://localhost:8080/"
        },
        "id": "hikk14tFZsF4",
        "outputId": "c52bc5b7-159f-4ba1-8221-559031f5adaf"
      },
      "source": [
        "plt.pie(df['누적관객'])"
      ],
      "execution_count": null,
      "outputs": [
        {
          "output_type": "execute_result",
          "data": {
            "text/plain": [
              "([<matplotlib.patches.Wedge at 0x7fbe105fff50>,\n",
              "  <matplotlib.patches.Wedge at 0x7fbe10596310>,\n",
              "  <matplotlib.patches.Wedge at 0x7fbe10596850>],\n",
              " [Text(0.8050313127582442, 0.7496162921646903, ''),\n",
              "  Text(-0.8218010823586748, -0.731192848046335, ''),\n",
              "  Text(1.0997178880085947, -0.02491117809169017, '')])"
            ]
          },
          "metadata": {
            "tags": []
          },
          "execution_count": 4
        },
        {
          "output_type": "display_data",
          "data": {
            "image/png": "[encoded data removed]",
            "text/plain": [
              "<Figure size 432x288 with 1 Axes>"
            ]
          },
          "metadata": {
            "tags": []
          }
        }
      ]
    },
    {
      "cell_type": "code",
      "metadata": {
        "colab": {
          "base_uri": "https://localhost:8080/"
        },
        "id": "INXnBetDUM9n",
        "outputId": "464ae551-9410-40ee-d402-5c9b786da43b"
      },
      "source": [
        "plt.pie(df['누적관객'], labels = df['영화제목']);"
      ],
      "execution_count": null,
      "outputs": [
        {
          "output_type": "display_data",
          "data": {
            "image/png": "[encoded data removed]",
            "text/plain": [
              "<Figure size 432x288 with 1 Axes>"
            ]
          },
          "metadata": {
            "tags": []
          }
        }
      ]
    },
    {
      "cell_type": "markdown",
      "metadata": {
        "id": "9H-A84lHXEbQ"
      },
      "source": [
        "\\- 값 추가"
      ]
    },
    {
      "cell_type": "code",
      "metadata": {
        "colab": {
          "base_uri": "https://localhost:8080/"
        },
        "id": "x4rI8iLrW7Yu",
        "outputId": "803e22fc-f163-488c-ae8e-398ed81f06ab"
      },
      "source": [
        "plt.pie(df['누적관객'], labels = df['영화제목'], autopct = '%0.2f%%');      # 소숫점 둘째자리까지 (pct = percent줄임말..!?)"
      ],
      "execution_count": null,
      "outputs": [
        {
          "output_type": "display_data",
          "data": {
            "image/png": "[encoded data removed]",
            "text/plain": [
              "<Figure size 432x288 with 1 Axes>"
            ]
          },
          "metadata": {
            "tags": []
          }
        }
      ]
    },
    {
      "cell_type": "markdown",
      "metadata": {
        "id": "wrhXQCp_Yegm"
      },
      "source": [
        "\\- colors 를 이용한 색상 변경하기([색상표 참고](https://m.blog.naver.com/hellonami/30189427178))"
      ]
    },
    {
      "cell_type": "code",
      "metadata": {
        "colab": {
          "base_uri": "https://localhost:8080/"
        },
        "id": "d_Y7ksCtYpqw",
        "outputId": "0a21a328-6d08-4a0d-9886-6df463a0c643"
      },
      "source": [
        "#colors_list = ['red', 'green', 'blue']\n",
        "colors_list = ['#F08080', '#DCDCDC', '#FFF8DC']\n",
        "\n",
        "plt.pie(df['누적관객'], labels = df['영화제목'], autopct = '%0.2f%%', colors = colors_list);"
      ],
      "execution_count": null,
      "outputs": [
        {
          "output_type": "display_data",
          "data": {
            "image/png": "[encoded data removed]",
            "text/plain": [
              "<Figure size 432x288 with 1 Axes>"
            ]
          },
          "metadata": {
            "tags": []
          }
        }
      ]
    },
    {
      "cell_type": "markdown",
      "metadata": {
        "id": "NJjki4BgX-UA"
      },
      "source": [
        "\\- explode 를 이용한 중심으로부터 그림 떼어내기 (특정부분 강조할 때 사용)"
      ]
    },
    {
      "cell_type": "code",
      "metadata": {
        "colab": {
          "base_uri": "https://localhost:8080/"
        },
        "id": "CY3MQsKQYOUA",
        "outputId": "f54ca708-3c9b-43ed-be0b-badb9bd06e8f"
      },
      "source": [
        "explode_list = [0, 0.1, 0]\n",
        "\n",
        "plt.pie(df['누적관객'], labels = df['영화제목'], autopct = '%0.2f%%', explode = explode_list);"
      ],
      "execution_count": null,
      "outputs": [
        {
          "output_type": "display_data",
          "data": {
            "image/png": "[encoded data removed]",
            "text/plain": [
              "<Figure size 432x288 with 1 Axes>"
            ]
          },
          "metadata": {
            "tags": []
          }
        }
      ]
    }
  ]
}