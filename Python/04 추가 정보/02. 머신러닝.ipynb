{
  "nbformat": 4,
  "nbformat_minor": 0,
  "metadata": {
    "colab": {
      "name": "머신러닝.ipynb",
      "provenance": [],
      "collapsed_sections": []
    },
    "kernelspec": {
      "name": "python3",
      "display_name": "Python 3"
    },
    "language_info": {
      "name": "python"
    }
  },
  "cells": [
    {
      "cell_type": "markdown",
      "metadata": {
        "id": "JjR3b7XCPDd5"
      },
      "source": [
        "# **2. 데이터 전처리**"
      ]
    },
    {
      "cell_type": "code",
      "metadata": {
        "id": "W211mIp7N511"
      },
      "source": [
        "import seaborn as sns\n",
        "import pandas as pd\n",
        "import matplotlib.pyplot as plt"
      ],
      "execution_count": 3,
      "outputs": []
    },
    {
      "cell_type": "code",
      "metadata": {
        "id": "MSHjUaScXwfR"
      },
      "source": [
        "df = sns.load_dataset('titanic')"
      ],
      "execution_count": 4,
      "outputs": []
    },
    {
      "cell_type": "markdown",
      "metadata": {
        "id": "4W5BWPPi8YPC"
      },
      "source": [
        "\\- 상위 5개 데이터 확인"
      ]
    },
    {
      "cell_type": "code",
      "metadata": {
        "colab": {
          "base_uri": "https://localhost:8080/",
          "height": 270
        },
        "id": "zkBpvyGz75qb",
        "outputId": "a3a71f15-f121-4cd3-8df6-bc83b93113d3"
      },
      "source": [
        "df.head()"
      ],
      "execution_count": 6,
      "outputs": [
        {
          "output_type": "execute_result",
          "data": {
            "text/html": [
              "\n",
              "  <div id=\"df-af7807bd-386d-44e7-af53-d3af954aa70e\">\n",
              "    <div class=\"colab-df-container\">\n",
              "      <div>\n",
              "<style scoped>\n",
              "    .dataframe tbody tr th:only-of-type {\n",
              "        vertical-align: middle;\n",
              "    }\n",
              "\n",
              "    .dataframe tbody tr th {\n",
              "        vertical-align: top;\n",
              "    }\n",
              "\n",
              "    .dataframe thead th {\n",
              "        text-align: right;\n",
              "    }\n",
              "</style>\n",
              "<table border=\"1\" class=\"dataframe\">\n",
              "  <thead>\n",
              "    <tr style=\"text-align: right;\">\n",
              "      <th></th>\n",
              "      <th>survived</th>\n",
              "      <th>pclass</th>\n",
              "      <th>sex</th>\n",
              "      <th>age</th>\n",
              "      <th>sibsp</th>\n",
              "      <th>parch</th>\n",
              "      <th>fare</th>\n",
              "      <th>embarked</th>\n",
              "      <th>class</th>\n",
              "      <th>who</th>\n",
              "      <th>adult_male</th>\n",
              "      <th>deck</th>\n",
              "      <th>embark_town</th>\n",
              "      <th>alive</th>\n",
              "      <th>alone</th>\n",
              "    </tr>\n",
              "  </thead>\n",
              "  <tbody>\n",
              "    <tr>\n",
              "      <th>0</th>\n",
              "      <td>0</td>\n",
              "      <td>3</td>\n",
              "      <td>male</td>\n",
              "      <td>22.0</td>\n",
              "      <td>1</td>\n",
              "      <td>0</td>\n",
              "      <td>7.2500</td>\n",
              "      <td>S</td>\n",
              "      <td>Third</td>\n",
              "      <td>man</td>\n",
              "      <td>True</td>\n",
              "      <td>NaN</td>\n",
              "      <td>Southampton</td>\n",
              "      <td>no</td>\n",
              "      <td>False</td>\n",
              "    </tr>\n",
              "    <tr>\n",
              "      <th>1</th>\n",
              "      <td>1</td>\n",
              "      <td>1</td>\n",
              "      <td>female</td>\n",
              "      <td>38.0</td>\n",
              "      <td>1</td>\n",
              "      <td>0</td>\n",
              "      <td>71.2833</td>\n",
              "      <td>C</td>\n",
              "      <td>First</td>\n",
              "      <td>woman</td>\n",
              "      <td>False</td>\n",
              "      <td>C</td>\n",
              "      <td>Cherbourg</td>\n",
              "      <td>yes</td>\n",
              "      <td>False</td>\n",
              "    </tr>\n",
              "    <tr>\n",
              "      <th>2</th>\n",
              "      <td>1</td>\n",
              "      <td>3</td>\n",
              "      <td>female</td>\n",
              "      <td>26.0</td>\n",
              "      <td>0</td>\n",
              "      <td>0</td>\n",
              "      <td>7.9250</td>\n",
              "      <td>S</td>\n",
              "      <td>Third</td>\n",
              "      <td>woman</td>\n",
              "      <td>False</td>\n",
              "      <td>NaN</td>\n",
              "      <td>Southampton</td>\n",
              "      <td>yes</td>\n",
              "      <td>True</td>\n",
              "    </tr>\n",
              "    <tr>\n",
              "      <th>3</th>\n",
              "      <td>1</td>\n",
              "      <td>1</td>\n",
              "      <td>female</td>\n",
              "      <td>35.0</td>\n",
              "      <td>1</td>\n",
              "      <td>0</td>\n",
              "      <td>53.1000</td>\n",
              "      <td>S</td>\n",
              "      <td>First</td>\n",
              "      <td>woman</td>\n",
              "      <td>False</td>\n",
              "      <td>C</td>\n",
              "      <td>Southampton</td>\n",
              "      <td>yes</td>\n",
              "      <td>False</td>\n",
              "    </tr>\n",
              "    <tr>\n",
              "      <th>4</th>\n",
              "      <td>0</td>\n",
              "      <td>3</td>\n",
              "      <td>male</td>\n",
              "      <td>35.0</td>\n",
              "      <td>0</td>\n",
              "      <td>0</td>\n",
              "      <td>8.0500</td>\n",
              "      <td>S</td>\n",
              "      <td>Third</td>\n",
              "      <td>man</td>\n",
              "      <td>True</td>\n",
              "      <td>NaN</td>\n",
              "      <td>Southampton</td>\n",
              "      <td>no</td>\n",
              "      <td>True</td>\n",
              "    </tr>\n",
              "  </tbody>\n",
              "</table>\n",
              "</div>\n",
              "      <button class=\"colab-df-convert\" onclick=\"convertToInteractive('df-af7807bd-386d-44e7-af53-d3af954aa70e')\"\n",
              "              title=\"Convert this dataframe to an interactive table.\"\n",
              "              style=\"display:none;\">\n",
              "        \n",
              "  <svg xmlns=\"http://www.w3.org/2000/svg\" height=\"24px\"viewBox=\"0 0 24 24\"\n",
              "       width=\"24px\">\n",
              "    <path d=\"M0 0h24v24H0V0z\" fill=\"none\"/>\n",
              "    <path d=\"M18.56 5.44l.94 2.06.94-2.06 2.06-.94-2.06-.94-.94-2.06-.94 2.06-2.06.94zm-11 1L8.5 8.5l.94-2.06 2.06-.94-2.06-.94L8.5 2.5l-.94 2.06-2.06.94zm10 10l.94 2.06.94-2.06 2.06-.94-2.06-.94-.94-2.06-.94 2.06-2.06.94z\"/><path d=\"M17.41 7.96l-1.37-1.37c-.4-.4-.92-.59-1.43-.59-.52 0-1.04.2-1.43.59L10.3 9.45l-7.72 7.72c-.78.78-.78 2.05 0 2.83L4 21.41c.39.39.9.59 1.41.59.51 0 1.02-.2 1.41-.59l7.78-7.78 2.81-2.81c.8-.78.8-2.07 0-2.86zM5.41 20L4 18.59l7.72-7.72 1.47 1.35L5.41 20z\"/>\n",
              "  </svg>\n",
              "      </button>\n",
              "      \n",
              "  <style>\n",
              "    .colab-df-container {\n",
              "      display:flex;\n",
              "      flex-wrap:wrap;\n",
              "      gap: 12px;\n",
              "    }\n",
              "\n",
              "    .colab-df-convert {\n",
              "      background-color: #E8F0FE;\n",
              "      border: none;\n",
              "      border-radius: 50%;\n",
              "      cursor: pointer;\n",
              "      display: none;\n",
              "      fill: #1967D2;\n",
              "      height: 32px;\n",
              "      padding: 0 0 0 0;\n",
              "      width: 32px;\n",
              "    }\n",
              "\n",
              "    .colab-df-convert:hover {\n",
              "      background-color: #E2EBFA;\n",
              "      box-shadow: 0px 1px 2px rgba(60, 64, 67, 0.3), 0px 1px 3px 1px rgba(60, 64, 67, 0.15);\n",
              "      fill: #174EA6;\n",
              "    }\n",
              "\n",
              "    [theme=dark] .colab-df-convert {\n",
              "      background-color: #3B4455;\n",
              "      fill: #D2E3FC;\n",
              "    }\n",
              "\n",
              "    [theme=dark] .colab-df-convert:hover {\n",
              "      background-color: #434B5C;\n",
              "      box-shadow: 0px 1px 3px 1px rgba(0, 0, 0, 0.15);\n",
              "      filter: drop-shadow(0px 1px 2px rgba(0, 0, 0, 0.3));\n",
              "      fill: #FFFFFF;\n",
              "    }\n",
              "  </style>\n",
              "\n",
              "      <script>\n",
              "        const buttonEl =\n",
              "          document.querySelector('#df-af7807bd-386d-44e7-af53-d3af954aa70e button.colab-df-convert');\n",
              "        buttonEl.style.display =\n",
              "          google.colab.kernel.accessAllowed ? 'block' : 'none';\n",
              "\n",
              "        async function convertToInteractive(key) {\n",
              "          const element = document.querySelector('#df-af7807bd-386d-44e7-af53-d3af954aa70e');\n",
              "          const dataTable =\n",
              "            await google.colab.kernel.invokeFunction('convertToInteractive',\n",
              "                                                     [key], {});\n",
              "          if (!dataTable) return;\n",
              "\n",
              "          const docLinkHtml = 'Like what you see? Visit the ' +\n",
              "            '<a target=\"_blank\" href=https://colab.research.google.com/notebooks/data_table.ipynb>data table notebook</a>'\n",
              "            + ' to learn more about interactive tables.';\n",
              "          element.innerHTML = '';\n",
              "          dataTable['output_type'] = 'display_data';\n",
              "          await google.colab.output.renderOutput(dataTable, element);\n",
              "          const docLink = document.createElement('div');\n",
              "          docLink.innerHTML = docLinkHtml;\n",
              "          element.appendChild(docLink);\n",
              "        }\n",
              "      </script>\n",
              "    </div>\n",
              "  </div>\n",
              "  "
            ],
            "text/plain": [
              "   survived  pclass     sex   age  ...  deck  embark_town  alive  alone\n",
              "0         0       3    male  22.0  ...   NaN  Southampton     no  False\n",
              "1         1       1  female  38.0  ...     C    Cherbourg    yes  False\n",
              "2         1       3  female  26.0  ...   NaN  Southampton    yes   True\n",
              "3         1       1  female  35.0  ...     C  Southampton    yes  False\n",
              "4         0       3    male  35.0  ...   NaN  Southampton     no   True\n",
              "\n",
              "[5 rows x 15 columns]"
            ]
          },
          "metadata": {},
          "execution_count": 6
        }
      ]
    },
    {
      "cell_type": "markdown",
      "metadata": {
        "id": "7i0MkyHS80bj"
      },
      "source": [
        "Variable |\tDefinition\t| Key\n",
        "---------|-----------|-------------------------------\n",
        "survival |\tSurvival |\t0 = No, 1 = Yes\n",
        "pclass |\tTicket class |\t1 = 1st, 2 = 2nd, 3 = 3rd\n",
        "sex\t| Sex\t|\n",
        "Age\t| Age in years\t|\n",
        "sibsp |\t# of siblings / spouses aboard the Titanic |\n",
        "parch\t| # of parents / children aboard the Titanic |\n",
        "ticket\t| Ticket number\t |\n",
        "fare\t| Passenger fare |\n",
        "embarked\t| Port of Embarkation\t| C = Cherbourg, Q = Queenstown, S = Southampton"
      ]
    },
    {
      "cell_type": "markdown",
      "metadata": {
        "id": "ed60HjTj8a2q"
      },
      "source": [
        "\\- 데이터 요약"
      ]
    },
    {
      "cell_type": "code",
      "metadata": {
        "colab": {
          "base_uri": "https://localhost:8080/",
          "height": 300
        },
        "id": "tveig-nj76XZ",
        "outputId": "7e9f02dd-2b01-40b8-876d-57a01d17991d"
      },
      "source": [
        "df.describe()         # 데이터가 몇 개인지"
      ],
      "execution_count": 7,
      "outputs": [
        {
          "output_type": "execute_result",
          "data": {
            "text/html": [
              "\n",
              "  <div id=\"df-37dbbdba-bec8-4e9a-8bc9-66139176c1d1\">\n",
              "    <div class=\"colab-df-container\">\n",
              "      <div>\n",
              "<style scoped>\n",
              "    .dataframe tbody tr th:only-of-type {\n",
              "        vertical-align: middle;\n",
              "    }\n",
              "\n",
              "    .dataframe tbody tr th {\n",
              "        vertical-align: top;\n",
              "    }\n",
              "\n",
              "    .dataframe thead th {\n",
              "        text-align: right;\n",
              "    }\n",
              "</style>\n",
              "<table border=\"1\" class=\"dataframe\">\n",
              "  <thead>\n",
              "    <tr style=\"text-align: right;\">\n",
              "      <th></th>\n",
              "      <th>survived</th>\n",
              "      <th>pclass</th>\n",
              "      <th>age</th>\n",
              "      <th>sibsp</th>\n",
              "      <th>parch</th>\n",
              "      <th>fare</th>\n",
              "    </tr>\n",
              "  </thead>\n",
              "  <tbody>\n",
              "    <tr>\n",
              "      <th>count</th>\n",
              "      <td>891.000000</td>\n",
              "      <td>891.000000</td>\n",
              "      <td>714.000000</td>\n",
              "      <td>891.000000</td>\n",
              "      <td>891.000000</td>\n",
              "      <td>891.000000</td>\n",
              "    </tr>\n",
              "    <tr>\n",
              "      <th>mean</th>\n",
              "      <td>0.383838</td>\n",
              "      <td>2.308642</td>\n",
              "      <td>29.699118</td>\n",
              "      <td>0.523008</td>\n",
              "      <td>0.381594</td>\n",
              "      <td>32.204208</td>\n",
              "    </tr>\n",
              "    <tr>\n",
              "      <th>std</th>\n",
              "      <td>0.486592</td>\n",
              "      <td>0.836071</td>\n",
              "      <td>14.526497</td>\n",
              "      <td>1.102743</td>\n",
              "      <td>0.806057</td>\n",
              "      <td>49.693429</td>\n",
              "    </tr>\n",
              "    <tr>\n",
              "      <th>min</th>\n",
              "      <td>0.000000</td>\n",
              "      <td>1.000000</td>\n",
              "      <td>0.420000</td>\n",
              "      <td>0.000000</td>\n",
              "      <td>0.000000</td>\n",
              "      <td>0.000000</td>\n",
              "    </tr>\n",
              "    <tr>\n",
              "      <th>25%</th>\n",
              "      <td>0.000000</td>\n",
              "      <td>2.000000</td>\n",
              "      <td>20.125000</td>\n",
              "      <td>0.000000</td>\n",
              "      <td>0.000000</td>\n",
              "      <td>7.910400</td>\n",
              "    </tr>\n",
              "    <tr>\n",
              "      <th>50%</th>\n",
              "      <td>0.000000</td>\n",
              "      <td>3.000000</td>\n",
              "      <td>28.000000</td>\n",
              "      <td>0.000000</td>\n",
              "      <td>0.000000</td>\n",
              "      <td>14.454200</td>\n",
              "    </tr>\n",
              "    <tr>\n",
              "      <th>75%</th>\n",
              "      <td>1.000000</td>\n",
              "      <td>3.000000</td>\n",
              "      <td>38.000000</td>\n",
              "      <td>1.000000</td>\n",
              "      <td>0.000000</td>\n",
              "      <td>31.000000</td>\n",
              "    </tr>\n",
              "    <tr>\n",
              "      <th>max</th>\n",
              "      <td>1.000000</td>\n",
              "      <td>3.000000</td>\n",
              "      <td>80.000000</td>\n",
              "      <td>8.000000</td>\n",
              "      <td>6.000000</td>\n",
              "      <td>512.329200</td>\n",
              "    </tr>\n",
              "  </tbody>\n",
              "</table>\n",
              "</div>\n",
              "      <button class=\"colab-df-convert\" onclick=\"convertToInteractive('df-37dbbdba-bec8-4e9a-8bc9-66139176c1d1')\"\n",
              "              title=\"Convert this dataframe to an interactive table.\"\n",
              "              style=\"display:none;\">\n",
              "        \n",
              "  <svg xmlns=\"http://www.w3.org/2000/svg\" height=\"24px\"viewBox=\"0 0 24 24\"\n",
              "       width=\"24px\">\n",
              "    <path d=\"M0 0h24v24H0V0z\" fill=\"none\"/>\n",
              "    <path d=\"M18.56 5.44l.94 2.06.94-2.06 2.06-.94-2.06-.94-.94-2.06-.94 2.06-2.06.94zm-11 1L8.5 8.5l.94-2.06 2.06-.94-2.06-.94L8.5 2.5l-.94 2.06-2.06.94zm10 10l.94 2.06.94-2.06 2.06-.94-2.06-.94-.94-2.06-.94 2.06-2.06.94z\"/><path d=\"M17.41 7.96l-1.37-1.37c-.4-.4-.92-.59-1.43-.59-.52 0-1.04.2-1.43.59L10.3 9.45l-7.72 7.72c-.78.78-.78 2.05 0 2.83L4 21.41c.39.39.9.59 1.41.59.51 0 1.02-.2 1.41-.59l7.78-7.78 2.81-2.81c.8-.78.8-2.07 0-2.86zM5.41 20L4 18.59l7.72-7.72 1.47 1.35L5.41 20z\"/>\n",
              "  </svg>\n",
              "      </button>\n",
              "      \n",
              "  <style>\n",
              "    .colab-df-container {\n",
              "      display:flex;\n",
              "      flex-wrap:wrap;\n",
              "      gap: 12px;\n",
              "    }\n",
              "\n",
              "    .colab-df-convert {\n",
              "      background-color: #E8F0FE;\n",
              "      border: none;\n",
              "      border-radius: 50%;\n",
              "      cursor: pointer;\n",
              "      display: none;\n",
              "      fill: #1967D2;\n",
              "      height: 32px;\n",
              "      padding: 0 0 0 0;\n",
              "      width: 32px;\n",
              "    }\n",
              "\n",
              "    .colab-df-convert:hover {\n",
              "      background-color: #E2EBFA;\n",
              "      box-shadow: 0px 1px 2px rgba(60, 64, 67, 0.3), 0px 1px 3px 1px rgba(60, 64, 67, 0.15);\n",
              "      fill: #174EA6;\n",
              "    }\n",
              "\n",
              "    [theme=dark] .colab-df-convert {\n",
              "      background-color: #3B4455;\n",
              "      fill: #D2E3FC;\n",
              "    }\n",
              "\n",
              "    [theme=dark] .colab-df-convert:hover {\n",
              "      background-color: #434B5C;\n",
              "      box-shadow: 0px 1px 3px 1px rgba(0, 0, 0, 0.15);\n",
              "      filter: drop-shadow(0px 1px 2px rgba(0, 0, 0, 0.3));\n",
              "      fill: #FFFFFF;\n",
              "    }\n",
              "  </style>\n",
              "\n",
              "      <script>\n",
              "        const buttonEl =\n",
              "          document.querySelector('#df-37dbbdba-bec8-4e9a-8bc9-66139176c1d1 button.colab-df-convert');\n",
              "        buttonEl.style.display =\n",
              "          google.colab.kernel.accessAllowed ? 'block' : 'none';\n",
              "\n",
              "        async function convertToInteractive(key) {\n",
              "          const element = document.querySelector('#df-37dbbdba-bec8-4e9a-8bc9-66139176c1d1');\n",
              "          const dataTable =\n",
              "            await google.colab.kernel.invokeFunction('convertToInteractive',\n",
              "                                                     [key], {});\n",
              "          if (!dataTable) return;\n",
              "\n",
              "          const docLinkHtml = 'Like what you see? Visit the ' +\n",
              "            '<a target=\"_blank\" href=https://colab.research.google.com/notebooks/data_table.ipynb>data table notebook</a>'\n",
              "            + ' to learn more about interactive tables.';\n",
              "          element.innerHTML = '';\n",
              "          dataTable['output_type'] = 'display_data';\n",
              "          await google.colab.output.renderOutput(dataTable, element);\n",
              "          const docLink = document.createElement('div');\n",
              "          docLink.innerHTML = docLinkHtml;\n",
              "          element.appendChild(docLink);\n",
              "        }\n",
              "      </script>\n",
              "    </div>\n",
              "  </div>\n",
              "  "
            ],
            "text/plain": [
              "         survived      pclass         age       sibsp       parch        fare\n",
              "count  891.000000  891.000000  714.000000  891.000000  891.000000  891.000000\n",
              "mean     0.383838    2.308642   29.699118    0.523008    0.381594   32.204208\n",
              "std      0.486592    0.836071   14.526497    1.102743    0.806057   49.693429\n",
              "min      0.000000    1.000000    0.420000    0.000000    0.000000    0.000000\n",
              "25%      0.000000    2.000000   20.125000    0.000000    0.000000    7.910400\n",
              "50%      0.000000    3.000000   28.000000    0.000000    0.000000   14.454200\n",
              "75%      1.000000    3.000000   38.000000    1.000000    0.000000   31.000000\n",
              "max      1.000000    3.000000   80.000000    8.000000    6.000000  512.329200"
            ]
          },
          "metadata": {},
          "execution_count": 7
        }
      ]
    },
    {
      "cell_type": "markdown",
      "metadata": {
        "id": "n-ahAqom8gNg"
      },
      "source": [
        "\\- 데이터 정보"
      ]
    },
    {
      "cell_type": "code",
      "metadata": {
        "colab": {
          "base_uri": "https://localhost:8080/"
        },
        "id": "8aQW48pP8GpB",
        "outputId": "03e128a3-3b83-4548-a913-29771af03cb2"
      },
      "source": [
        "df.info()"
      ],
      "execution_count": 8,
      "outputs": [
        {
          "output_type": "stream",
          "name": "stdout",
          "text": [
            "<class 'pandas.core.frame.DataFrame'>\n",
            "RangeIndex: 891 entries, 0 to 890\n",
            "Data columns (total 15 columns):\n",
            " #   Column       Non-Null Count  Dtype   \n",
            "---  ------       --------------  -----   \n",
            " 0   survived     891 non-null    int64   \n",
            " 1   pclass       891 non-null    int64   \n",
            " 2   sex          891 non-null    object  \n",
            " 3   age          714 non-null    float64 \n",
            " 4   sibsp        891 non-null    int64   \n",
            " 5   parch        891 non-null    int64   \n",
            " 6   fare         891 non-null    float64 \n",
            " 7   embarked     889 non-null    object  \n",
            " 8   class        891 non-null    category\n",
            " 9   who          891 non-null    object  \n",
            " 10  adult_male   891 non-null    bool    \n",
            " 11  deck         203 non-null    category\n",
            " 12  embark_town  889 non-null    object  \n",
            " 13  alive        891 non-null    object  \n",
            " 14  alone        891 non-null    bool    \n",
            "dtypes: bool(2), category(2), float64(2), int64(4), object(5)\n",
            "memory usage: 80.7+ KB\n"
          ]
        }
      ]
    },
    {
      "cell_type": "markdown",
      "metadata": {
        "id": "CcOQbYKMB9pO"
      },
      "source": [
        "\\- 문제 : 처음부터 800번까지의 데이터를 학습 데이터로 이용하고, 나머지 데이터를 테스트 데이터로 이용하여 모델간의 결과를 비교하여라."
      ]
    },
    {
      "cell_type": "code",
      "metadata": {
        "id": "-2WiDjcT8KQ3"
      },
      "source": [
        "train_df = df[:800]\n",
        "test_df = df[800:]"
      ],
      "execution_count": 9,
      "outputs": []
    },
    {
      "cell_type": "code",
      "metadata": {
        "colab": {
          "base_uri": "https://localhost:8080/"
        },
        "id": "70D0049788iT",
        "outputId": "6fc80e11-3310-417c-989e-507343c327b5"
      },
      "source": [
        "print(len(train_df))\n",
        "print(len(test_df))"
      ],
      "execution_count": 10,
      "outputs": [
        {
          "output_type": "stream",
          "name": "stdout",
          "text": [
            "800\n",
            "91\n"
          ]
        }
      ]
    },
    {
      "cell_type": "markdown",
      "metadata": {
        "id": "4vKLQpU6CvsD"
      },
      "source": [
        "\\- pclass 와 survived 의 관계(관계 있음)"
      ]
    },
    {
      "cell_type": "code",
      "metadata": {
        "colab": {
          "base_uri": "https://localhost:8080/",
          "height": 143
        },
        "id": "3grWQfn2CeJW",
        "outputId": "8a8406f7-a614-4c49-b7e0-30a53ec33840"
      },
      "source": [
        "train_df[['pclass', 'survived']].groupby(['pclass'], as_index=False).mean().sort_values(by='survived', ascending=False)\n",
        "# mean()은 평균"
      ],
      "execution_count": 11,
      "outputs": [
        {
          "output_type": "execute_result",
          "data": {
            "text/html": [
              "\n",
              "  <div id=\"df-ebae3d6d-6a4e-4bb8-ab1f-42127e473f27\">\n",
              "    <div class=\"colab-df-container\">\n",
              "      <div>\n",
              "<style scoped>\n",
              "    .dataframe tbody tr th:only-of-type {\n",
              "        vertical-align: middle;\n",
              "    }\n",
              "\n",
              "    .dataframe tbody tr th {\n",
              "        vertical-align: top;\n",
              "    }\n",
              "\n",
              "    .dataframe thead th {\n",
              "        text-align: right;\n",
              "    }\n",
              "</style>\n",
              "<table border=\"1\" class=\"dataframe\">\n",
              "  <thead>\n",
              "    <tr style=\"text-align: right;\">\n",
              "      <th></th>\n",
              "      <th>pclass</th>\n",
              "      <th>survived</th>\n",
              "    </tr>\n",
              "  </thead>\n",
              "  <tbody>\n",
              "    <tr>\n",
              "      <th>0</th>\n",
              "      <td>1</td>\n",
              "      <td>0.615385</td>\n",
              "    </tr>\n",
              "    <tr>\n",
              "      <th>1</th>\n",
              "      <td>2</td>\n",
              "      <td>0.481928</td>\n",
              "    </tr>\n",
              "    <tr>\n",
              "      <th>2</th>\n",
              "      <td>3</td>\n",
              "      <td>0.246014</td>\n",
              "    </tr>\n",
              "  </tbody>\n",
              "</table>\n",
              "</div>\n",
              "      <button class=\"colab-df-convert\" onclick=\"convertToInteractive('df-ebae3d6d-6a4e-4bb8-ab1f-42127e473f27')\"\n",
              "              title=\"Convert this dataframe to an interactive table.\"\n",
              "              style=\"display:none;\">\n",
              "        \n",
              "  <svg xmlns=\"http://www.w3.org/2000/svg\" height=\"24px\"viewBox=\"0 0 24 24\"\n",
              "       width=\"24px\">\n",
              "    <path d=\"M0 0h24v24H0V0z\" fill=\"none\"/>\n",
              "    <path d=\"M18.56 5.44l.94 2.06.94-2.06 2.06-.94-2.06-.94-.94-2.06-.94 2.06-2.06.94zm-11 1L8.5 8.5l.94-2.06 2.06-.94-2.06-.94L8.5 2.5l-.94 2.06-2.06.94zm10 10l.94 2.06.94-2.06 2.06-.94-2.06-.94-.94-2.06-.94 2.06-2.06.94z\"/><path d=\"M17.41 7.96l-1.37-1.37c-.4-.4-.92-.59-1.43-.59-.52 0-1.04.2-1.43.59L10.3 9.45l-7.72 7.72c-.78.78-.78 2.05 0 2.83L4 21.41c.39.39.9.59 1.41.59.51 0 1.02-.2 1.41-.59l7.78-7.78 2.81-2.81c.8-.78.8-2.07 0-2.86zM5.41 20L4 18.59l7.72-7.72 1.47 1.35L5.41 20z\"/>\n",
              "  </svg>\n",
              "      </button>\n",
              "      \n",
              "  <style>\n",
              "    .colab-df-container {\n",
              "      display:flex;\n",
              "      flex-wrap:wrap;\n",
              "      gap: 12px;\n",
              "    }\n",
              "\n",
              "    .colab-df-convert {\n",
              "      background-color: #E8F0FE;\n",
              "      border: none;\n",
              "      border-radius: 50%;\n",
              "      cursor: pointer;\n",
              "      display: none;\n",
              "      fill: #1967D2;\n",
              "      height: 32px;\n",
              "      padding: 0 0 0 0;\n",
              "      width: 32px;\n",
              "    }\n",
              "\n",
              "    .colab-df-convert:hover {\n",
              "      background-color: #E2EBFA;\n",
              "      box-shadow: 0px 1px 2px rgba(60, 64, 67, 0.3), 0px 1px 3px 1px rgba(60, 64, 67, 0.15);\n",
              "      fill: #174EA6;\n",
              "    }\n",
              "\n",
              "    [theme=dark] .colab-df-convert {\n",
              "      background-color: #3B4455;\n",
              "      fill: #D2E3FC;\n",
              "    }\n",
              "\n",
              "    [theme=dark] .colab-df-convert:hover {\n",
              "      background-color: #434B5C;\n",
              "      box-shadow: 0px 1px 3px 1px rgba(0, 0, 0, 0.15);\n",
              "      filter: drop-shadow(0px 1px 2px rgba(0, 0, 0, 0.3));\n",
              "      fill: #FFFFFF;\n",
              "    }\n",
              "  </style>\n",
              "\n",
              "      <script>\n",
              "        const buttonEl =\n",
              "          document.querySelector('#df-ebae3d6d-6a4e-4bb8-ab1f-42127e473f27 button.colab-df-convert');\n",
              "        buttonEl.style.display =\n",
              "          google.colab.kernel.accessAllowed ? 'block' : 'none';\n",
              "\n",
              "        async function convertToInteractive(key) {\n",
              "          const element = document.querySelector('#df-ebae3d6d-6a4e-4bb8-ab1f-42127e473f27');\n",
              "          const dataTable =\n",
              "            await google.colab.kernel.invokeFunction('convertToInteractive',\n",
              "                                                     [key], {});\n",
              "          if (!dataTable) return;\n",
              "\n",
              "          const docLinkHtml = 'Like what you see? Visit the ' +\n",
              "            '<a target=\"_blank\" href=https://colab.research.google.com/notebooks/data_table.ipynb>data table notebook</a>'\n",
              "            + ' to learn more about interactive tables.';\n",
              "          element.innerHTML = '';\n",
              "          dataTable['output_type'] = 'display_data';\n",
              "          await google.colab.output.renderOutput(dataTable, element);\n",
              "          const docLink = document.createElement('div');\n",
              "          docLink.innerHTML = docLinkHtml;\n",
              "          element.appendChild(docLink);\n",
              "        }\n",
              "      </script>\n",
              "    </div>\n",
              "  </div>\n",
              "  "
            ],
            "text/plain": [
              "   pclass  survived\n",
              "0       1  0.615385\n",
              "1       2  0.481928\n",
              "2       3  0.246014"
            ]
          },
          "metadata": {},
          "execution_count": 11
        }
      ]
    },
    {
      "cell_type": "markdown",
      "metadata": {
        "id": "xwUsepmwDL4c"
      },
      "source": [
        "\\- sex 와 survived 의 관계(관계 있음)"
      ]
    },
    {
      "cell_type": "code",
      "metadata": {
        "colab": {
          "base_uri": "https://localhost:8080/",
          "height": 112
        },
        "id": "D3A5x-hCC740",
        "outputId": "d7a44bc0-e2ef-4858-82d3-a2fcc95377a6"
      },
      "source": [
        "train_df[[\"sex\", \"survived\"]].groupby(['sex'], as_index=False).mean().sort_values(by='survived', ascending=False)"
      ],
      "execution_count": 12,
      "outputs": [
        {
          "output_type": "execute_result",
          "data": {
            "text/html": [
              "\n",
              "  <div id=\"df-0a230b18-6e6c-4797-a39e-f488323a2319\">\n",
              "    <div class=\"colab-df-container\">\n",
              "      <div>\n",
              "<style scoped>\n",
              "    .dataframe tbody tr th:only-of-type {\n",
              "        vertical-align: middle;\n",
              "    }\n",
              "\n",
              "    .dataframe tbody tr th {\n",
              "        vertical-align: top;\n",
              "    }\n",
              "\n",
              "    .dataframe thead th {\n",
              "        text-align: right;\n",
              "    }\n",
              "</style>\n",
              "<table border=\"1\" class=\"dataframe\">\n",
              "  <thead>\n",
              "    <tr style=\"text-align: right;\">\n",
              "      <th></th>\n",
              "      <th>sex</th>\n",
              "      <th>survived</th>\n",
              "    </tr>\n",
              "  </thead>\n",
              "  <tbody>\n",
              "    <tr>\n",
              "      <th>0</th>\n",
              "      <td>female</td>\n",
              "      <td>0.745583</td>\n",
              "    </tr>\n",
              "    <tr>\n",
              "      <th>1</th>\n",
              "      <td>male</td>\n",
              "      <td>0.187621</td>\n",
              "    </tr>\n",
              "  </tbody>\n",
              "</table>\n",
              "</div>\n",
              "      <button class=\"colab-df-convert\" onclick=\"convertToInteractive('df-0a230b18-6e6c-4797-a39e-f488323a2319')\"\n",
              "              title=\"Convert this dataframe to an interactive table.\"\n",
              "              style=\"display:none;\">\n",
              "        \n",
              "  <svg xmlns=\"http://www.w3.org/2000/svg\" height=\"24px\"viewBox=\"0 0 24 24\"\n",
              "       width=\"24px\">\n",
              "    <path d=\"M0 0h24v24H0V0z\" fill=\"none\"/>\n",
              "    <path d=\"M18.56 5.44l.94 2.06.94-2.06 2.06-.94-2.06-.94-.94-2.06-.94 2.06-2.06.94zm-11 1L8.5 8.5l.94-2.06 2.06-.94-2.06-.94L8.5 2.5l-.94 2.06-2.06.94zm10 10l.94 2.06.94-2.06 2.06-.94-2.06-.94-.94-2.06-.94 2.06-2.06.94z\"/><path d=\"M17.41 7.96l-1.37-1.37c-.4-.4-.92-.59-1.43-.59-.52 0-1.04.2-1.43.59L10.3 9.45l-7.72 7.72c-.78.78-.78 2.05 0 2.83L4 21.41c.39.39.9.59 1.41.59.51 0 1.02-.2 1.41-.59l7.78-7.78 2.81-2.81c.8-.78.8-2.07 0-2.86zM5.41 20L4 18.59l7.72-7.72 1.47 1.35L5.41 20z\"/>\n",
              "  </svg>\n",
              "      </button>\n",
              "      \n",
              "  <style>\n",
              "    .colab-df-container {\n",
              "      display:flex;\n",
              "      flex-wrap:wrap;\n",
              "      gap: 12px;\n",
              "    }\n",
              "\n",
              "    .colab-df-convert {\n",
              "      background-color: #E8F0FE;\n",
              "      border: none;\n",
              "      border-radius: 50%;\n",
              "      cursor: pointer;\n",
              "      display: none;\n",
              "      fill: #1967D2;\n",
              "      height: 32px;\n",
              "      padding: 0 0 0 0;\n",
              "      width: 32px;\n",
              "    }\n",
              "\n",
              "    .colab-df-convert:hover {\n",
              "      background-color: #E2EBFA;\n",
              "      box-shadow: 0px 1px 2px rgba(60, 64, 67, 0.3), 0px 1px 3px 1px rgba(60, 64, 67, 0.15);\n",
              "      fill: #174EA6;\n",
              "    }\n",
              "\n",
              "    [theme=dark] .colab-df-convert {\n",
              "      background-color: #3B4455;\n",
              "      fill: #D2E3FC;\n",
              "    }\n",
              "\n",
              "    [theme=dark] .colab-df-convert:hover {\n",
              "      background-color: #434B5C;\n",
              "      box-shadow: 0px 1px 3px 1px rgba(0, 0, 0, 0.15);\n",
              "      filter: drop-shadow(0px 1px 2px rgba(0, 0, 0, 0.3));\n",
              "      fill: #FFFFFF;\n",
              "    }\n",
              "  </style>\n",
              "\n",
              "      <script>\n",
              "        const buttonEl =\n",
              "          document.querySelector('#df-0a230b18-6e6c-4797-a39e-f488323a2319 button.colab-df-convert');\n",
              "        buttonEl.style.display =\n",
              "          google.colab.kernel.accessAllowed ? 'block' : 'none';\n",
              "\n",
              "        async function convertToInteractive(key) {\n",
              "          const element = document.querySelector('#df-0a230b18-6e6c-4797-a39e-f488323a2319');\n",
              "          const dataTable =\n",
              "            await google.colab.kernel.invokeFunction('convertToInteractive',\n",
              "                                                     [key], {});\n",
              "          if (!dataTable) return;\n",
              "\n",
              "          const docLinkHtml = 'Like what you see? Visit the ' +\n",
              "            '<a target=\"_blank\" href=https://colab.research.google.com/notebooks/data_table.ipynb>data table notebook</a>'\n",
              "            + ' to learn more about interactive tables.';\n",
              "          element.innerHTML = '';\n",
              "          dataTable['output_type'] = 'display_data';\n",
              "          await google.colab.output.renderOutput(dataTable, element);\n",
              "          const docLink = document.createElement('div');\n",
              "          docLink.innerHTML = docLinkHtml;\n",
              "          element.appendChild(docLink);\n",
              "        }\n",
              "      </script>\n",
              "    </div>\n",
              "  </div>\n",
              "  "
            ],
            "text/plain": [
              "      sex  survived\n",
              "0  female  0.745583\n",
              "1    male  0.187621"
            ]
          },
          "metadata": {},
          "execution_count": 12
        }
      ]
    },
    {
      "cell_type": "markdown",
      "metadata": {
        "id": "BIHQ4C7pDd9T"
      },
      "source": [
        "\\- parch 와 survived 의 관계(관계가 적음)"
      ]
    },
    {
      "cell_type": "code",
      "metadata": {
        "colab": {
          "base_uri": "https://localhost:8080/",
          "height": 269
        },
        "id": "1Ljn__GbDYPa",
        "outputId": "91648b3e-8aff-483a-a91c-5a274847f0a7"
      },
      "source": [
        "# 참고. parch는 부모/자녀의 수\n",
        "train_df[[\"parch\", \"survived\"]].groupby(['parch'], as_index=False).mean().sort_values(by='survived', ascending=False)"
      ],
      "execution_count": 13,
      "outputs": [
        {
          "output_type": "execute_result",
          "data": {
            "text/html": [
              "\n",
              "  <div id=\"df-02a69c2b-2534-4746-9c98-f1001cc55458\">\n",
              "    <div class=\"colab-df-container\">\n",
              "      <div>\n",
              "<style scoped>\n",
              "    .dataframe tbody tr th:only-of-type {\n",
              "        vertical-align: middle;\n",
              "    }\n",
              "\n",
              "    .dataframe tbody tr th {\n",
              "        vertical-align: top;\n",
              "    }\n",
              "\n",
              "    .dataframe thead th {\n",
              "        text-align: right;\n",
              "    }\n",
              "</style>\n",
              "<table border=\"1\" class=\"dataframe\">\n",
              "  <thead>\n",
              "    <tr style=\"text-align: right;\">\n",
              "      <th></th>\n",
              "      <th>parch</th>\n",
              "      <th>survived</th>\n",
              "    </tr>\n",
              "  </thead>\n",
              "  <tbody>\n",
              "    <tr>\n",
              "      <th>2</th>\n",
              "      <td>2</td>\n",
              "      <td>0.527778</td>\n",
              "    </tr>\n",
              "    <tr>\n",
              "      <th>1</th>\n",
              "      <td>1</td>\n",
              "      <td>0.514851</td>\n",
              "    </tr>\n",
              "    <tr>\n",
              "      <th>3</th>\n",
              "      <td>3</td>\n",
              "      <td>0.500000</td>\n",
              "    </tr>\n",
              "    <tr>\n",
              "      <th>0</th>\n",
              "      <td>0</td>\n",
              "      <td>0.350163</td>\n",
              "    </tr>\n",
              "    <tr>\n",
              "      <th>5</th>\n",
              "      <td>5</td>\n",
              "      <td>0.250000</td>\n",
              "    </tr>\n",
              "    <tr>\n",
              "      <th>4</th>\n",
              "      <td>4</td>\n",
              "      <td>0.000000</td>\n",
              "    </tr>\n",
              "    <tr>\n",
              "      <th>6</th>\n",
              "      <td>6</td>\n",
              "      <td>0.000000</td>\n",
              "    </tr>\n",
              "  </tbody>\n",
              "</table>\n",
              "</div>\n",
              "      <button class=\"colab-df-convert\" onclick=\"convertToInteractive('df-02a69c2b-2534-4746-9c98-f1001cc55458')\"\n",
              "              title=\"Convert this dataframe to an interactive table.\"\n",
              "              style=\"display:none;\">\n",
              "        \n",
              "  <svg xmlns=\"http://www.w3.org/2000/svg\" height=\"24px\"viewBox=\"0 0 24 24\"\n",
              "       width=\"24px\">\n",
              "    <path d=\"M0 0h24v24H0V0z\" fill=\"none\"/>\n",
              "    <path d=\"M18.56 5.44l.94 2.06.94-2.06 2.06-.94-2.06-.94-.94-2.06-.94 2.06-2.06.94zm-11 1L8.5 8.5l.94-2.06 2.06-.94-2.06-.94L8.5 2.5l-.94 2.06-2.06.94zm10 10l.94 2.06.94-2.06 2.06-.94-2.06-.94-.94-2.06-.94 2.06-2.06.94z\"/><path d=\"M17.41 7.96l-1.37-1.37c-.4-.4-.92-.59-1.43-.59-.52 0-1.04.2-1.43.59L10.3 9.45l-7.72 7.72c-.78.78-.78 2.05 0 2.83L4 21.41c.39.39.9.59 1.41.59.51 0 1.02-.2 1.41-.59l7.78-7.78 2.81-2.81c.8-.78.8-2.07 0-2.86zM5.41 20L4 18.59l7.72-7.72 1.47 1.35L5.41 20z\"/>\n",
              "  </svg>\n",
              "      </button>\n",
              "      \n",
              "  <style>\n",
              "    .colab-df-container {\n",
              "      display:flex;\n",
              "      flex-wrap:wrap;\n",
              "      gap: 12px;\n",
              "    }\n",
              "\n",
              "    .colab-df-convert {\n",
              "      background-color: #E8F0FE;\n",
              "      border: none;\n",
              "      border-radius: 50%;\n",
              "      cursor: pointer;\n",
              "      display: none;\n",
              "      fill: #1967D2;\n",
              "      height: 32px;\n",
              "      padding: 0 0 0 0;\n",
              "      width: 32px;\n",
              "    }\n",
              "\n",
              "    .colab-df-convert:hover {\n",
              "      background-color: #E2EBFA;\n",
              "      box-shadow: 0px 1px 2px rgba(60, 64, 67, 0.3), 0px 1px 3px 1px rgba(60, 64, 67, 0.15);\n",
              "      fill: #174EA6;\n",
              "    }\n",
              "\n",
              "    [theme=dark] .colab-df-convert {\n",
              "      background-color: #3B4455;\n",
              "      fill: #D2E3FC;\n",
              "    }\n",
              "\n",
              "    [theme=dark] .colab-df-convert:hover {\n",
              "      background-color: #434B5C;\n",
              "      box-shadow: 0px 1px 3px 1px rgba(0, 0, 0, 0.15);\n",
              "      filter: drop-shadow(0px 1px 2px rgba(0, 0, 0, 0.3));\n",
              "      fill: #FFFFFF;\n",
              "    }\n",
              "  </style>\n",
              "\n",
              "      <script>\n",
              "        const buttonEl =\n",
              "          document.querySelector('#df-02a69c2b-2534-4746-9c98-f1001cc55458 button.colab-df-convert');\n",
              "        buttonEl.style.display =\n",
              "          google.colab.kernel.accessAllowed ? 'block' : 'none';\n",
              "\n",
              "        async function convertToInteractive(key) {\n",
              "          const element = document.querySelector('#df-02a69c2b-2534-4746-9c98-f1001cc55458');\n",
              "          const dataTable =\n",
              "            await google.colab.kernel.invokeFunction('convertToInteractive',\n",
              "                                                     [key], {});\n",
              "          if (!dataTable) return;\n",
              "\n",
              "          const docLinkHtml = 'Like what you see? Visit the ' +\n",
              "            '<a target=\"_blank\" href=https://colab.research.google.com/notebooks/data_table.ipynb>data table notebook</a>'\n",
              "            + ' to learn more about interactive tables.';\n",
              "          element.innerHTML = '';\n",
              "          dataTable['output_type'] = 'display_data';\n",
              "          await google.colab.output.renderOutput(dataTable, element);\n",
              "          const docLink = document.createElement('div');\n",
              "          docLink.innerHTML = docLinkHtml;\n",
              "          element.appendChild(docLink);\n",
              "        }\n",
              "      </script>\n",
              "    </div>\n",
              "  </div>\n",
              "  "
            ],
            "text/plain": [
              "   parch  survived\n",
              "2      2  0.527778\n",
              "1      1  0.514851\n",
              "3      3  0.500000\n",
              "0      0  0.350163\n",
              "5      5  0.250000\n",
              "4      4  0.000000\n",
              "6      6  0.000000"
            ]
          },
          "metadata": {},
          "execution_count": 13
        }
      ]
    },
    {
      "cell_type": "markdown",
      "metadata": {
        "id": "aQyEmv7uEF2g"
      },
      "source": [
        "\\- sibsp 와 survived 의 관계(관계가 적음)"
      ]
    },
    {
      "cell_type": "code",
      "metadata": {
        "colab": {
          "base_uri": "https://localhost:8080/",
          "height": 269
        },
        "id": "QP18HFDGDqxd",
        "outputId": "09631a43-2b40-45c1-a243-928ed22f9f94"
      },
      "source": [
        "# 참고. sibsp는 자매/배우자 의 수\n",
        "train_df[[\"sibsp\", \"survived\"]].groupby(['sibsp'], as_index=False).mean().sort_values(by='survived', ascending=False)"
      ],
      "execution_count": 14,
      "outputs": [
        {
          "output_type": "execute_result",
          "data": {
            "text/html": [
              "\n",
              "  <div id=\"df-762320ee-a0f5-4609-ac87-c56d7d84b088\">\n",
              "    <div class=\"colab-df-container\">\n",
              "      <div>\n",
              "<style scoped>\n",
              "    .dataframe tbody tr th:only-of-type {\n",
              "        vertical-align: middle;\n",
              "    }\n",
              "\n",
              "    .dataframe tbody tr th {\n",
              "        vertical-align: top;\n",
              "    }\n",
              "\n",
              "    .dataframe thead th {\n",
              "        text-align: right;\n",
              "    }\n",
              "</style>\n",
              "<table border=\"1\" class=\"dataframe\">\n",
              "  <thead>\n",
              "    <tr style=\"text-align: right;\">\n",
              "      <th></th>\n",
              "      <th>sibsp</th>\n",
              "      <th>survived</th>\n",
              "    </tr>\n",
              "  </thead>\n",
              "  <tbody>\n",
              "    <tr>\n",
              "      <th>1</th>\n",
              "      <td>1</td>\n",
              "      <td>0.518325</td>\n",
              "    </tr>\n",
              "    <tr>\n",
              "      <th>2</th>\n",
              "      <td>2</td>\n",
              "      <td>0.481481</td>\n",
              "    </tr>\n",
              "    <tr>\n",
              "      <th>0</th>\n",
              "      <td>0</td>\n",
              "      <td>0.348708</td>\n",
              "    </tr>\n",
              "    <tr>\n",
              "      <th>3</th>\n",
              "      <td>3</td>\n",
              "      <td>0.266667</td>\n",
              "    </tr>\n",
              "    <tr>\n",
              "      <th>4</th>\n",
              "      <td>4</td>\n",
              "      <td>0.200000</td>\n",
              "    </tr>\n",
              "    <tr>\n",
              "      <th>5</th>\n",
              "      <td>5</td>\n",
              "      <td>0.000000</td>\n",
              "    </tr>\n",
              "    <tr>\n",
              "      <th>6</th>\n",
              "      <td>8</td>\n",
              "      <td>0.000000</td>\n",
              "    </tr>\n",
              "  </tbody>\n",
              "</table>\n",
              "</div>\n",
              "      <button class=\"colab-df-convert\" onclick=\"convertToInteractive('df-762320ee-a0f5-4609-ac87-c56d7d84b088')\"\n",
              "              title=\"Convert this dataframe to an interactive table.\"\n",
              "              style=\"display:none;\">\n",
              "        \n",
              "  <svg xmlns=\"http://www.w3.org/2000/svg\" height=\"24px\"viewBox=\"0 0 24 24\"\n",
              "       width=\"24px\">\n",
              "    <path d=\"M0 0h24v24H0V0z\" fill=\"none\"/>\n",
              "    <path d=\"M18.56 5.44l.94 2.06.94-2.06 2.06-.94-2.06-.94-.94-2.06-.94 2.06-2.06.94zm-11 1L8.5 8.5l.94-2.06 2.06-.94-2.06-.94L8.5 2.5l-.94 2.06-2.06.94zm10 10l.94 2.06.94-2.06 2.06-.94-2.06-.94-.94-2.06-.94 2.06-2.06.94z\"/><path d=\"M17.41 7.96l-1.37-1.37c-.4-.4-.92-.59-1.43-.59-.52 0-1.04.2-1.43.59L10.3 9.45l-7.72 7.72c-.78.78-.78 2.05 0 2.83L4 21.41c.39.39.9.59 1.41.59.51 0 1.02-.2 1.41-.59l7.78-7.78 2.81-2.81c.8-.78.8-2.07 0-2.86zM5.41 20L4 18.59l7.72-7.72 1.47 1.35L5.41 20z\"/>\n",
              "  </svg>\n",
              "      </button>\n",
              "      \n",
              "  <style>\n",
              "    .colab-df-container {\n",
              "      display:flex;\n",
              "      flex-wrap:wrap;\n",
              "      gap: 12px;\n",
              "    }\n",
              "\n",
              "    .colab-df-convert {\n",
              "      background-color: #E8F0FE;\n",
              "      border: none;\n",
              "      border-radius: 50%;\n",
              "      cursor: pointer;\n",
              "      display: none;\n",
              "      fill: #1967D2;\n",
              "      height: 32px;\n",
              "      padding: 0 0 0 0;\n",
              "      width: 32px;\n",
              "    }\n",
              "\n",
              "    .colab-df-convert:hover {\n",
              "      background-color: #E2EBFA;\n",
              "      box-shadow: 0px 1px 2px rgba(60, 64, 67, 0.3), 0px 1px 3px 1px rgba(60, 64, 67, 0.15);\n",
              "      fill: #174EA6;\n",
              "    }\n",
              "\n",
              "    [theme=dark] .colab-df-convert {\n",
              "      background-color: #3B4455;\n",
              "      fill: #D2E3FC;\n",
              "    }\n",
              "\n",
              "    [theme=dark] .colab-df-convert:hover {\n",
              "      background-color: #434B5C;\n",
              "      box-shadow: 0px 1px 3px 1px rgba(0, 0, 0, 0.15);\n",
              "      filter: drop-shadow(0px 1px 2px rgba(0, 0, 0, 0.3));\n",
              "      fill: #FFFFFF;\n",
              "    }\n",
              "  </style>\n",
              "\n",
              "      <script>\n",
              "        const buttonEl =\n",
              "          document.querySelector('#df-762320ee-a0f5-4609-ac87-c56d7d84b088 button.colab-df-convert');\n",
              "        buttonEl.style.display =\n",
              "          google.colab.kernel.accessAllowed ? 'block' : 'none';\n",
              "\n",
              "        async function convertToInteractive(key) {\n",
              "          const element = document.querySelector('#df-762320ee-a0f5-4609-ac87-c56d7d84b088');\n",
              "          const dataTable =\n",
              "            await google.colab.kernel.invokeFunction('convertToInteractive',\n",
              "                                                     [key], {});\n",
              "          if (!dataTable) return;\n",
              "\n",
              "          const docLinkHtml = 'Like what you see? Visit the ' +\n",
              "            '<a target=\"_blank\" href=https://colab.research.google.com/notebooks/data_table.ipynb>data table notebook</a>'\n",
              "            + ' to learn more about interactive tables.';\n",
              "          element.innerHTML = '';\n",
              "          dataTable['output_type'] = 'display_data';\n",
              "          await google.colab.output.renderOutput(dataTable, element);\n",
              "          const docLink = document.createElement('div');\n",
              "          docLink.innerHTML = docLinkHtml;\n",
              "          element.appendChild(docLink);\n",
              "        }\n",
              "      </script>\n",
              "    </div>\n",
              "  </div>\n",
              "  "
            ],
            "text/plain": [
              "   sibsp  survived\n",
              "1      1  0.518325\n",
              "2      2  0.481481\n",
              "0      0  0.348708\n",
              "3      3  0.266667\n",
              "4      4  0.200000\n",
              "5      5  0.000000\n",
              "6      8  0.000000"
            ]
          },
          "metadata": {},
          "execution_count": 14
        }
      ]
    },
    {
      "cell_type": "markdown",
      "metadata": {
        "id": "XpFXYDxaGnCo"
      },
      "source": [
        "\\- age 와 survived 의 관계"
      ]
    },
    {
      "cell_type": "code",
      "metadata": {
        "colab": {
          "base_uri": "https://localhost:8080/",
          "height": 297
        },
        "id": "z9KaDMywEEO8",
        "outputId": "be06740b-f0a9-4b8f-fd14-d0f5a25dc865"
      },
      "source": [
        "sns.histplot(data = train_df, x = 'age', bins = 20, hue = 'survived')"
      ],
      "execution_count": 15,
      "outputs": [
        {
          "output_type": "execute_result",
          "data": {
            "text/plain": [
              "<matplotlib.axes._subplots.AxesSubplot at 0x7f21c64c0310>"
            ]
          },
          "metadata": {},
          "execution_count": 15
        },
        {
          "output_type": "display_data",
          "data": {
            "image/png": "[encoded data removed]",
            "text/plain": [
              "<Figure size 432x288 with 1 Axes>"
            ]
          },
          "metadata": {
            "needs_background": "light"
          }
        }
      ]
    },
    {
      "cell_type": "code",
      "metadata": {
        "colab": {
          "base_uri": "https://localhost:8080/",
          "height": 243
        },
        "id": "Dc0MXNNnFrZY",
        "outputId": "0df73fe7-5eb6-4ead-f061-c53610adbca9"
      },
      "source": [
        "# FacetGrid : 그림 나누는 구간을 나눈다고 생각하면 될 듯\n",
        "a = sns.FacetGrid(train_df, col='survived')\n",
        "a.map(plt.hist, 'age', bins=20)"
      ],
      "execution_count": 16,
      "outputs": [
        {
          "output_type": "execute_result",
          "data": {
            "text/plain": [
              "<seaborn.axisgrid.FacetGrid at 0x7f21c5e6ad90>"
            ]
          },
          "metadata": {},
          "execution_count": 16
        },
        {
          "output_type": "display_data",
          "data": {
            "image/png": "[encoded data removed]",
            "text/plain": [
              "<Figure size 432x216 with 2 Axes>"
            ]
          },
          "metadata": {
            "needs_background": "light"
          }
        }
      ]
    },
    {
      "cell_type": "markdown",
      "metadata": {
        "id": "IicWi0N5GuK3"
      },
      "source": [
        "\\- pclass 에 따른 age 별 survived 유무"
      ]
    },
    {
      "cell_type": "code",
      "metadata": {
        "colab": {
          "base_uri": "https://localhost:8080/",
          "height": 675
        },
        "id": "TvtYDodmGa_3",
        "outputId": "467036c8-6362-44c7-ccc7-e97465900d1a"
      },
      "source": [
        "a = sns.FacetGrid(train_df, col='survived', row='pclass')\n",
        "a.map(plt.hist, 'age', bins=20)"
      ],
      "execution_count": 17,
      "outputs": [
        {
          "output_type": "execute_result",
          "data": {
            "text/plain": [
              "<seaborn.axisgrid.FacetGrid at 0x7f21bd8aea10>"
            ]
          },
          "metadata": {},
          "execution_count": 17
        },
        {
          "output_type": "display_data",
          "data": {
            "image/png": "[encoded data removed]",
            "text/plain": [
              "<Figure size 432x648 with 6 Axes>"
            ]
          },
          "metadata": {
            "needs_background": "light"
          }
        }
      ]
    },
    {
      "cell_type": "markdown",
      "metadata": {
        "id": "FiauJZqmH3Lh"
      },
      "source": [
        "\\- 필요없는 필드 삭제"
      ]
    },
    {
      "cell_type": "code",
      "metadata": {
        "colab": {
          "base_uri": "https://localhost:8080/"
        },
        "id": "HNcRe4eZI6nl",
        "outputId": "253d18f5-f971-493e-f829-ee1196797310"
      },
      "source": [
        "names = train_df.columns\n",
        "print(names)"
      ],
      "execution_count": 18,
      "outputs": [
        {
          "output_type": "stream",
          "name": "stdout",
          "text": [
            "Index(['survived', 'pclass', 'sex', 'age', 'sibsp', 'parch', 'fare',\n",
            "       'embarked', 'class', 'who', 'adult_male', 'deck', 'embark_town',\n",
            "       'alive', 'alone'],\n",
            "      dtype='object')\n"
          ]
        }
      ]
    },
    {
      "cell_type": "code",
      "metadata": {
        "id": "GQgkreGiHNgM"
      },
      "source": [
        "train_df = train_df.drop(names[4:], axis = 1)"
      ],
      "execution_count": 19,
      "outputs": []
    },
    {
      "cell_type": "code",
      "metadata": {
        "colab": {
          "base_uri": "https://localhost:8080/",
          "height": 206
        },
        "id": "E1F_20QEJIvr",
        "outputId": "2db04748-319f-4719-ccad-e906151492c1"
      },
      "source": [
        "train_df.head()"
      ],
      "execution_count": 20,
      "outputs": [
        {
          "output_type": "execute_result",
          "data": {
            "text/html": [
              "\n",
              "  <div id=\"df-4a3693f7-3e5f-47d3-b052-c9c246f54235\">\n",
              "    <div class=\"colab-df-container\">\n",
              "      <div>\n",
              "<style scoped>\n",
              "    .dataframe tbody tr th:only-of-type {\n",
              "        vertical-align: middle;\n",
              "    }\n",
              "\n",
              "    .dataframe tbody tr th {\n",
              "        vertical-align: top;\n",
              "    }\n",
              "\n",
              "    .dataframe thead th {\n",
              "        text-align: right;\n",
              "    }\n",
              "</style>\n",
              "<table border=\"1\" class=\"dataframe\">\n",
              "  <thead>\n",
              "    <tr style=\"text-align: right;\">\n",
              "      <th></th>\n",
              "      <th>survived</th>\n",
              "      <th>pclass</th>\n",
              "      <th>sex</th>\n",
              "      <th>age</th>\n",
              "    </tr>\n",
              "  </thead>\n",
              "  <tbody>\n",
              "    <tr>\n",
              "      <th>0</th>\n",
              "      <td>0</td>\n",
              "      <td>3</td>\n",
              "      <td>male</td>\n",
              "      <td>22.0</td>\n",
              "    </tr>\n",
              "    <tr>\n",
              "      <th>1</th>\n",
              "      <td>1</td>\n",
              "      <td>1</td>\n",
              "      <td>female</td>\n",
              "      <td>38.0</td>\n",
              "    </tr>\n",
              "    <tr>\n",
              "      <th>2</th>\n",
              "      <td>1</td>\n",
              "      <td>3</td>\n",
              "      <td>female</td>\n",
              "      <td>26.0</td>\n",
              "    </tr>\n",
              "    <tr>\n",
              "      <th>3</th>\n",
              "      <td>1</td>\n",
              "      <td>1</td>\n",
              "      <td>female</td>\n",
              "      <td>35.0</td>\n",
              "    </tr>\n",
              "    <tr>\n",
              "      <th>4</th>\n",
              "      <td>0</td>\n",
              "      <td>3</td>\n",
              "      <td>male</td>\n",
              "      <td>35.0</td>\n",
              "    </tr>\n",
              "  </tbody>\n",
              "</table>\n",
              "</div>\n",
              "      <button class=\"colab-df-convert\" onclick=\"convertToInteractive('df-4a3693f7-3e5f-47d3-b052-c9c246f54235')\"\n",
              "              title=\"Convert this dataframe to an interactive table.\"\n",
              "              style=\"display:none;\">\n",
              "        \n",
              "  <svg xmlns=\"http://www.w3.org/2000/svg\" height=\"24px\"viewBox=\"0 0 24 24\"\n",
              "       width=\"24px\">\n",
              "    <path d=\"M0 0h24v24H0V0z\" fill=\"none\"/>\n",
              "    <path d=\"M18.56 5.44l.94 2.06.94-2.06 2.06-.94-2.06-.94-.94-2.06-.94 2.06-2.06.94zm-11 1L8.5 8.5l.94-2.06 2.06-.94-2.06-.94L8.5 2.5l-.94 2.06-2.06.94zm10 10l.94 2.06.94-2.06 2.06-.94-2.06-.94-.94-2.06-.94 2.06-2.06.94z\"/><path d=\"M17.41 7.96l-1.37-1.37c-.4-.4-.92-.59-1.43-.59-.52 0-1.04.2-1.43.59L10.3 9.45l-7.72 7.72c-.78.78-.78 2.05 0 2.83L4 21.41c.39.39.9.59 1.41.59.51 0 1.02-.2 1.41-.59l7.78-7.78 2.81-2.81c.8-.78.8-2.07 0-2.86zM5.41 20L4 18.59l7.72-7.72 1.47 1.35L5.41 20z\"/>\n",
              "  </svg>\n",
              "      </button>\n",
              "      \n",
              "  <style>\n",
              "    .colab-df-container {\n",
              "      display:flex;\n",
              "      flex-wrap:wrap;\n",
              "      gap: 12px;\n",
              "    }\n",
              "\n",
              "    .colab-df-convert {\n",
              "      background-color: #E8F0FE;\n",
              "      border: none;\n",
              "      border-radius: 50%;\n",
              "      cursor: pointer;\n",
              "      display: none;\n",
              "      fill: #1967D2;\n",
              "      height: 32px;\n",
              "      padding: 0 0 0 0;\n",
              "      width: 32px;\n",
              "    }\n",
              "\n",
              "    .colab-df-convert:hover {\n",
              "      background-color: #E2EBFA;\n",
              "      box-shadow: 0px 1px 2px rgba(60, 64, 67, 0.3), 0px 1px 3px 1px rgba(60, 64, 67, 0.15);\n",
              "      fill: #174EA6;\n",
              "    }\n",
              "\n",
              "    [theme=dark] .colab-df-convert {\n",
              "      background-color: #3B4455;\n",
              "      fill: #D2E3FC;\n",
              "    }\n",
              "\n",
              "    [theme=dark] .colab-df-convert:hover {\n",
              "      background-color: #434B5C;\n",
              "      box-shadow: 0px 1px 3px 1px rgba(0, 0, 0, 0.15);\n",
              "      filter: drop-shadow(0px 1px 2px rgba(0, 0, 0, 0.3));\n",
              "      fill: #FFFFFF;\n",
              "    }\n",
              "  </style>\n",
              "\n",
              "      <script>\n",
              "        const buttonEl =\n",
              "          document.querySelector('#df-4a3693f7-3e5f-47d3-b052-c9c246f54235 button.colab-df-convert');\n",
              "        buttonEl.style.display =\n",
              "          google.colab.kernel.accessAllowed ? 'block' : 'none';\n",
              "\n",
              "        async function convertToInteractive(key) {\n",
              "          const element = document.querySelector('#df-4a3693f7-3e5f-47d3-b052-c9c246f54235');\n",
              "          const dataTable =\n",
              "            await google.colab.kernel.invokeFunction('convertToInteractive',\n",
              "                                                     [key], {});\n",
              "          if (!dataTable) return;\n",
              "\n",
              "          const docLinkHtml = 'Like what you see? Visit the ' +\n",
              "            '<a target=\"_blank\" href=https://colab.research.google.com/notebooks/data_table.ipynb>data table notebook</a>'\n",
              "            + ' to learn more about interactive tables.';\n",
              "          element.innerHTML = '';\n",
              "          dataTable['output_type'] = 'display_data';\n",
              "          await google.colab.output.renderOutput(dataTable, element);\n",
              "          const docLink = document.createElement('div');\n",
              "          docLink.innerHTML = docLinkHtml;\n",
              "          element.appendChild(docLink);\n",
              "        }\n",
              "      </script>\n",
              "    </div>\n",
              "  </div>\n",
              "  "
            ],
            "text/plain": [
              "   survived  pclass     sex   age\n",
              "0         0       3    male  22.0\n",
              "1         1       1  female  38.0\n",
              "2         1       3  female  26.0\n",
              "3         1       1  female  35.0\n",
              "4         0       3    male  35.0"
            ]
          },
          "metadata": {},
          "execution_count": 20
        }
      ]
    },
    {
      "cell_type": "code",
      "metadata": {
        "id": "bKFpJx1qJMA6"
      },
      "source": [
        "test_df = test_df.drop(names[4:], axis = 1)"
      ],
      "execution_count": 21,
      "outputs": []
    },
    {
      "cell_type": "code",
      "metadata": {
        "colab": {
          "base_uri": "https://localhost:8080/",
          "height": 206
        },
        "id": "uloBmVNoJcI5",
        "outputId": "3155e251-eb7e-454a-e426-44bc53648ae2"
      },
      "source": [
        "test_df.head()"
      ],
      "execution_count": 22,
      "outputs": [
        {
          "output_type": "execute_result",
          "data": {
            "text/html": [
              "\n",
              "  <div id=\"df-c848f13e-39c2-41b7-bd6d-17c8cbe7169b\">\n",
              "    <div class=\"colab-df-container\">\n",
              "      <div>\n",
              "<style scoped>\n",
              "    .dataframe tbody tr th:only-of-type {\n",
              "        vertical-align: middle;\n",
              "    }\n",
              "\n",
              "    .dataframe tbody tr th {\n",
              "        vertical-align: top;\n",
              "    }\n",
              "\n",
              "    .dataframe thead th {\n",
              "        text-align: right;\n",
              "    }\n",
              "</style>\n",
              "<table border=\"1\" class=\"dataframe\">\n",
              "  <thead>\n",
              "    <tr style=\"text-align: right;\">\n",
              "      <th></th>\n",
              "      <th>survived</th>\n",
              "      <th>pclass</th>\n",
              "      <th>sex</th>\n",
              "      <th>age</th>\n",
              "    </tr>\n",
              "  </thead>\n",
              "  <tbody>\n",
              "    <tr>\n",
              "      <th>800</th>\n",
              "      <td>0</td>\n",
              "      <td>2</td>\n",
              "      <td>male</td>\n",
              "      <td>34.00</td>\n",
              "    </tr>\n",
              "    <tr>\n",
              "      <th>801</th>\n",
              "      <td>1</td>\n",
              "      <td>2</td>\n",
              "      <td>female</td>\n",
              "      <td>31.00</td>\n",
              "    </tr>\n",
              "    <tr>\n",
              "      <th>802</th>\n",
              "      <td>1</td>\n",
              "      <td>1</td>\n",
              "      <td>male</td>\n",
              "      <td>11.00</td>\n",
              "    </tr>\n",
              "    <tr>\n",
              "      <th>803</th>\n",
              "      <td>1</td>\n",
              "      <td>3</td>\n",
              "      <td>male</td>\n",
              "      <td>0.42</td>\n",
              "    </tr>\n",
              "    <tr>\n",
              "      <th>804</th>\n",
              "      <td>1</td>\n",
              "      <td>3</td>\n",
              "      <td>male</td>\n",
              "      <td>27.00</td>\n",
              "    </tr>\n",
              "  </tbody>\n",
              "</table>\n",
              "</div>\n",
              "      <button class=\"colab-df-convert\" onclick=\"convertToInteractive('df-c848f13e-39c2-41b7-bd6d-17c8cbe7169b')\"\n",
              "              title=\"Convert this dataframe to an interactive table.\"\n",
              "              style=\"display:none;\">\n",
              "        \n",
              "  <svg xmlns=\"http://www.w3.org/2000/svg\" height=\"24px\"viewBox=\"0 0 24 24\"\n",
              "       width=\"24px\">\n",
              "    <path d=\"M0 0h24v24H0V0z\" fill=\"none\"/>\n",
              "    <path d=\"M18.56 5.44l.94 2.06.94-2.06 2.06-.94-2.06-.94-.94-2.06-.94 2.06-2.06.94zm-11 1L8.5 8.5l.94-2.06 2.06-.94-2.06-.94L8.5 2.5l-.94 2.06-2.06.94zm10 10l.94 2.06.94-2.06 2.06-.94-2.06-.94-.94-2.06-.94 2.06-2.06.94z\"/><path d=\"M17.41 7.96l-1.37-1.37c-.4-.4-.92-.59-1.43-.59-.52 0-1.04.2-1.43.59L10.3 9.45l-7.72 7.72c-.78.78-.78 2.05 0 2.83L4 21.41c.39.39.9.59 1.41.59.51 0 1.02-.2 1.41-.59l7.78-7.78 2.81-2.81c.8-.78.8-2.07 0-2.86zM5.41 20L4 18.59l7.72-7.72 1.47 1.35L5.41 20z\"/>\n",
              "  </svg>\n",
              "      </button>\n",
              "      \n",
              "  <style>\n",
              "    .colab-df-container {\n",
              "      display:flex;\n",
              "      flex-wrap:wrap;\n",
              "      gap: 12px;\n",
              "    }\n",
              "\n",
              "    .colab-df-convert {\n",
              "      background-color: #E8F0FE;\n",
              "      border: none;\n",
              "      border-radius: 50%;\n",
              "      cursor: pointer;\n",
              "      display: none;\n",
              "      fill: #1967D2;\n",
              "      height: 32px;\n",
              "      padding: 0 0 0 0;\n",
              "      width: 32px;\n",
              "    }\n",
              "\n",
              "    .colab-df-convert:hover {\n",
              "      background-color: #E2EBFA;\n",
              "      box-shadow: 0px 1px 2px rgba(60, 64, 67, 0.3), 0px 1px 3px 1px rgba(60, 64, 67, 0.15);\n",
              "      fill: #174EA6;\n",
              "    }\n",
              "\n",
              "    [theme=dark] .colab-df-convert {\n",
              "      background-color: #3B4455;\n",
              "      fill: #D2E3FC;\n",
              "    }\n",
              "\n",
              "    [theme=dark] .colab-df-convert:hover {\n",
              "      background-color: #434B5C;\n",
              "      box-shadow: 0px 1px 3px 1px rgba(0, 0, 0, 0.15);\n",
              "      filter: drop-shadow(0px 1px 2px rgba(0, 0, 0, 0.3));\n",
              "      fill: #FFFFFF;\n",
              "    }\n",
              "  </style>\n",
              "\n",
              "      <script>\n",
              "        const buttonEl =\n",
              "          document.querySelector('#df-c848f13e-39c2-41b7-bd6d-17c8cbe7169b button.colab-df-convert');\n",
              "        buttonEl.style.display =\n",
              "          google.colab.kernel.accessAllowed ? 'block' : 'none';\n",
              "\n",
              "        async function convertToInteractive(key) {\n",
              "          const element = document.querySelector('#df-c848f13e-39c2-41b7-bd6d-17c8cbe7169b');\n",
              "          const dataTable =\n",
              "            await google.colab.kernel.invokeFunction('convertToInteractive',\n",
              "                                                     [key], {});\n",
              "          if (!dataTable) return;\n",
              "\n",
              "          const docLinkHtml = 'Like what you see? Visit the ' +\n",
              "            '<a target=\"_blank\" href=https://colab.research.google.com/notebooks/data_table.ipynb>data table notebook</a>'\n",
              "            + ' to learn more about interactive tables.';\n",
              "          element.innerHTML = '';\n",
              "          dataTable['output_type'] = 'display_data';\n",
              "          await google.colab.output.renderOutput(dataTable, element);\n",
              "          const docLink = document.createElement('div');\n",
              "          docLink.innerHTML = docLinkHtml;\n",
              "          element.appendChild(docLink);\n",
              "        }\n",
              "      </script>\n",
              "    </div>\n",
              "  </div>\n",
              "  "
            ],
            "text/plain": [
              "     survived  pclass     sex    age\n",
              "800         0       2    male  34.00\n",
              "801         1       2  female  31.00\n",
              "802         1       1    male  11.00\n",
              "803         1       3    male   0.42\n",
              "804         1       3    male  27.00"
            ]
          },
          "metadata": {},
          "execution_count": 22
        }
      ]
    },
    {
      "cell_type": "markdown",
      "metadata": {
        "id": "UvVQa9jzLCYD"
      },
      "source": [
        "\\- 결측값 확인"
      ]
    },
    {
      "cell_type": "code",
      "metadata": {
        "colab": {
          "base_uri": "https://localhost:8080/"
        },
        "id": "Gn4LEtAKJdiH",
        "outputId": "4a3a1cc8-644b-4abd-a72c-950bfb77765c"
      },
      "source": [
        "print(train_df.isnull().sum())\n",
        "print(test_df.isnull().sum())"
      ],
      "execution_count": 23,
      "outputs": [
        {
          "output_type": "stream",
          "name": "stdout",
          "text": [
            "survived      0\n",
            "pclass        0\n",
            "sex           0\n",
            "age         163\n",
            "dtype: int64\n",
            "survived     0\n",
            "pclass       0\n",
            "sex          0\n",
            "age         14\n",
            "dtype: int64\n"
          ]
        }
      ]
    },
    {
      "cell_type": "markdown",
      "metadata": {
        "id": "k0Z6eP8iNjso"
      },
      "source": [
        "\\- age 평균으로 age 결측값 채우기\n",
        "\n",
        "\\* 만약 pclass 별 age 의 평균으로 채우고 싶다면 아래 주석 처리된 코드 사용"
      ]
    },
    {
      "cell_type": "code",
      "metadata": {
        "id": "PzLJKm6vOSib"
      },
      "source": [
        "# train_df[\"age\"] = train_df.groupby(['pclass']).age.transform(lambda x: x.fillna(x.mean()))\n",
        "# test_df[\"age\"] = test_df.groupby(['pclass']).age.transform(lambda x: x.fillna(x.mean()))"
      ],
      "execution_count": null,
      "outputs": []
    },
    {
      "cell_type": "code",
      "metadata": {
        "id": "_aUZ1IJwK6cH",
        "colab": {
          "base_uri": "https://localhost:8080/"
        },
        "outputId": "459bd89a-8765-4d86-a310-b44472a141b9"
      },
      "source": [
        "train_df.fillna(train_df.mean()[['age']], inplace = True)\n",
        "test_df.fillna(test_df.mean()[['age']], inplace = True)"
      ],
      "execution_count": 24,
      "outputs": [
        {
          "output_type": "stream",
          "name": "stderr",
          "text": [
            "/usr/local/lib/python3.7/dist-packages/ipykernel_launcher.py:1: FutureWarning: Dropping of nuisance columns in DataFrame reductions (with 'numeric_only=None') is deprecated; in a future version this will raise TypeError.  Select only valid columns before calling the reduction.\n",
            "  \"\"\"Entry point for launching an IPython kernel.\n",
            "/usr/local/lib/python3.7/dist-packages/ipykernel_launcher.py:2: FutureWarning: Dropping of nuisance columns in DataFrame reductions (with 'numeric_only=None') is deprecated; in a future version this will raise TypeError.  Select only valid columns before calling the reduction.\n",
            "  \n"
          ]
        }
      ]
    },
    {
      "cell_type": "code",
      "metadata": {
        "colab": {
          "base_uri": "https://localhost:8080/"
        },
        "id": "sn8tvEIGNVTv",
        "outputId": "c8085e3b-eb8d-4f78-908b-da30150b36b9"
      },
      "source": [
        "print(train_df.isnull().sum())\n",
        "print(test_df.isnull().sum())"
      ],
      "execution_count": 25,
      "outputs": [
        {
          "output_type": "stream",
          "name": "stdout",
          "text": [
            "survived    0\n",
            "pclass      0\n",
            "sex         0\n",
            "age         0\n",
            "dtype: int64\n",
            "survived    0\n",
            "pclass      0\n",
            "sex         0\n",
            "age         0\n",
            "dtype: int64\n"
          ]
        }
      ]
    },
    {
      "cell_type": "markdown",
      "metadata": {
        "id": "B72djJp4NfPn"
      },
      "source": [
        "\\- 성별 인코딩"
      ]
    },
    {
      "cell_type": "code",
      "metadata": {
        "id": "0Ep20G8MOKIj"
      },
      "source": [
        "map_dict = {'female' : 0, 'male' : 1}\n",
        "\n",
        "train_df['sex'] = train_df['sex'].map(map_dict).astype(int)\n",
        "test_df['sex'] = test_df['sex'].map(map_dict).astype(int)"
      ],
      "execution_count": 26,
      "outputs": []
    },
    {
      "cell_type": "code",
      "metadata": {
        "colab": {
          "base_uri": "https://localhost:8080/",
          "height": 206
        },
        "id": "HRn0ScaZO1oF",
        "outputId": "3727abda-95b7-4368-a600-f222d1d5c1f0"
      },
      "source": [
        "train_df.head()"
      ],
      "execution_count": 27,
      "outputs": [
        {
          "output_type": "execute_result",
          "data": {
            "text/html": [
              "\n",
              "  <div id=\"df-74af2eff-8cb8-4565-adfa-5426a0cf6c61\">\n",
              "    <div class=\"colab-df-container\">\n",
              "      <div>\n",
              "<style scoped>\n",
              "    .dataframe tbody tr th:only-of-type {\n",
              "        vertical-align: middle;\n",
              "    }\n",
              "\n",
              "    .dataframe tbody tr th {\n",
              "        vertical-align: top;\n",
              "    }\n",
              "\n",
              "    .dataframe thead th {\n",
              "        text-align: right;\n",
              "    }\n",
              "</style>\n",
              "<table border=\"1\" class=\"dataframe\">\n",
              "  <thead>\n",
              "    <tr style=\"text-align: right;\">\n",
              "      <th></th>\n",
              "      <th>survived</th>\n",
              "      <th>pclass</th>\n",
              "      <th>sex</th>\n",
              "      <th>age</th>\n",
              "    </tr>\n",
              "  </thead>\n",
              "  <tbody>\n",
              "    <tr>\n",
              "      <th>0</th>\n",
              "      <td>0</td>\n",
              "      <td>3</td>\n",
              "      <td>1</td>\n",
              "      <td>22.0</td>\n",
              "    </tr>\n",
              "    <tr>\n",
              "      <th>1</th>\n",
              "      <td>1</td>\n",
              "      <td>1</td>\n",
              "      <td>0</td>\n",
              "      <td>38.0</td>\n",
              "    </tr>\n",
              "    <tr>\n",
              "      <th>2</th>\n",
              "      <td>1</td>\n",
              "      <td>3</td>\n",
              "      <td>0</td>\n",
              "      <td>26.0</td>\n",
              "    </tr>\n",
              "    <tr>\n",
              "      <th>3</th>\n",
              "      <td>1</td>\n",
              "      <td>1</td>\n",
              "      <td>0</td>\n",
              "      <td>35.0</td>\n",
              "    </tr>\n",
              "    <tr>\n",
              "      <th>4</th>\n",
              "      <td>0</td>\n",
              "      <td>3</td>\n",
              "      <td>1</td>\n",
              "      <td>35.0</td>\n",
              "    </tr>\n",
              "  </tbody>\n",
              "</table>\n",
              "</div>\n",
              "      <button class=\"colab-df-convert\" onclick=\"convertToInteractive('df-74af2eff-8cb8-4565-adfa-5426a0cf6c61')\"\n",
              "              title=\"Convert this dataframe to an interactive table.\"\n",
              "              style=\"display:none;\">\n",
              "        \n",
              "  <svg xmlns=\"http://www.w3.org/2000/svg\" height=\"24px\"viewBox=\"0 0 24 24\"\n",
              "       width=\"24px\">\n",
              "    <path d=\"M0 0h24v24H0V0z\" fill=\"none\"/>\n",
              "    <path d=\"M18.56 5.44l.94 2.06.94-2.06 2.06-.94-2.06-.94-.94-2.06-.94 2.06-2.06.94zm-11 1L8.5 8.5l.94-2.06 2.06-.94-2.06-.94L8.5 2.5l-.94 2.06-2.06.94zm10 10l.94 2.06.94-2.06 2.06-.94-2.06-.94-.94-2.06-.94 2.06-2.06.94z\"/><path d=\"M17.41 7.96l-1.37-1.37c-.4-.4-.92-.59-1.43-.59-.52 0-1.04.2-1.43.59L10.3 9.45l-7.72 7.72c-.78.78-.78 2.05 0 2.83L4 21.41c.39.39.9.59 1.41.59.51 0 1.02-.2 1.41-.59l7.78-7.78 2.81-2.81c.8-.78.8-2.07 0-2.86zM5.41 20L4 18.59l7.72-7.72 1.47 1.35L5.41 20z\"/>\n",
              "  </svg>\n",
              "      </button>\n",
              "      \n",
              "  <style>\n",
              "    .colab-df-container {\n",
              "      display:flex;\n",
              "      flex-wrap:wrap;\n",
              "      gap: 12px;\n",
              "    }\n",
              "\n",
              "    .colab-df-convert {\n",
              "      background-color: #E8F0FE;\n",
              "      border: none;\n",
              "      border-radius: 50%;\n",
              "      cursor: pointer;\n",
              "      display: none;\n",
              "      fill: #1967D2;\n",
              "      height: 32px;\n",
              "      padding: 0 0 0 0;\n",
              "      width: 32px;\n",
              "    }\n",
              "\n",
              "    .colab-df-convert:hover {\n",
              "      background-color: #E2EBFA;\n",
              "      box-shadow: 0px 1px 2px rgba(60, 64, 67, 0.3), 0px 1px 3px 1px rgba(60, 64, 67, 0.15);\n",
              "      fill: #174EA6;\n",
              "    }\n",
              "\n",
              "    [theme=dark] .colab-df-convert {\n",
              "      background-color: #3B4455;\n",
              "      fill: #D2E3FC;\n",
              "    }\n",
              "\n",
              "    [theme=dark] .colab-df-convert:hover {\n",
              "      background-color: #434B5C;\n",
              "      box-shadow: 0px 1px 3px 1px rgba(0, 0, 0, 0.15);\n",
              "      filter: drop-shadow(0px 1px 2px rgba(0, 0, 0, 0.3));\n",
              "      fill: #FFFFFF;\n",
              "    }\n",
              "  </style>\n",
              "\n",
              "      <script>\n",
              "        const buttonEl =\n",
              "          document.querySelector('#df-74af2eff-8cb8-4565-adfa-5426a0cf6c61 button.colab-df-convert');\n",
              "        buttonEl.style.display =\n",
              "          google.colab.kernel.accessAllowed ? 'block' : 'none';\n",
              "\n",
              "        async function convertToInteractive(key) {\n",
              "          const element = document.querySelector('#df-74af2eff-8cb8-4565-adfa-5426a0cf6c61');\n",
              "          const dataTable =\n",
              "            await google.colab.kernel.invokeFunction('convertToInteractive',\n",
              "                                                     [key], {});\n",
              "          if (!dataTable) return;\n",
              "\n",
              "          const docLinkHtml = 'Like what you see? Visit the ' +\n",
              "            '<a target=\"_blank\" href=https://colab.research.google.com/notebooks/data_table.ipynb>data table notebook</a>'\n",
              "            + ' to learn more about interactive tables.';\n",
              "          element.innerHTML = '';\n",
              "          dataTable['output_type'] = 'display_data';\n",
              "          await google.colab.output.renderOutput(dataTable, element);\n",
              "          const docLink = document.createElement('div');\n",
              "          docLink.innerHTML = docLinkHtml;\n",
              "          element.appendChild(docLink);\n",
              "        }\n",
              "      </script>\n",
              "    </div>\n",
              "  </div>\n",
              "  "
            ],
            "text/plain": [
              "   survived  pclass  sex   age\n",
              "0         0       3    1  22.0\n",
              "1         1       1    0  38.0\n",
              "2         1       3    0  26.0\n",
              "3         1       1    0  35.0\n",
              "4         0       3    1  35.0"
            ]
          },
          "metadata": {},
          "execution_count": 27
        }
      ]
    },
    {
      "cell_type": "markdown",
      "metadata": {
        "id": "qx2OjhAqPSKI"
      },
      "source": [
        "\\- 나이 분류"
      ]
    },
    {
      "cell_type": "code",
      "metadata": {
        "id": "asEMofv1O26Z"
      },
      "source": [
        "def function1(x):\n",
        "    if x < 20:\n",
        "        return 1\n",
        "    elif x < 40:\n",
        "        return 2\n",
        "    elif x < 60:\n",
        "        return 3\n",
        "    else:\n",
        "        return 4"
      ],
      "execution_count": 28,
      "outputs": []
    },
    {
      "cell_type": "code",
      "metadata": {
        "id": "_xRAskoBQAyS"
      },
      "source": [
        "train_df['age'] = train_df['age'].apply(function1)\n",
        "test_df['age'] = test_df['age'].apply(function1)"
      ],
      "execution_count": 29,
      "outputs": []
    },
    {
      "cell_type": "code",
      "metadata": {
        "colab": {
          "base_uri": "https://localhost:8080/",
          "height": 206
        },
        "id": "fQ10f3PsQOOn",
        "outputId": "7fa0d6d9-9981-4729-b622-bb0704d27795"
      },
      "source": [
        "train_df.head()"
      ],
      "execution_count": 30,
      "outputs": [
        {
          "output_type": "execute_result",
          "data": {
            "text/html": [
              "\n",
              "  <div id=\"df-0cd9fc09-5ca7-4d1d-8259-7114b8d6acec\">\n",
              "    <div class=\"colab-df-container\">\n",
              "      <div>\n",
              "<style scoped>\n",
              "    .dataframe tbody tr th:only-of-type {\n",
              "        vertical-align: middle;\n",
              "    }\n",
              "\n",
              "    .dataframe tbody tr th {\n",
              "        vertical-align: top;\n",
              "    }\n",
              "\n",
              "    .dataframe thead th {\n",
              "        text-align: right;\n",
              "    }\n",
              "</style>\n",
              "<table border=\"1\" class=\"dataframe\">\n",
              "  <thead>\n",
              "    <tr style=\"text-align: right;\">\n",
              "      <th></th>\n",
              "      <th>survived</th>\n",
              "      <th>pclass</th>\n",
              "      <th>sex</th>\n",
              "      <th>age</th>\n",
              "    </tr>\n",
              "  </thead>\n",
              "  <tbody>\n",
              "    <tr>\n",
              "      <th>0</th>\n",
              "      <td>0</td>\n",
              "      <td>3</td>\n",
              "      <td>1</td>\n",
              "      <td>2</td>\n",
              "    </tr>\n",
              "    <tr>\n",
              "      <th>1</th>\n",
              "      <td>1</td>\n",
              "      <td>1</td>\n",
              "      <td>0</td>\n",
              "      <td>2</td>\n",
              "    </tr>\n",
              "    <tr>\n",
              "      <th>2</th>\n",
              "      <td>1</td>\n",
              "      <td>3</td>\n",
              "      <td>0</td>\n",
              "      <td>2</td>\n",
              "    </tr>\n",
              "    <tr>\n",
              "      <th>3</th>\n",
              "      <td>1</td>\n",
              "      <td>1</td>\n",
              "      <td>0</td>\n",
              "      <td>2</td>\n",
              "    </tr>\n",
              "    <tr>\n",
              "      <th>4</th>\n",
              "      <td>0</td>\n",
              "      <td>3</td>\n",
              "      <td>1</td>\n",
              "      <td>2</td>\n",
              "    </tr>\n",
              "  </tbody>\n",
              "</table>\n",
              "</div>\n",
              "      <button class=\"colab-df-convert\" onclick=\"convertToInteractive('df-0cd9fc09-5ca7-4d1d-8259-7114b8d6acec')\"\n",
              "              title=\"Convert this dataframe to an interactive table.\"\n",
              "              style=\"display:none;\">\n",
              "        \n",
              "  <svg xmlns=\"http://www.w3.org/2000/svg\" height=\"24px\"viewBox=\"0 0 24 24\"\n",
              "       width=\"24px\">\n",
              "    <path d=\"M0 0h24v24H0V0z\" fill=\"none\"/>\n",
              "    <path d=\"M18.56 5.44l.94 2.06.94-2.06 2.06-.94-2.06-.94-.94-2.06-.94 2.06-2.06.94zm-11 1L8.5 8.5l.94-2.06 2.06-.94-2.06-.94L8.5 2.5l-.94 2.06-2.06.94zm10 10l.94 2.06.94-2.06 2.06-.94-2.06-.94-.94-2.06-.94 2.06-2.06.94z\"/><path d=\"M17.41 7.96l-1.37-1.37c-.4-.4-.92-.59-1.43-.59-.52 0-1.04.2-1.43.59L10.3 9.45l-7.72 7.72c-.78.78-.78 2.05 0 2.83L4 21.41c.39.39.9.59 1.41.59.51 0 1.02-.2 1.41-.59l7.78-7.78 2.81-2.81c.8-.78.8-2.07 0-2.86zM5.41 20L4 18.59l7.72-7.72 1.47 1.35L5.41 20z\"/>\n",
              "  </svg>\n",
              "      </button>\n",
              "      \n",
              "  <style>\n",
              "    .colab-df-container {\n",
              "      display:flex;\n",
              "      flex-wrap:wrap;\n",
              "      gap: 12px;\n",
              "    }\n",
              "\n",
              "    .colab-df-convert {\n",
              "      background-color: #E8F0FE;\n",
              "      border: none;\n",
              "      border-radius: 50%;\n",
              "      cursor: pointer;\n",
              "      display: none;\n",
              "      fill: #1967D2;\n",
              "      height: 32px;\n",
              "      padding: 0 0 0 0;\n",
              "      width: 32px;\n",
              "    }\n",
              "\n",
              "    .colab-df-convert:hover {\n",
              "      background-color: #E2EBFA;\n",
              "      box-shadow: 0px 1px 2px rgba(60, 64, 67, 0.3), 0px 1px 3px 1px rgba(60, 64, 67, 0.15);\n",
              "      fill: #174EA6;\n",
              "    }\n",
              "\n",
              "    [theme=dark] .colab-df-convert {\n",
              "      background-color: #3B4455;\n",
              "      fill: #D2E3FC;\n",
              "    }\n",
              "\n",
              "    [theme=dark] .colab-df-convert:hover {\n",
              "      background-color: #434B5C;\n",
              "      box-shadow: 0px 1px 3px 1px rgba(0, 0, 0, 0.15);\n",
              "      filter: drop-shadow(0px 1px 2px rgba(0, 0, 0, 0.3));\n",
              "      fill: #FFFFFF;\n",
              "    }\n",
              "  </style>\n",
              "\n",
              "      <script>\n",
              "        const buttonEl =\n",
              "          document.querySelector('#df-0cd9fc09-5ca7-4d1d-8259-7114b8d6acec button.colab-df-convert');\n",
              "        buttonEl.style.display =\n",
              "          google.colab.kernel.accessAllowed ? 'block' : 'none';\n",
              "\n",
              "        async function convertToInteractive(key) {\n",
              "          const element = document.querySelector('#df-0cd9fc09-5ca7-4d1d-8259-7114b8d6acec');\n",
              "          const dataTable =\n",
              "            await google.colab.kernel.invokeFunction('convertToInteractive',\n",
              "                                                     [key], {});\n",
              "          if (!dataTable) return;\n",
              "\n",
              "          const docLinkHtml = 'Like what you see? Visit the ' +\n",
              "            '<a target=\"_blank\" href=https://colab.research.google.com/notebooks/data_table.ipynb>data table notebook</a>'\n",
              "            + ' to learn more about interactive tables.';\n",
              "          element.innerHTML = '';\n",
              "          dataTable['output_type'] = 'display_data';\n",
              "          await google.colab.output.renderOutput(dataTable, element);\n",
              "          const docLink = document.createElement('div');\n",
              "          docLink.innerHTML = docLinkHtml;\n",
              "          element.appendChild(docLink);\n",
              "        }\n",
              "      </script>\n",
              "    </div>\n",
              "  </div>\n",
              "  "
            ],
            "text/plain": [
              "   survived  pclass  sex  age\n",
              "0         0       3    1    2\n",
              "1         1       1    0    2\n",
              "2         1       3    0    2\n",
              "3         1       1    0    2\n",
              "4         0       3    1    2"
            ]
          },
          "metadata": {},
          "execution_count": 30
        }
      ]
    },
    {
      "cell_type": "markdown",
      "metadata": {
        "id": "hE3dG_8TPI2X"
      },
      "source": [
        "# **3. 머신러닝 모델 구성 및 결과 검증**"
      ]
    },
    {
      "cell_type": "code",
      "metadata": {
        "id": "qvU54vByPJ8X"
      },
      "source": [
        "from sklearn.tree import DecisionTreeClassifier\n",
        "import pandas as pd"
      ],
      "execution_count": 31,
      "outputs": []
    },
    {
      "cell_type": "markdown",
      "metadata": {
        "id": "vvy_Y3AGSYIQ"
      },
      "source": [
        "\\- 데이터 분류"
      ]
    },
    {
      "cell_type": "code",
      "metadata": {
        "id": "Oz5wW2wVSXlm"
      },
      "source": [
        "X_train = train_df.drop([\"survived\"], axis=1)\n",
        "Y_train = train_df[\"survived\"]\n",
        "X_test  = test_df.drop(\"survived\", axis=1)\n",
        "Y_test = test_df[\"survived\"]"
      ],
      "execution_count": 32,
      "outputs": []
    },
    {
      "cell_type": "code",
      "metadata": {
        "colab": {
          "base_uri": "https://localhost:8080/",
          "height": 206
        },
        "id": "C48uEfV_Sz-j",
        "outputId": "fa7f7a02-0c45-4dab-c212-344f433b9d06"
      },
      "source": [
        "X_train.head()"
      ],
      "execution_count": 33,
      "outputs": [
        {
          "output_type": "execute_result",
          "data": {
            "text/html": [
              "\n",
              "  <div id=\"df-5386b8bd-96cf-487d-96a6-e60bcd4a9385\">\n",
              "    <div class=\"colab-df-container\">\n",
              "      <div>\n",
              "<style scoped>\n",
              "    .dataframe tbody tr th:only-of-type {\n",
              "        vertical-align: middle;\n",
              "    }\n",
              "\n",
              "    .dataframe tbody tr th {\n",
              "        vertical-align: top;\n",
              "    }\n",
              "\n",
              "    .dataframe thead th {\n",
              "        text-align: right;\n",
              "    }\n",
              "</style>\n",
              "<table border=\"1\" class=\"dataframe\">\n",
              "  <thead>\n",
              "    <tr style=\"text-align: right;\">\n",
              "      <th></th>\n",
              "      <th>pclass</th>\n",
              "      <th>sex</th>\n",
              "      <th>age</th>\n",
              "    </tr>\n",
              "  </thead>\n",
              "  <tbody>\n",
              "    <tr>\n",
              "      <th>0</th>\n",
              "      <td>3</td>\n",
              "      <td>1</td>\n",
              "      <td>2</td>\n",
              "    </tr>\n",
              "    <tr>\n",
              "      <th>1</th>\n",
              "      <td>1</td>\n",
              "      <td>0</td>\n",
              "      <td>2</td>\n",
              "    </tr>\n",
              "    <tr>\n",
              "      <th>2</th>\n",
              "      <td>3</td>\n",
              "      <td>0</td>\n",
              "      <td>2</td>\n",
              "    </tr>\n",
              "    <tr>\n",
              "      <th>3</th>\n",
              "      <td>1</td>\n",
              "      <td>0</td>\n",
              "      <td>2</td>\n",
              "    </tr>\n",
              "    <tr>\n",
              "      <th>4</th>\n",
              "      <td>3</td>\n",
              "      <td>1</td>\n",
              "      <td>2</td>\n",
              "    </tr>\n",
              "  </tbody>\n",
              "</table>\n",
              "</div>\n",
              "      <button class=\"colab-df-convert\" onclick=\"convertToInteractive('df-5386b8bd-96cf-487d-96a6-e60bcd4a9385')\"\n",
              "              title=\"Convert this dataframe to an interactive table.\"\n",
              "              style=\"display:none;\">\n",
              "        \n",
              "  <svg xmlns=\"http://www.w3.org/2000/svg\" height=\"24px\"viewBox=\"0 0 24 24\"\n",
              "       width=\"24px\">\n",
              "    <path d=\"M0 0h24v24H0V0z\" fill=\"none\"/>\n",
              "    <path d=\"M18.56 5.44l.94 2.06.94-2.06 2.06-.94-2.06-.94-.94-2.06-.94 2.06-2.06.94zm-11 1L8.5 8.5l.94-2.06 2.06-.94-2.06-.94L8.5 2.5l-.94 2.06-2.06.94zm10 10l.94 2.06.94-2.06 2.06-.94-2.06-.94-.94-2.06-.94 2.06-2.06.94z\"/><path d=\"M17.41 7.96l-1.37-1.37c-.4-.4-.92-.59-1.43-.59-.52 0-1.04.2-1.43.59L10.3 9.45l-7.72 7.72c-.78.78-.78 2.05 0 2.83L4 21.41c.39.39.9.59 1.41.59.51 0 1.02-.2 1.41-.59l7.78-7.78 2.81-2.81c.8-.78.8-2.07 0-2.86zM5.41 20L4 18.59l7.72-7.72 1.47 1.35L5.41 20z\"/>\n",
              "  </svg>\n",
              "      </button>\n",
              "      \n",
              "  <style>\n",
              "    .colab-df-container {\n",
              "      display:flex;\n",
              "      flex-wrap:wrap;\n",
              "      gap: 12px;\n",
              "    }\n",
              "\n",
              "    .colab-df-convert {\n",
              "      background-color: #E8F0FE;\n",
              "      border: none;\n",
              "      border-radius: 50%;\n",
              "      cursor: pointer;\n",
              "      display: none;\n",
              "      fill: #1967D2;\n",
              "      height: 32px;\n",
              "      padding: 0 0 0 0;\n",
              "      width: 32px;\n",
              "    }\n",
              "\n",
              "    .colab-df-convert:hover {\n",
              "      background-color: #E2EBFA;\n",
              "      box-shadow: 0px 1px 2px rgba(60, 64, 67, 0.3), 0px 1px 3px 1px rgba(60, 64, 67, 0.15);\n",
              "      fill: #174EA6;\n",
              "    }\n",
              "\n",
              "    [theme=dark] .colab-df-convert {\n",
              "      background-color: #3B4455;\n",
              "      fill: #D2E3FC;\n",
              "    }\n",
              "\n",
              "    [theme=dark] .colab-df-convert:hover {\n",
              "      background-color: #434B5C;\n",
              "      box-shadow: 0px 1px 3px 1px rgba(0, 0, 0, 0.15);\n",
              "      filter: drop-shadow(0px 1px 2px rgba(0, 0, 0, 0.3));\n",
              "      fill: #FFFFFF;\n",
              "    }\n",
              "  </style>\n",
              "\n",
              "      <script>\n",
              "        const buttonEl =\n",
              "          document.querySelector('#df-5386b8bd-96cf-487d-96a6-e60bcd4a9385 button.colab-df-convert');\n",
              "        buttonEl.style.display =\n",
              "          google.colab.kernel.accessAllowed ? 'block' : 'none';\n",
              "\n",
              "        async function convertToInteractive(key) {\n",
              "          const element = document.querySelector('#df-5386b8bd-96cf-487d-96a6-e60bcd4a9385');\n",
              "          const dataTable =\n",
              "            await google.colab.kernel.invokeFunction('convertToInteractive',\n",
              "                                                     [key], {});\n",
              "          if (!dataTable) return;\n",
              "\n",
              "          const docLinkHtml = 'Like what you see? Visit the ' +\n",
              "            '<a target=\"_blank\" href=https://colab.research.google.com/notebooks/data_table.ipynb>data table notebook</a>'\n",
              "            + ' to learn more about interactive tables.';\n",
              "          element.innerHTML = '';\n",
              "          dataTable['output_type'] = 'display_data';\n",
              "          await google.colab.output.renderOutput(dataTable, element);\n",
              "          const docLink = document.createElement('div');\n",
              "          docLink.innerHTML = docLinkHtml;\n",
              "          element.appendChild(docLink);\n",
              "        }\n",
              "      </script>\n",
              "    </div>\n",
              "  </div>\n",
              "  "
            ],
            "text/plain": [
              "   pclass  sex  age\n",
              "0       3    1    2\n",
              "1       1    0    2\n",
              "2       3    0    2\n",
              "3       1    0    2\n",
              "4       3    1    2"
            ]
          },
          "metadata": {},
          "execution_count": 33
        }
      ]
    },
    {
      "cell_type": "code",
      "metadata": {
        "colab": {
          "base_uri": "https://localhost:8080/"
        },
        "id": "TIZ0GQfaS2Mm",
        "outputId": "5679608a-5f5f-43b8-b8e2-d5ed0d205ec2"
      },
      "source": [
        "Y_train.head()"
      ],
      "execution_count": 34,
      "outputs": [
        {
          "output_type": "execute_result",
          "data": {
            "text/plain": [
              "0    0\n",
              "1    1\n",
              "2    1\n",
              "3    1\n",
              "4    0\n",
              "Name: survived, dtype: int64"
            ]
          },
          "metadata": {},
          "execution_count": 34
        }
      ]
    },
    {
      "cell_type": "markdown",
      "metadata": {
        "id": "ykyISbS-TK18"
      },
      "source": [
        "\\- 모델 생성 및 학습(decision tree 사용)"
      ]
    },
    {
      "cell_type": "code",
      "metadata": {
        "colab": {
          "base_uri": "https://localhost:8080/"
        },
        "id": "UtlXFLepR90x",
        "outputId": "3f7ea45e-d46e-49cd-a188-8018227862c2"
      },
      "source": [
        "decision_tree = DecisionTreeClassifier()\n",
        "decision_tree.fit(X_train, Y_train)"
      ],
      "execution_count": 35,
      "outputs": [
        {
          "output_type": "execute_result",
          "data": {
            "text/plain": [
              "DecisionTreeClassifier()"
            ]
          },
          "metadata": {},
          "execution_count": 35
        }
      ]
    },
    {
      "cell_type": "markdown",
      "metadata": {
        "id": "IJlWDINWVF4U"
      },
      "source": [
        "\\- 모델 정확도 검증"
      ]
    },
    {
      "cell_type": "code",
      "metadata": {
        "colab": {
          "base_uri": "https://localhost:8080/"
        },
        "id": "Wp3aEp5GTBCG",
        "outputId": "89aab3fa-c0f2-4dd5-9b96-776edc93d4c3"
      },
      "source": [
        "print(decision_tree.score(X_train, Y_train))\n",
        "print(decision_tree.score(X_test, Y_test))"
      ],
      "execution_count": 36,
      "outputs": [
        {
          "output_type": "stream",
          "name": "stdout",
          "text": [
            "0.8\n",
            "0.7692307692307693\n"
          ]
        }
      ]
    },
    {
      "cell_type": "markdown",
      "metadata": {
        "id": "_A1Ag5CxVYXG"
      },
      "source": [
        "\\- 실제값 예측값 비교 구현"
      ]
    },
    {
      "cell_type": "code",
      "metadata": {
        "colab": {
          "base_uri": "https://localhost:8080/"
        },
        "id": "-D5RaDNSTEZa",
        "outputId": "dba57117-5ce6-4e92-d8be-e6a5aa34a61f"
      },
      "source": [
        "Y_pred = decision_tree.predict(X_test)\n",
        "print(Y_pred)"
      ],
      "execution_count": 37,
      "outputs": [
        {
          "output_type": "stream",
          "name": "stdout",
          "text": [
            "[0 1 0 0 0 0 0 1 0 1 0 0 0 1 0 0 1 0 0 0 1 0 0 1 0 0 0 0 0 1 1 0 0 0 0 1 0\n",
            " 0 0 0 0 0 1 0 0 0 0 0 0 1 0 0 1 1 1 1 1 0 1 0 0 0 1 1 0 1 1 0 0 0 0 1 0 0\n",
            " 1 1 0 0 0 1 1 0 1 0 0 1 0 1 1 0 0]\n"
          ]
        }
      ]
    },
    {
      "cell_type": "code",
      "metadata": {
        "colab": {
          "base_uri": "https://localhost:8080/"
        },
        "id": "KRykkqXGTFzz",
        "outputId": "e18ddc08-3013-4c93-f85e-fb531d1cc7f2"
      },
      "source": [
        "Y_test"
      ],
      "execution_count": 38,
      "outputs": [
        {
          "output_type": "execute_result",
          "data": {
            "text/plain": [
              "800    0\n",
              "801    1\n",
              "802    1\n",
              "803    1\n",
              "804    1\n",
              "      ..\n",
              "886    0\n",
              "887    1\n",
              "888    0\n",
              "889    1\n",
              "890    0\n",
              "Name: survived, Length: 91, dtype: int64"
            ]
          },
          "metadata": {},
          "execution_count": 38
        }
      ]
    },
    {
      "cell_type": "code",
      "metadata": {
        "colab": {
          "base_uri": "https://localhost:8080/"
        },
        "id": "E3xjwIhdUFZc",
        "outputId": "6a9b6e9a-b16c-46e4-b6ff-3563102d6b6b"
      },
      "source": [
        "len(Y_pred)"
      ],
      "execution_count": 39,
      "outputs": [
        {
          "output_type": "execute_result",
          "data": {
            "text/plain": [
              "91"
            ]
          },
          "metadata": {},
          "execution_count": 39
        }
      ]
    },
    {
      "cell_type": "code",
      "metadata": {
        "colab": {
          "base_uri": "https://localhost:8080/"
        },
        "id": "c1-Cm-ClV7c9",
        "outputId": "deab97ad-8cee-4614-9999-b4dd3de6dc4d"
      },
      "source": [
        "len(Y_test)"
      ],
      "execution_count": 40,
      "outputs": [
        {
          "output_type": "execute_result",
          "data": {
            "text/plain": [
              "91"
            ]
          },
          "metadata": {},
          "execution_count": 40
        }
      ]
    },
    {
      "cell_type": "code",
      "metadata": {
        "id": "5D0f4-w3V9Cq"
      },
      "source": [
        "Y_test_list = list(Y_test)"
      ],
      "execution_count": 41,
      "outputs": []
    },
    {
      "cell_type": "code",
      "metadata": {
        "colab": {
          "base_uri": "https://localhost:8080/"
        },
        "id": "F6x0X2OhV_7w",
        "outputId": "d3a376ac-1f84-4a48-96f6-24d280e9f4a5"
      },
      "source": [
        "Y_pred[0]"
      ],
      "execution_count": 42,
      "outputs": [
        {
          "output_type": "execute_result",
          "data": {
            "text/plain": [
              "0"
            ]
          },
          "metadata": {},
          "execution_count": 42
        }
      ]
    },
    {
      "cell_type": "code",
      "metadata": {
        "colab": {
          "base_uri": "https://localhost:8080/"
        },
        "id": "qvpAMnOVHZKl",
        "outputId": "d35dda1b-35bd-4d5f-8700-b32dd26a4442"
      },
      "source": [
        "Y_test_list[0]"
      ],
      "execution_count": 43,
      "outputs": [
        {
          "output_type": "execute_result",
          "data": {
            "text/plain": [
              "0"
            ]
          },
          "metadata": {},
          "execution_count": 43
        }
      ]
    },
    {
      "cell_type": "code",
      "metadata": {
        "colab": {
          "base_uri": "https://localhost:8080/"
        },
        "id": "fnKtizFwWHe5",
        "outputId": "d2390a8f-c78b-4f2f-cfd3-1300763687cd"
      },
      "source": [
        "total = 0\n",
        "for i in range(len(Y_pred)):\n",
        "    if Y_pred[i] == Y_test_list[i]:\n",
        "        total += 1\n",
        "    else:\n",
        "        pass\n",
        "print(total)\n",
        "print(total / len(Y_pred))"
      ],
      "execution_count": 44,
      "outputs": [
        {
          "output_type": "stream",
          "name": "stdout",
          "text": [
            "70\n",
            "0.7692307692307693\n"
          ]
        }
      ]
    },
    {
      "cell_type": "markdown",
      "metadata": {
        "id": "rYI5rcma2yod"
      },
      "source": [
        "\\- graphviz 를 이용한 tree 구조 시각화"
      ]
    },
    {
      "cell_type": "code",
      "metadata": {
        "colab": {
          "base_uri": "https://localhost:8080/",
          "height": 1000
        },
        "id": "ETYQZx52z6ec",
        "outputId": "311833d4-3776-41da-eb1d-321478919382"
      },
      "source": [
        "from sklearn.tree import export_graphviz\n",
        "\n",
        "export_graphviz(\n",
        "        decision_tree,\n",
        "        out_file = \"titanic.dot\",                     # 원하는 파일.dot\n",
        "        feature_names = ['pclass', 'sex', 'age'],\n",
        "        class_names = ['Unsurvived','Survived'],\n",
        "        filled=True\n",
        "    )\n",
        "\n",
        "# 위의 export_graphviz 함수를 통해 만든 titanic.dot을 렌더링해서 화면 상에 보여주는 과정\n",
        "import graphviz\n",
        "f = open('titanic.dot')\n",
        "dot_graph = f.read()\n",
        "# 자원을 효율적으로 쓰기 위해서는 아래 주석 처리 된 코드 사용\n",
        "#with open(\"titanic.dot\") as f:\n",
        "#   dot_graph = f.read()\n",
        "dot = graphviz.Source(dot_graph)\n",
        "dot.format = 'png'\n",
        "dot.render(filename = 'titanic_tree')\n",
        "dot"
      ],
      "execution_count": 45,
      "outputs": [
        {
          "output_type": "execute_result",
          "data": {
            "text/plain": [
              "<graphviz.files.Source at 0x7f21c5e79a90>"
            ],
            "image/svg+xml": "<?xml version=\"1.0\" encoding=\"UTF-8\" standalone=\"no\"?>\n<!DOCTYPE svg PUBLIC \"-//W3C//DTD SVG 1.1//EN\"\n \"http://www.w3.org/Graphics/SVG/1.1/DTD/svg11.dtd\">\n<!-- Generated by graphviz version 2.40.1 (20161225.0304)\n -->\n<!-- Title: Tree Pages: 1 -->\n<svg width=\"2717pt\" height=\"790pt\"\n viewBox=\"0.00 0.00 2716.50 790.00\" xmlns=\"http://www.w3.org/2000/svg\" xmlns:xlink=\"http://www.w3.org/1999/xlink\">\n<g id=\"graph0\" class=\"graph\" transform=\"scale(1 1) rotate(0) translate(4 786)\">\n<title>Tree</title>\n<polygon fill=\"#ffffff\" stroke=\"transparent\" points=\"-4,4 -4,-786 2712.5,-786 2712.5,4 -4,4\"/>\n<!-- 0 -->\n<g id=\"node1\" class=\"node\">\n<title>0</title>\n<polygon fill=\"#f5d0b5\" stroke=\"#000000\" points=\"1215.5,-782 1075.5,-782 1075.5,-699 1215.5,-699 1215.5,-782\"/>\n<text text-anchor=\"middle\" x=\"1145.5\" y=\"-766.8\" font-family=\"Helvetica,sans-Serif\" font-size=\"14.00\" fill=\"#000000\">sex &lt;= 0.5</text>\n<text text-anchor=\"middle\" x=\"1145.5\" y=\"-751.8\" font-family=\"Helvetica,sans-Serif\" font-size=\"14.00\" fill=\"#000000\">gini = 0.474</text>\n<text text-anchor=\"middle\" x=\"1145.5\" y=\"-736.8\" font-family=\"Helvetica,sans-Serif\" font-size=\"14.00\" fill=\"#000000\">samples = 800</text>\n<text text-anchor=\"middle\" x=\"1145.5\" y=\"-721.8\" font-family=\"Helvetica,sans-Serif\" font-size=\"14.00\" fill=\"#000000\">value = [492, 308]</text>\n<text text-anchor=\"middle\" x=\"1145.5\" y=\"-706.8\" font-family=\"Helvetica,sans-Serif\" font-size=\"14.00\" fill=\"#000000\">class = Unsurvived</text>\n</g>\n<!-- 1 -->\n<g id=\"node2\" class=\"node\">\n<title>1</title>\n<polygon fill=\"#7dbeee\" stroke=\"#000000\" points=\"903.5,-663 779.5,-663 779.5,-580 903.5,-580 903.5,-663\"/>\n<text text-anchor=\"middle\" x=\"841.5\" y=\"-647.8\" font-family=\"Helvetica,sans-Serif\" font-size=\"14.00\" fill=\"#000000\">pclass &lt;= 2.5</text>\n<text text-anchor=\"middle\" x=\"841.5\" y=\"-632.8\" font-family=\"Helvetica,sans-Serif\" font-size=\"14.00\" fill=\"#000000\">gini = 0.379</text>\n<text text-anchor=\"middle\" x=\"841.5\" y=\"-617.8\" font-family=\"Helvetica,sans-Serif\" font-size=\"14.00\" fill=\"#000000\">samples = 283</text>\n<text text-anchor=\"middle\" x=\"841.5\" y=\"-602.8\" font-family=\"Helvetica,sans-Serif\" font-size=\"14.00\" fill=\"#000000\">value = [72, 211]</text>\n<text text-anchor=\"middle\" x=\"841.5\" y=\"-587.8\" font-family=\"Helvetica,sans-Serif\" font-size=\"14.00\" fill=\"#000000\">class = Survived</text>\n</g>\n<!-- 0&#45;&gt;1 -->\n<g id=\"edge1\" class=\"edge\">\n<title>0&#45;&gt;1</title>\n<path fill=\"none\" stroke=\"#000000\" d=\"M1075.3746,-713.0496C1026.7153,-694.002 962.1,-668.7085 913.1186,-649.5349\"/>\n<polygon fill=\"#000000\" stroke=\"#000000\" points=\"914.128,-646.1715 903.5402,-645.7855 911.5763,-652.6899 914.128,-646.1715\"/>\n<text text-anchor=\"middle\" x=\"913.5578\" y=\"-664.9906\" font-family=\"Helvetica,sans-Serif\" font-size=\"14.00\" fill=\"#000000\">True</text>\n</g>\n<!-- 22 -->\n<g id=\"node23\" class=\"node\">\n<title>22</title>\n<polygon fill=\"#eb9e67\" stroke=\"#000000\" points=\"1523.5,-663 1383.5,-663 1383.5,-580 1523.5,-580 1523.5,-663\"/>\n<text text-anchor=\"middle\" x=\"1453.5\" y=\"-647.8\" font-family=\"Helvetica,sans-Serif\" font-size=\"14.00\" fill=\"#000000\">pclass &lt;= 1.5</text>\n<text text-anchor=\"middle\" x=\"1453.5\" y=\"-632.8\" font-family=\"Helvetica,sans-Serif\" font-size=\"14.00\" fill=\"#000000\">gini = 0.305</text>\n<text text-anchor=\"middle\" x=\"1453.5\" y=\"-617.8\" font-family=\"Helvetica,sans-Serif\" font-size=\"14.00\" fill=\"#000000\">samples = 517</text>\n<text text-anchor=\"middle\" x=\"1453.5\" y=\"-602.8\" font-family=\"Helvetica,sans-Serif\" font-size=\"14.00\" fill=\"#000000\">value = [420, 97]</text>\n<text text-anchor=\"middle\" x=\"1453.5\" y=\"-587.8\" font-family=\"Helvetica,sans-Serif\" font-size=\"14.00\" fill=\"#000000\">class = Unsurvived</text>\n</g>\n<!-- 0&#45;&gt;22 -->\n<g id=\"edge22\" class=\"edge\">\n<title>0&#45;&gt;22</title>\n<path fill=\"none\" stroke=\"#000000\" d=\"M1215.7754,-713.3482C1262.7971,-695.1807 1324.781,-671.2323 1373.6663,-652.3448\"/>\n<polygon fill=\"#000000\" stroke=\"#000000\" points=\"1375.1939,-655.5069 1383.2604,-648.638 1372.671,-648.9773 1375.1939,-655.5069\"/>\n<text text-anchor=\"middle\" x=\"1373.1417\" y=\"-667.7987\" font-family=\"Helvetica,sans-Serif\" font-size=\"14.00\" fill=\"#000000\">False</text>\n</g>\n<!-- 2 -->\n<g id=\"node3\" class=\"node\">\n<title>2</title>\n<polygon fill=\"#44a2e6\" stroke=\"#000000\" points=\"476,-544 353,-544 353,-461 476,-461 476,-544\"/>\n<text text-anchor=\"middle\" x=\"414.5\" y=\"-528.8\" font-family=\"Helvetica,sans-Serif\" font-size=\"14.00\" fill=\"#000000\">pclass &lt;= 1.5</text>\n<text text-anchor=\"middle\" x=\"414.5\" y=\"-513.8\" font-family=\"Helvetica,sans-Serif\" font-size=\"14.00\" fill=\"#000000\">gini = 0.1</text>\n<text text-anchor=\"middle\" x=\"414.5\" y=\"-498.8\" font-family=\"Helvetica,sans-Serif\" font-size=\"14.00\" fill=\"#000000\">samples = 152</text>\n<text text-anchor=\"middle\" x=\"414.5\" y=\"-483.8\" font-family=\"Helvetica,sans-Serif\" font-size=\"14.00\" fill=\"#000000\">value = [8, 144]</text>\n<text text-anchor=\"middle\" x=\"414.5\" y=\"-468.8\" font-family=\"Helvetica,sans-Serif\" font-size=\"14.00\" fill=\"#000000\">class = Survived</text>\n</g>\n<!-- 1&#45;&gt;2 -->\n<g id=\"edge2\" class=\"edge\">\n<title>1&#45;&gt;2</title>\n<path fill=\"none\" stroke=\"#000000\" d=\"M779.4105,-604.1964C701.5055,-582.4851 568.1857,-545.3305 486.0707,-522.4459\"/>\n<polygon fill=\"#000000\" stroke=\"#000000\" points=\"486.8902,-519.041 476.3177,-519.7279 485.0109,-525.784 486.8902,-519.041\"/>\n</g>\n<!-- 15 -->\n<g id=\"node16\" class=\"node\">\n<title>15</title>\n<polygon fill=\"#f6fbfe\" stroke=\"#000000\" points=\"903,-544 780,-544 780,-461 903,-461 903,-544\"/>\n<text text-anchor=\"middle\" x=\"841.5\" y=\"-528.8\" font-family=\"Helvetica,sans-Serif\" font-size=\"14.00\" fill=\"#000000\">age &lt;= 2.5</text>\n<text text-anchor=\"middle\" x=\"841.5\" y=\"-513.8\" font-family=\"Helvetica,sans-Serif\" font-size=\"14.00\" fill=\"#000000\">gini = 0.5</text>\n<text text-anchor=\"middle\" x=\"841.5\" y=\"-498.8\" font-family=\"Helvetica,sans-Serif\" font-size=\"14.00\" fill=\"#000000\">samples = 131</text>\n<text text-anchor=\"middle\" x=\"841.5\" y=\"-483.8\" font-family=\"Helvetica,sans-Serif\" font-size=\"14.00\" fill=\"#000000\">value = [64, 67]</text>\n<text text-anchor=\"middle\" x=\"841.5\" y=\"-468.8\" font-family=\"Helvetica,sans-Serif\" font-size=\"14.00\" fill=\"#000000\">class = Survived</text>\n</g>\n<!-- 1&#45;&gt;15 -->\n<g id=\"edge15\" class=\"edge\">\n<title>1&#45;&gt;15</title>\n<path fill=\"none\" stroke=\"#000000\" d=\"M841.5,-579.8796C841.5,-571.6838 841.5,-562.9891 841.5,-554.5013\"/>\n<polygon fill=\"#000000\" stroke=\"#000000\" points=\"845.0001,-554.298 841.5,-544.2981 838.0001,-554.2981 845.0001,-554.298\"/>\n</g>\n<!-- 3 -->\n<g id=\"node4\" class=\"node\">\n<title>3</title>\n<polygon fill=\"#41a1e6\" stroke=\"#000000\" points=\"264,-425 141,-425 141,-342 264,-342 264,-425\"/>\n<text text-anchor=\"middle\" x=\"202.5\" y=\"-409.8\" font-family=\"Helvetica,sans-Serif\" font-size=\"14.00\" fill=\"#000000\">age &lt;= 1.5</text>\n<text text-anchor=\"middle\" x=\"202.5\" y=\"-394.8\" font-family=\"Helvetica,sans-Serif\" font-size=\"14.00\" fill=\"#000000\">gini = 0.07</text>\n<text text-anchor=\"middle\" x=\"202.5\" y=\"-379.8\" font-family=\"Helvetica,sans-Serif\" font-size=\"14.00\" fill=\"#000000\">samples = 82</text>\n<text text-anchor=\"middle\" x=\"202.5\" y=\"-364.8\" font-family=\"Helvetica,sans-Serif\" font-size=\"14.00\" fill=\"#000000\">value = [3, 79]</text>\n<text text-anchor=\"middle\" x=\"202.5\" y=\"-349.8\" font-family=\"Helvetica,sans-Serif\" font-size=\"14.00\" fill=\"#000000\">class = Survived</text>\n</g>\n<!-- 2&#45;&gt;3 -->\n<g id=\"edge3\" class=\"edge\">\n<title>2&#45;&gt;3</title>\n<path fill=\"none\" stroke=\"#000000\" d=\"M352.896,-467.9204C327.9622,-453.9245 299.0281,-437.6832 273.2373,-423.2063\"/>\n<polygon fill=\"#000000\" stroke=\"#000000\" points=\"274.691,-420.0086 264.2576,-418.1658 271.2646,-426.1127 274.691,-420.0086\"/>\n</g>\n<!-- 10 -->\n<g id=\"node11\" class=\"node\">\n<title>10</title>\n<polygon fill=\"#48a5e7\" stroke=\"#000000\" points=\"476,-425 353,-425 353,-342 476,-342 476,-425\"/>\n<text text-anchor=\"middle\" x=\"414.5\" y=\"-409.8\" font-family=\"Helvetica,sans-Serif\" font-size=\"14.00\" fill=\"#000000\">age &lt;= 1.5</text>\n<text text-anchor=\"middle\" x=\"414.5\" y=\"-394.8\" font-family=\"Helvetica,sans-Serif\" font-size=\"14.00\" fill=\"#000000\">gini = 0.133</text>\n<text text-anchor=\"middle\" x=\"414.5\" y=\"-379.8\" font-family=\"Helvetica,sans-Serif\" font-size=\"14.00\" fill=\"#000000\">samples = 70</text>\n<text text-anchor=\"middle\" x=\"414.5\" y=\"-364.8\" font-family=\"Helvetica,sans-Serif\" font-size=\"14.00\" fill=\"#000000\">value = [5, 65]</text>\n<text text-anchor=\"middle\" x=\"414.5\" y=\"-349.8\" font-family=\"Helvetica,sans-Serif\" font-size=\"14.00\" fill=\"#000000\">class = Survived</text>\n</g>\n<!-- 2&#45;&gt;10 -->\n<g id=\"edge10\" class=\"edge\">\n<title>2&#45;&gt;10</title>\n<path fill=\"none\" stroke=\"#000000\" d=\"M414.5,-460.8796C414.5,-452.6838 414.5,-443.9891 414.5,-435.5013\"/>\n<polygon fill=\"#000000\" stroke=\"#000000\" points=\"418.0001,-435.298 414.5,-425.2981 411.0001,-435.2981 418.0001,-435.298\"/>\n</g>\n<!-- 4 -->\n<g id=\"node5\" class=\"node\">\n<title>4</title>\n<polygon fill=\"#4ba6e7\" stroke=\"#000000\" points=\"123,-298.5 0,-298.5 0,-230.5 123,-230.5 123,-298.5\"/>\n<text text-anchor=\"middle\" x=\"61.5\" y=\"-283.3\" font-family=\"Helvetica,sans-Serif\" font-size=\"14.00\" fill=\"#000000\">gini = 0.153</text>\n<text text-anchor=\"middle\" x=\"61.5\" y=\"-268.3\" font-family=\"Helvetica,sans-Serif\" font-size=\"14.00\" fill=\"#000000\">samples = 12</text>\n<text text-anchor=\"middle\" x=\"61.5\" y=\"-253.3\" font-family=\"Helvetica,sans-Serif\" font-size=\"14.00\" fill=\"#000000\">value = [1, 11]</text>\n<text text-anchor=\"middle\" x=\"61.5\" y=\"-238.3\" font-family=\"Helvetica,sans-Serif\" font-size=\"14.00\" fill=\"#000000\">class = Survived</text>\n</g>\n<!-- 3&#45;&gt;4 -->\n<g id=\"edge4\" class=\"edge\">\n<title>3&#45;&gt;4</title>\n<path fill=\"none\" stroke=\"#000000\" d=\"M153.185,-341.8796C139.244,-330.1138 124.0846,-317.3197 110.1812,-305.5855\"/>\n<polygon fill=\"#000000\" stroke=\"#000000\" points=\"112.0584,-302.5899 102.1589,-298.8149 107.5436,-307.9394 112.0584,-302.5899\"/>\n</g>\n<!-- 5 -->\n<g id=\"node6\" class=\"node\">\n<title>5</title>\n<polygon fill=\"#3fa0e6\" stroke=\"#000000\" points=\"264,-306 141,-306 141,-223 264,-223 264,-306\"/>\n<text text-anchor=\"middle\" x=\"202.5\" y=\"-290.8\" font-family=\"Helvetica,sans-Serif\" font-size=\"14.00\" fill=\"#000000\">age &lt;= 2.5</text>\n<text text-anchor=\"middle\" x=\"202.5\" y=\"-275.8\" font-family=\"Helvetica,sans-Serif\" font-size=\"14.00\" fill=\"#000000\">gini = 0.056</text>\n<text text-anchor=\"middle\" x=\"202.5\" y=\"-260.8\" font-family=\"Helvetica,sans-Serif\" font-size=\"14.00\" fill=\"#000000\">samples = 70</text>\n<text text-anchor=\"middle\" x=\"202.5\" y=\"-245.8\" font-family=\"Helvetica,sans-Serif\" font-size=\"14.00\" fill=\"#000000\">value = [2, 68]</text>\n<text text-anchor=\"middle\" x=\"202.5\" y=\"-230.8\" font-family=\"Helvetica,sans-Serif\" font-size=\"14.00\" fill=\"#000000\">class = Survived</text>\n</g>\n<!-- 3&#45;&gt;5 -->\n<g id=\"edge5\" class=\"edge\">\n<title>3&#45;&gt;5</title>\n<path fill=\"none\" stroke=\"#000000\" d=\"M202.5,-341.8796C202.5,-333.6838 202.5,-324.9891 202.5,-316.5013\"/>\n<polygon fill=\"#000000\" stroke=\"#000000\" points=\"206.0001,-316.298 202.5,-306.2981 199.0001,-316.2981 206.0001,-316.298\"/>\n</g>\n<!-- 6 -->\n<g id=\"node7\" class=\"node\">\n<title>6</title>\n<polygon fill=\"#3d9fe6\" stroke=\"#000000\" points=\"159,-179.5 36,-179.5 36,-111.5 159,-111.5 159,-179.5\"/>\n<text text-anchor=\"middle\" x=\"97.5\" y=\"-164.3\" font-family=\"Helvetica,sans-Serif\" font-size=\"14.00\" fill=\"#000000\">gini = 0.041</text>\n<text text-anchor=\"middle\" x=\"97.5\" y=\"-149.3\" font-family=\"Helvetica,sans-Serif\" font-size=\"14.00\" fill=\"#000000\">samples = 48</text>\n<text text-anchor=\"middle\" x=\"97.5\" y=\"-134.3\" font-family=\"Helvetica,sans-Serif\" font-size=\"14.00\" fill=\"#000000\">value = [1, 47]</text>\n<text text-anchor=\"middle\" x=\"97.5\" y=\"-119.3\" font-family=\"Helvetica,sans-Serif\" font-size=\"14.00\" fill=\"#000000\">class = Survived</text>\n</g>\n<!-- 5&#45;&gt;6 -->\n<g id=\"edge6\" class=\"edge\">\n<title>5&#45;&gt;6</title>\n<path fill=\"none\" stroke=\"#000000\" d=\"M165.7761,-222.8796C155.6856,-211.4436 144.7379,-199.0363 134.625,-187.575\"/>\n<polygon fill=\"#000000\" stroke=\"#000000\" points=\"137.0186,-184.9977 127.7779,-179.8149 131.7697,-189.629 137.0186,-184.9977\"/>\n</g>\n<!-- 7 -->\n<g id=\"node8\" class=\"node\">\n<title>7</title>\n<polygon fill=\"#42a2e6\" stroke=\"#000000\" points=\"300,-187 177,-187 177,-104 300,-104 300,-187\"/>\n<text text-anchor=\"middle\" x=\"238.5\" y=\"-171.8\" font-family=\"Helvetica,sans-Serif\" font-size=\"14.00\" fill=\"#000000\">age &lt;= 3.5</text>\n<text text-anchor=\"middle\" x=\"238.5\" y=\"-156.8\" font-family=\"Helvetica,sans-Serif\" font-size=\"14.00\" fill=\"#000000\">gini = 0.087</text>\n<text text-anchor=\"middle\" x=\"238.5\" y=\"-141.8\" font-family=\"Helvetica,sans-Serif\" font-size=\"14.00\" fill=\"#000000\">samples = 22</text>\n<text text-anchor=\"middle\" x=\"238.5\" y=\"-126.8\" font-family=\"Helvetica,sans-Serif\" font-size=\"14.00\" fill=\"#000000\">value = [1, 21]</text>\n<text text-anchor=\"middle\" x=\"238.5\" y=\"-111.8\" font-family=\"Helvetica,sans-Serif\" font-size=\"14.00\" fill=\"#000000\">class = Survived</text>\n</g>\n<!-- 5&#45;&gt;7 -->\n<g id=\"edge7\" class=\"edge\">\n<title>5&#45;&gt;7</title>\n<path fill=\"none\" stroke=\"#000000\" d=\"M215.0911,-222.8796C217.6249,-214.5037 220.3165,-205.6067 222.9377,-196.942\"/>\n<polygon fill=\"#000000\" stroke=\"#000000\" points=\"226.3096,-197.8832 225.8552,-187.2981 219.6095,-195.8562 226.3096,-197.8832\"/>\n</g>\n<!-- 8 -->\n<g id=\"node9\" class=\"node\">\n<title>8</title>\n<polygon fill=\"#43a2e6\" stroke=\"#000000\" points=\"230,-68 107,-68 107,0 230,0 230,-68\"/>\n<text text-anchor=\"middle\" x=\"168.5\" y=\"-52.8\" font-family=\"Helvetica,sans-Serif\" font-size=\"14.00\" fill=\"#000000\">gini = 0.095</text>\n<text text-anchor=\"middle\" x=\"168.5\" y=\"-37.8\" font-family=\"Helvetica,sans-Serif\" font-size=\"14.00\" fill=\"#000000\">samples = 20</text>\n<text text-anchor=\"middle\" x=\"168.5\" y=\"-22.8\" font-family=\"Helvetica,sans-Serif\" font-size=\"14.00\" fill=\"#000000\">value = [1, 19]</text>\n<text text-anchor=\"middle\" x=\"168.5\" y=\"-7.8\" font-family=\"Helvetica,sans-Serif\" font-size=\"14.00\" fill=\"#000000\">class = Survived</text>\n</g>\n<!-- 7&#45;&gt;8 -->\n<g id=\"edge8\" class=\"edge\">\n<title>7&#45;&gt;8</title>\n<path fill=\"none\" stroke=\"#000000\" d=\"M212.4346,-103.9815C206.8955,-95.1585 201.0364,-85.8258 195.4645,-76.9506\"/>\n<polygon fill=\"#000000\" stroke=\"#000000\" points=\"198.2922,-74.872 190.0108,-68.2637 192.3637,-78.594 198.2922,-74.872\"/>\n</g>\n<!-- 9 -->\n<g id=\"node10\" class=\"node\">\n<title>9</title>\n<polygon fill=\"#399de5\" stroke=\"#000000\" points=\"371,-68 248,-68 248,0 371,0 371,-68\"/>\n<text text-anchor=\"middle\" x=\"309.5\" y=\"-52.8\" font-family=\"Helvetica,sans-Serif\" font-size=\"14.00\" fill=\"#000000\">gini = 0.0</text>\n<text text-anchor=\"middle\" x=\"309.5\" y=\"-37.8\" font-family=\"Helvetica,sans-Serif\" font-size=\"14.00\" fill=\"#000000\">samples = 2</text>\n<text text-anchor=\"middle\" x=\"309.5\" y=\"-22.8\" font-family=\"Helvetica,sans-Serif\" font-size=\"14.00\" fill=\"#000000\">value = [0, 2]</text>\n<text text-anchor=\"middle\" x=\"309.5\" y=\"-7.8\" font-family=\"Helvetica,sans-Serif\" font-size=\"14.00\" fill=\"#000000\">class = Survived</text>\n</g>\n<!-- 7&#45;&gt;9 -->\n<g id=\"edge9\" class=\"edge\">\n<title>7&#45;&gt;9</title>\n<path fill=\"none\" stroke=\"#000000\" d=\"M264.9378,-103.9815C270.556,-95.1585 276.4988,-85.8258 282.1503,-76.9506\"/>\n<polygon fill=\"#000000\" stroke=\"#000000\" points=\"285.2629,-78.5787 287.6819,-68.2637 279.3584,-74.8188 285.2629,-78.5787\"/>\n</g>\n<!-- 11 -->\n<g id=\"node12\" class=\"node\">\n<title>11</title>\n<polygon fill=\"#399de5\" stroke=\"#000000\" points=\"405,-298.5 282,-298.5 282,-230.5 405,-230.5 405,-298.5\"/>\n<text text-anchor=\"middle\" x=\"343.5\" y=\"-283.3\" font-family=\"Helvetica,sans-Serif\" font-size=\"14.00\" fill=\"#000000\">gini = 0.0</text>\n<text text-anchor=\"middle\" x=\"343.5\" y=\"-268.3\" font-family=\"Helvetica,sans-Serif\" font-size=\"14.00\" fill=\"#000000\">samples = 16</text>\n<text text-anchor=\"middle\" x=\"343.5\" y=\"-253.3\" font-family=\"Helvetica,sans-Serif\" font-size=\"14.00\" fill=\"#000000\">value = [0, 16]</text>\n<text text-anchor=\"middle\" x=\"343.5\" y=\"-238.3\" font-family=\"Helvetica,sans-Serif\" font-size=\"14.00\" fill=\"#000000\">class = Survived</text>\n</g>\n<!-- 10&#45;&gt;11 -->\n<g id=\"edge11\" class=\"edge\">\n<title>10&#45;&gt;11</title>\n<path fill=\"none\" stroke=\"#000000\" d=\"M389.6676,-341.8796C383.0413,-330.7735 375.8684,-318.7513 369.1967,-307.5691\"/>\n<polygon fill=\"#000000\" stroke=\"#000000\" points=\"372.1031,-305.6093 363.9736,-298.8149 366.0917,-309.1959 372.1031,-305.6093\"/>\n</g>\n<!-- 12 -->\n<g id=\"node13\" class=\"node\">\n<title>12</title>\n<polygon fill=\"#4da7e8\" stroke=\"#000000\" points=\"546,-306 423,-306 423,-223 546,-223 546,-306\"/>\n<text text-anchor=\"middle\" x=\"484.5\" y=\"-290.8\" font-family=\"Helvetica,sans-Serif\" font-size=\"14.00\" fill=\"#000000\">age &lt;= 2.5</text>\n<text text-anchor=\"middle\" x=\"484.5\" y=\"-275.8\" font-family=\"Helvetica,sans-Serif\" font-size=\"14.00\" fill=\"#000000\">gini = 0.168</text>\n<text text-anchor=\"middle\" x=\"484.5\" y=\"-260.8\" font-family=\"Helvetica,sans-Serif\" font-size=\"14.00\" fill=\"#000000\">samples = 54</text>\n<text text-anchor=\"middle\" x=\"484.5\" y=\"-245.8\" font-family=\"Helvetica,sans-Serif\" font-size=\"14.00\" fill=\"#000000\">value = [5, 49]</text>\n<text text-anchor=\"middle\" x=\"484.5\" y=\"-230.8\" font-family=\"Helvetica,sans-Serif\" font-size=\"14.00\" fill=\"#000000\">class = Survived</text>\n</g>\n<!-- 10&#45;&gt;12 -->\n<g id=\"edge12\" class=\"edge\">\n<title>10&#45;&gt;12</title>\n<path fill=\"none\" stroke=\"#000000\" d=\"M438.9826,-341.8796C444.0685,-333.2335 449.4811,-324.0322 454.7328,-315.1042\"/>\n<polygon fill=\"#000000\" stroke=\"#000000\" points=\"457.8594,-316.692 459.9129,-306.2981 451.8259,-313.1428 457.8594,-316.692\"/>\n</g>\n<!-- 13 -->\n<g id=\"node14\" class=\"node\">\n<title>13</title>\n<polygon fill=\"#4fa8e8\" stroke=\"#000000\" points=\"511,-179.5 388,-179.5 388,-111.5 511,-111.5 511,-179.5\"/>\n<text text-anchor=\"middle\" x=\"449.5\" y=\"-164.3\" font-family=\"Helvetica,sans-Serif\" font-size=\"14.00\" fill=\"#000000\">gini = 0.18</text>\n<text text-anchor=\"middle\" x=\"449.5\" y=\"-149.3\" font-family=\"Helvetica,sans-Serif\" font-size=\"14.00\" fill=\"#000000\">samples = 40</text>\n<text text-anchor=\"middle\" x=\"449.5\" y=\"-134.3\" font-family=\"Helvetica,sans-Serif\" font-size=\"14.00\" fill=\"#000000\">value = [4, 36]</text>\n<text text-anchor=\"middle\" x=\"449.5\" y=\"-119.3\" font-family=\"Helvetica,sans-Serif\" font-size=\"14.00\" fill=\"#000000\">class = Survived</text>\n</g>\n<!-- 12&#45;&gt;13 -->\n<g id=\"edge13\" class=\"edge\">\n<title>12&#45;&gt;13</title>\n<path fill=\"none\" stroke=\"#000000\" d=\"M472.2587,-222.8796C469.0892,-212.1034 465.6661,-200.4647 462.4611,-189.5677\"/>\n<polygon fill=\"#000000\" stroke=\"#000000\" points=\"465.7721,-188.421 459.5926,-179.8149 459.0566,-190.3962 465.7721,-188.421\"/>\n</g>\n<!-- 14 -->\n<g id=\"node15\" class=\"node\">\n<title>14</title>\n<polygon fill=\"#48a5e7\" stroke=\"#000000\" points=\"652,-179.5 529,-179.5 529,-111.5 652,-111.5 652,-179.5\"/>\n<text text-anchor=\"middle\" x=\"590.5\" y=\"-164.3\" font-family=\"Helvetica,sans-Serif\" font-size=\"14.00\" fill=\"#000000\">gini = 0.133</text>\n<text text-anchor=\"middle\" x=\"590.5\" y=\"-149.3\" font-family=\"Helvetica,sans-Serif\" font-size=\"14.00\" fill=\"#000000\">samples = 14</text>\n<text text-anchor=\"middle\" x=\"590.5\" y=\"-134.3\" font-family=\"Helvetica,sans-Serif\" font-size=\"14.00\" fill=\"#000000\">value = [1, 13]</text>\n<text text-anchor=\"middle\" x=\"590.5\" y=\"-119.3\" font-family=\"Helvetica,sans-Serif\" font-size=\"14.00\" fill=\"#000000\">class = Survived</text>\n</g>\n<!-- 12&#45;&gt;14 -->\n<g id=\"edge14\" class=\"edge\">\n<title>12&#45;&gt;14</title>\n<path fill=\"none\" stroke=\"#000000\" d=\"M521.5737,-222.8796C531.7603,-211.4436 542.8122,-199.0363 553.0215,-187.575\"/>\n<polygon fill=\"#000000\" stroke=\"#000000\" points=\"555.8958,-189.6101 559.9338,-179.8149 550.6688,-184.9541 555.8958,-189.6101\"/>\n</g>\n<!-- 16 -->\n<g id=\"node17\" class=\"node\">\n<title>16</title>\n<polygon fill=\"#deeffb\" stroke=\"#000000\" points=\"828,-425 705,-425 705,-342 828,-342 828,-425\"/>\n<text text-anchor=\"middle\" x=\"766.5\" y=\"-409.8\" font-family=\"Helvetica,sans-Serif\" font-size=\"14.00\" fill=\"#000000\">age &lt;= 1.5</text>\n<text text-anchor=\"middle\" x=\"766.5\" y=\"-394.8\" font-family=\"Helvetica,sans-Serif\" font-size=\"14.00\" fill=\"#000000\">gini = 0.496</text>\n<text text-anchor=\"middle\" x=\"766.5\" y=\"-379.8\" font-family=\"Helvetica,sans-Serif\" font-size=\"14.00\" fill=\"#000000\">samples = 121</text>\n<text text-anchor=\"middle\" x=\"766.5\" y=\"-364.8\" font-family=\"Helvetica,sans-Serif\" font-size=\"14.00\" fill=\"#000000\">value = [55, 66]</text>\n<text text-anchor=\"middle\" x=\"766.5\" y=\"-349.8\" font-family=\"Helvetica,sans-Serif\" font-size=\"14.00\" fill=\"#000000\">class = Survived</text>\n</g>\n<!-- 15&#45;&gt;16 -->\n<g id=\"edge16\" class=\"edge\">\n<title>15&#45;&gt;16</title>\n<path fill=\"none\" stroke=\"#000000\" d=\"M815.2686,-460.8796C809.7627,-452.1434 803.8994,-442.8404 798.2176,-433.8253\"/>\n<polygon fill=\"#000000\" stroke=\"#000000\" points=\"801.1363,-431.8919 792.8433,-425.2981 795.2143,-435.6242 801.1363,-431.8919\"/>\n</g>\n<!-- 19 -->\n<g id=\"node20\" class=\"node\">\n<title>19</title>\n<polygon fill=\"#e88f4f\" stroke=\"#000000\" points=\"986.5,-425 846.5,-425 846.5,-342 986.5,-342 986.5,-425\"/>\n<text text-anchor=\"middle\" x=\"916.5\" y=\"-409.8\" font-family=\"Helvetica,sans-Serif\" font-size=\"14.00\" fill=\"#000000\">age &lt;= 3.5</text>\n<text text-anchor=\"middle\" x=\"916.5\" y=\"-394.8\" font-family=\"Helvetica,sans-Serif\" font-size=\"14.00\" fill=\"#000000\">gini = 0.18</text>\n<text text-anchor=\"middle\" x=\"916.5\" y=\"-379.8\" font-family=\"Helvetica,sans-Serif\" font-size=\"14.00\" fill=\"#000000\">samples = 10</text>\n<text text-anchor=\"middle\" x=\"916.5\" y=\"-364.8\" font-family=\"Helvetica,sans-Serif\" font-size=\"14.00\" fill=\"#000000\">value = [9, 1]</text>\n<text text-anchor=\"middle\" x=\"916.5\" y=\"-349.8\" font-family=\"Helvetica,sans-Serif\" font-size=\"14.00\" fill=\"#000000\">class = Unsurvived</text>\n</g>\n<!-- 15&#45;&gt;19 -->\n<g id=\"edge19\" class=\"edge\">\n<title>15&#45;&gt;19</title>\n<path fill=\"none\" stroke=\"#000000\" d=\"M867.7314,-460.8796C873.2373,-452.1434 879.1006,-442.8404 884.7824,-433.8253\"/>\n<polygon fill=\"#000000\" stroke=\"#000000\" points=\"887.7857,-435.6242 890.1567,-425.2981 881.8637,-431.8919 887.7857,-435.6242\"/>\n</g>\n<!-- 17 -->\n<g id=\"node18\" class=\"node\">\n<title>17</title>\n<polygon fill=\"#e3f1fb\" stroke=\"#000000\" points=\"687,-298.5 564,-298.5 564,-230.5 687,-230.5 687,-298.5\"/>\n<text text-anchor=\"middle\" x=\"625.5\" y=\"-283.3\" font-family=\"Helvetica,sans-Serif\" font-size=\"14.00\" fill=\"#000000\">gini = 0.497</text>\n<text text-anchor=\"middle\" x=\"625.5\" y=\"-268.3\" font-family=\"Helvetica,sans-Serif\" font-size=\"14.00\" fill=\"#000000\">samples = 39</text>\n<text text-anchor=\"middle\" x=\"625.5\" y=\"-253.3\" font-family=\"Helvetica,sans-Serif\" font-size=\"14.00\" fill=\"#000000\">value = [18, 21]</text>\n<text text-anchor=\"middle\" x=\"625.5\" y=\"-238.3\" font-family=\"Helvetica,sans-Serif\" font-size=\"14.00\" fill=\"#000000\">class = Survived</text>\n</g>\n<!-- 16&#45;&gt;17 -->\n<g id=\"edge17\" class=\"edge\">\n<title>16&#45;&gt;17</title>\n<path fill=\"none\" stroke=\"#000000\" d=\"M717.185,-341.8796C703.244,-330.1138 688.0846,-317.3197 674.1812,-305.5855\"/>\n<polygon fill=\"#000000\" stroke=\"#000000\" points=\"676.0584,-302.5899 666.1589,-298.8149 671.5436,-307.9394 676.0584,-302.5899\"/>\n</g>\n<!-- 18 -->\n<g id=\"node19\" class=\"node\">\n<title>18</title>\n<polygon fill=\"#dceefa\" stroke=\"#000000\" points=\"828,-298.5 705,-298.5 705,-230.5 828,-230.5 828,-298.5\"/>\n<text text-anchor=\"middle\" x=\"766.5\" y=\"-283.3\" font-family=\"Helvetica,sans-Serif\" font-size=\"14.00\" fill=\"#000000\">gini = 0.495</text>\n<text text-anchor=\"middle\" x=\"766.5\" y=\"-268.3\" font-family=\"Helvetica,sans-Serif\" font-size=\"14.00\" fill=\"#000000\">samples = 82</text>\n<text text-anchor=\"middle\" x=\"766.5\" y=\"-253.3\" font-family=\"Helvetica,sans-Serif\" font-size=\"14.00\" fill=\"#000000\">value = [37, 45]</text>\n<text text-anchor=\"middle\" x=\"766.5\" y=\"-238.3\" font-family=\"Helvetica,sans-Serif\" font-size=\"14.00\" fill=\"#000000\">class = Survived</text>\n</g>\n<!-- 16&#45;&gt;18 -->\n<g id=\"edge18\" class=\"edge\">\n<title>16&#45;&gt;18</title>\n<path fill=\"none\" stroke=\"#000000\" d=\"M766.5,-341.8796C766.5,-331.2134 766.5,-319.7021 766.5,-308.9015\"/>\n<polygon fill=\"#000000\" stroke=\"#000000\" points=\"770.0001,-308.8149 766.5,-298.8149 763.0001,-308.815 770.0001,-308.8149\"/>\n</g>\n<!-- 20 -->\n<g id=\"node21\" class=\"node\">\n<title>20</title>\n<polygon fill=\"#e58139\" stroke=\"#000000\" points=\"986.5,-298.5 846.5,-298.5 846.5,-230.5 986.5,-230.5 986.5,-298.5\"/>\n<text text-anchor=\"middle\" x=\"916.5\" y=\"-283.3\" font-family=\"Helvetica,sans-Serif\" font-size=\"14.00\" fill=\"#000000\">gini = 0.0</text>\n<text text-anchor=\"middle\" x=\"916.5\" y=\"-268.3\" font-family=\"Helvetica,sans-Serif\" font-size=\"14.00\" fill=\"#000000\">samples = 9</text>\n<text text-anchor=\"middle\" x=\"916.5\" y=\"-253.3\" font-family=\"Helvetica,sans-Serif\" font-size=\"14.00\" fill=\"#000000\">value = [9, 0]</text>\n<text text-anchor=\"middle\" x=\"916.5\" y=\"-238.3\" font-family=\"Helvetica,sans-Serif\" font-size=\"14.00\" fill=\"#000000\">class = Unsurvived</text>\n</g>\n<!-- 19&#45;&gt;20 -->\n<g id=\"edge20\" class=\"edge\">\n<title>19&#45;&gt;20</title>\n<path fill=\"none\" stroke=\"#000000\" d=\"M916.5,-341.8796C916.5,-331.2134 916.5,-319.7021 916.5,-308.9015\"/>\n<polygon fill=\"#000000\" stroke=\"#000000\" points=\"920.0001,-308.8149 916.5,-298.8149 913.0001,-308.815 920.0001,-308.8149\"/>\n</g>\n<!-- 21 -->\n<g id=\"node22\" class=\"node\">\n<title>21</title>\n<polygon fill=\"#399de5\" stroke=\"#000000\" points=\"1128,-298.5 1005,-298.5 1005,-230.5 1128,-230.5 1128,-298.5\"/>\n<text text-anchor=\"middle\" x=\"1066.5\" y=\"-283.3\" font-family=\"Helvetica,sans-Serif\" font-size=\"14.00\" fill=\"#000000\">gini = 0.0</text>\n<text text-anchor=\"middle\" x=\"1066.5\" y=\"-268.3\" font-family=\"Helvetica,sans-Serif\" font-size=\"14.00\" fill=\"#000000\">samples = 1</text>\n<text text-anchor=\"middle\" x=\"1066.5\" y=\"-253.3\" font-family=\"Helvetica,sans-Serif\" font-size=\"14.00\" fill=\"#000000\">value = [0, 1]</text>\n<text text-anchor=\"middle\" x=\"1066.5\" y=\"-238.3\" font-family=\"Helvetica,sans-Serif\" font-size=\"14.00\" fill=\"#000000\">class = Survived</text>\n</g>\n<!-- 19&#45;&gt;21 -->\n<g id=\"edge21\" class=\"edge\">\n<title>19&#45;&gt;21</title>\n<path fill=\"none\" stroke=\"#000000\" d=\"M968.9627,-341.8796C983.9322,-330.0038 1000.2222,-317.0804 1015.1259,-305.2568\"/>\n<polygon fill=\"#000000\" stroke=\"#000000\" points=\"1017.587,-307.772 1023.2459,-298.8149 1013.2365,-302.2881 1017.587,-307.772\"/>\n</g>\n<!-- 23 -->\n<g id=\"node24\" class=\"node\">\n<title>23</title>\n<polygon fill=\"#f4c9aa\" stroke=\"#000000\" points=\"1523.5,-544 1383.5,-544 1383.5,-461 1523.5,-461 1523.5,-544\"/>\n<text text-anchor=\"middle\" x=\"1453.5\" y=\"-528.8\" font-family=\"Helvetica,sans-Serif\" font-size=\"14.00\" fill=\"#000000\">age &lt;= 2.5</text>\n<text text-anchor=\"middle\" x=\"1453.5\" y=\"-513.8\" font-family=\"Helvetica,sans-Serif\" font-size=\"14.00\" fill=\"#000000\">gini = 0.462</text>\n<text text-anchor=\"middle\" x=\"1453.5\" y=\"-498.8\" font-family=\"Helvetica,sans-Serif\" font-size=\"14.00\" fill=\"#000000\">samples = 113</text>\n<text text-anchor=\"middle\" x=\"1453.5\" y=\"-483.8\" font-family=\"Helvetica,sans-Serif\" font-size=\"14.00\" fill=\"#000000\">value = [72, 41]</text>\n<text text-anchor=\"middle\" x=\"1453.5\" y=\"-468.8\" font-family=\"Helvetica,sans-Serif\" font-size=\"14.00\" fill=\"#000000\">class = Unsurvived</text>\n</g>\n<!-- 22&#45;&gt;23 -->\n<g id=\"edge23\" class=\"edge\">\n<title>22&#45;&gt;23</title>\n<path fill=\"none\" stroke=\"#000000\" d=\"M1453.5,-579.8796C1453.5,-571.6838 1453.5,-562.9891 1453.5,-554.5013\"/>\n<polygon fill=\"#000000\" stroke=\"#000000\" points=\"1457.0001,-554.298 1453.5,-544.2981 1450.0001,-554.2981 1457.0001,-554.298\"/>\n</g>\n<!-- 30 -->\n<g id=\"node31\" class=\"node\">\n<title>30</title>\n<polygon fill=\"#e99559\" stroke=\"#000000\" points=\"1997.5,-544 1857.5,-544 1857.5,-461 1997.5,-461 1997.5,-544\"/>\n<text text-anchor=\"middle\" x=\"1927.5\" y=\"-528.8\" font-family=\"Helvetica,sans-Serif\" font-size=\"14.00\" fill=\"#000000\">age &lt;= 1.5</text>\n<text text-anchor=\"middle\" x=\"1927.5\" y=\"-513.8\" font-family=\"Helvetica,sans-Serif\" font-size=\"14.00\" fill=\"#000000\">gini = 0.239</text>\n<text text-anchor=\"middle\" x=\"1927.5\" y=\"-498.8\" font-family=\"Helvetica,sans-Serif\" font-size=\"14.00\" fill=\"#000000\">samples = 404</text>\n<text text-anchor=\"middle\" x=\"1927.5\" y=\"-483.8\" font-family=\"Helvetica,sans-Serif\" font-size=\"14.00\" fill=\"#000000\">value = [348, 56]</text>\n<text text-anchor=\"middle\" x=\"1927.5\" y=\"-468.8\" font-family=\"Helvetica,sans-Serif\" font-size=\"14.00\" fill=\"#000000\">class = Unsurvived</text>\n</g>\n<!-- 22&#45;&gt;30 -->\n<g id=\"edge30\" class=\"edge\">\n<title>22&#45;&gt;30</title>\n<path fill=\"none\" stroke=\"#000000\" d=\"M1523.6954,-603.8771C1610.1374,-582.1754 1756.6284,-545.3981 1847.3885,-522.6124\"/>\n<polygon fill=\"#000000\" stroke=\"#000000\" points=\"1848.5077,-525.9401 1857.3545,-520.1104 1846.8032,-519.1508 1848.5077,-525.9401\"/>\n</g>\n<!-- 24 -->\n<g id=\"node25\" class=\"node\">\n<title>24</title>\n<polygon fill=\"#fae5d6\" stroke=\"#000000\" points=\"1444.5,-425 1304.5,-425 1304.5,-342 1444.5,-342 1444.5,-425\"/>\n<text text-anchor=\"middle\" x=\"1374.5\" y=\"-409.8\" font-family=\"Helvetica,sans-Serif\" font-size=\"14.00\" fill=\"#000000\">age &lt;= 1.5</text>\n<text text-anchor=\"middle\" x=\"1374.5\" y=\"-394.8\" font-family=\"Helvetica,sans-Serif\" font-size=\"14.00\" fill=\"#000000\">gini = 0.493</text>\n<text text-anchor=\"middle\" x=\"1374.5\" y=\"-379.8\" font-family=\"Helvetica,sans-Serif\" font-size=\"14.00\" fill=\"#000000\">samples = 61</text>\n<text text-anchor=\"middle\" x=\"1374.5\" y=\"-364.8\" font-family=\"Helvetica,sans-Serif\" font-size=\"14.00\" fill=\"#000000\">value = [34, 27]</text>\n<text text-anchor=\"middle\" x=\"1374.5\" y=\"-349.8\" font-family=\"Helvetica,sans-Serif\" font-size=\"14.00\" fill=\"#000000\">class = Unsurvived</text>\n</g>\n<!-- 23&#45;&gt;24 -->\n<g id=\"edge24\" class=\"edge\">\n<title>23&#45;&gt;24</title>\n<path fill=\"none\" stroke=\"#000000\" d=\"M1425.8696,-460.8796C1420.07,-452.1434 1413.8941,-442.8404 1407.9092,-433.8253\"/>\n<polygon fill=\"#000000\" stroke=\"#000000\" points=\"1410.6951,-431.6935 1402.2483,-425.2981 1404.8632,-435.5652 1410.6951,-431.6935\"/>\n</g>\n<!-- 27 -->\n<g id=\"node28\" class=\"node\">\n<title>27</title>\n<polygon fill=\"#efaf82\" stroke=\"#000000\" points=\"1602.5,-425 1462.5,-425 1462.5,-342 1602.5,-342 1602.5,-425\"/>\n<text text-anchor=\"middle\" x=\"1532.5\" y=\"-409.8\" font-family=\"Helvetica,sans-Serif\" font-size=\"14.00\" fill=\"#000000\">age &lt;= 3.5</text>\n<text text-anchor=\"middle\" x=\"1532.5\" y=\"-394.8\" font-family=\"Helvetica,sans-Serif\" font-size=\"14.00\" fill=\"#000000\">gini = 0.393</text>\n<text text-anchor=\"middle\" x=\"1532.5\" y=\"-379.8\" font-family=\"Helvetica,sans-Serif\" font-size=\"14.00\" fill=\"#000000\">samples = 52</text>\n<text text-anchor=\"middle\" x=\"1532.5\" y=\"-364.8\" font-family=\"Helvetica,sans-Serif\" font-size=\"14.00\" fill=\"#000000\">value = [38, 14]</text>\n<text text-anchor=\"middle\" x=\"1532.5\" y=\"-349.8\" font-family=\"Helvetica,sans-Serif\" font-size=\"14.00\" fill=\"#000000\">class = Unsurvived</text>\n</g>\n<!-- 23&#45;&gt;27 -->\n<g id=\"edge27\" class=\"edge\">\n<title>23&#45;&gt;27</title>\n<path fill=\"none\" stroke=\"#000000\" d=\"M1481.1304,-460.8796C1486.93,-452.1434 1493.1059,-442.8404 1499.0908,-433.8253\"/>\n<polygon fill=\"#000000\" stroke=\"#000000\" points=\"1502.1368,-435.5652 1504.7517,-425.2981 1496.3049,-431.6935 1502.1368,-435.5652\"/>\n</g>\n<!-- 25 -->\n<g id=\"node26\" class=\"node\">\n<title>25</title>\n<polygon fill=\"#ffffff\" stroke=\"#000000\" points=\"1286.5,-298.5 1146.5,-298.5 1146.5,-230.5 1286.5,-230.5 1286.5,-298.5\"/>\n<text text-anchor=\"middle\" x=\"1216.5\" y=\"-283.3\" font-family=\"Helvetica,sans-Serif\" font-size=\"14.00\" fill=\"#000000\">gini = 0.5</text>\n<text text-anchor=\"middle\" x=\"1216.5\" y=\"-268.3\" font-family=\"Helvetica,sans-Serif\" font-size=\"14.00\" fill=\"#000000\">samples = 6</text>\n<text text-anchor=\"middle\" x=\"1216.5\" y=\"-253.3\" font-family=\"Helvetica,sans-Serif\" font-size=\"14.00\" fill=\"#000000\">value = [3, 3]</text>\n<text text-anchor=\"middle\" x=\"1216.5\" y=\"-238.3\" font-family=\"Helvetica,sans-Serif\" font-size=\"14.00\" fill=\"#000000\">class = Unsurvived</text>\n</g>\n<!-- 24&#45;&gt;25 -->\n<g id=\"edge25\" class=\"edge\">\n<title>24&#45;&gt;25</title>\n<path fill=\"none\" stroke=\"#000000\" d=\"M1319.2393,-341.8796C1303.2497,-329.8368 1285.8297,-316.7167 1269.9526,-304.7586\"/>\n<polygon fill=\"#000000\" stroke=\"#000000\" points=\"1271.8998,-301.8435 1261.8062,-298.623 1267.6884,-307.435 1271.8998,-301.8435\"/>\n</g>\n<!-- 26 -->\n<g id=\"node27\" class=\"node\">\n<title>26</title>\n<polygon fill=\"#f9e3d2\" stroke=\"#000000\" points=\"1444.5,-298.5 1304.5,-298.5 1304.5,-230.5 1444.5,-230.5 1444.5,-298.5\"/>\n<text text-anchor=\"middle\" x=\"1374.5\" y=\"-283.3\" font-family=\"Helvetica,sans-Serif\" font-size=\"14.00\" fill=\"#000000\">gini = 0.492</text>\n<text text-anchor=\"middle\" x=\"1374.5\" y=\"-268.3\" font-family=\"Helvetica,sans-Serif\" font-size=\"14.00\" fill=\"#000000\">samples = 55</text>\n<text text-anchor=\"middle\" x=\"1374.5\" y=\"-253.3\" font-family=\"Helvetica,sans-Serif\" font-size=\"14.00\" fill=\"#000000\">value = [31, 24]</text>\n<text text-anchor=\"middle\" x=\"1374.5\" y=\"-238.3\" font-family=\"Helvetica,sans-Serif\" font-size=\"14.00\" fill=\"#000000\">class = Unsurvived</text>\n</g>\n<!-- 24&#45;&gt;26 -->\n<g id=\"edge26\" class=\"edge\">\n<title>24&#45;&gt;26</title>\n<path fill=\"none\" stroke=\"#000000\" d=\"M1374.5,-341.8796C1374.5,-331.2134 1374.5,-319.7021 1374.5,-308.9015\"/>\n<polygon fill=\"#000000\" stroke=\"#000000\" points=\"1378.0001,-308.8149 1374.5,-298.8149 1371.0001,-308.815 1378.0001,-308.8149\"/>\n</g>\n<!-- 28 -->\n<g id=\"node29\" class=\"node\">\n<title>28</title>\n<polygon fill=\"#f1bb94\" stroke=\"#000000\" points=\"1602.5,-298.5 1462.5,-298.5 1462.5,-230.5 1602.5,-230.5 1602.5,-298.5\"/>\n<text text-anchor=\"middle\" x=\"1532.5\" y=\"-283.3\" font-family=\"Helvetica,sans-Serif\" font-size=\"14.00\" fill=\"#000000\">gini = 0.432</text>\n<text text-anchor=\"middle\" x=\"1532.5\" y=\"-268.3\" font-family=\"Helvetica,sans-Serif\" font-size=\"14.00\" fill=\"#000000\">samples = 38</text>\n<text text-anchor=\"middle\" x=\"1532.5\" y=\"-253.3\" font-family=\"Helvetica,sans-Serif\" font-size=\"14.00\" fill=\"#000000\">value = [26, 12]</text>\n<text text-anchor=\"middle\" x=\"1532.5\" y=\"-238.3\" font-family=\"Helvetica,sans-Serif\" font-size=\"14.00\" fill=\"#000000\">class = Unsurvived</text>\n</g>\n<!-- 27&#45;&gt;28 -->\n<g id=\"edge28\" class=\"edge\">\n<title>27&#45;&gt;28</title>\n<path fill=\"none\" stroke=\"#000000\" d=\"M1532.5,-341.8796C1532.5,-331.2134 1532.5,-319.7021 1532.5,-308.9015\"/>\n<polygon fill=\"#000000\" stroke=\"#000000\" points=\"1536.0001,-308.8149 1532.5,-298.8149 1529.0001,-308.815 1536.0001,-308.8149\"/>\n</g>\n<!-- 29 -->\n<g id=\"node30\" class=\"node\">\n<title>29</title>\n<polygon fill=\"#e9965a\" stroke=\"#000000\" points=\"1760.5,-298.5 1620.5,-298.5 1620.5,-230.5 1760.5,-230.5 1760.5,-298.5\"/>\n<text text-anchor=\"middle\" x=\"1690.5\" y=\"-283.3\" font-family=\"Helvetica,sans-Serif\" font-size=\"14.00\" fill=\"#000000\">gini = 0.245</text>\n<text text-anchor=\"middle\" x=\"1690.5\" y=\"-268.3\" font-family=\"Helvetica,sans-Serif\" font-size=\"14.00\" fill=\"#000000\">samples = 14</text>\n<text text-anchor=\"middle\" x=\"1690.5\" y=\"-253.3\" font-family=\"Helvetica,sans-Serif\" font-size=\"14.00\" fill=\"#000000\">value = [12, 2]</text>\n<text text-anchor=\"middle\" x=\"1690.5\" y=\"-238.3\" font-family=\"Helvetica,sans-Serif\" font-size=\"14.00\" fill=\"#000000\">class = Unsurvived</text>\n</g>\n<!-- 27&#45;&gt;29 -->\n<g id=\"edge29\" class=\"edge\">\n<title>27&#45;&gt;29</title>\n<path fill=\"none\" stroke=\"#000000\" d=\"M1587.7607,-341.8796C1603.7503,-329.8368 1621.1703,-316.7167 1637.0474,-304.7586\"/>\n<polygon fill=\"#000000\" stroke=\"#000000\" points=\"1639.3116,-307.435 1645.1938,-298.623 1635.1002,-301.8435 1639.3116,-307.435\"/>\n</g>\n<!-- 31 -->\n<g id=\"node32\" class=\"node\">\n<title>31</title>\n<polygon fill=\"#eeac7c\" stroke=\"#000000\" points=\"1997.5,-425 1857.5,-425 1857.5,-342 1997.5,-342 1997.5,-425\"/>\n<text text-anchor=\"middle\" x=\"1927.5\" y=\"-409.8\" font-family=\"Helvetica,sans-Serif\" font-size=\"14.00\" fill=\"#000000\">pclass &lt;= 2.5</text>\n<text text-anchor=\"middle\" x=\"1927.5\" y=\"-394.8\" font-family=\"Helvetica,sans-Serif\" font-size=\"14.00\" fill=\"#000000\">gini = 0.378</text>\n<text text-anchor=\"middle\" x=\"1927.5\" y=\"-379.8\" font-family=\"Helvetica,sans-Serif\" font-size=\"14.00\" fill=\"#000000\">samples = 71</text>\n<text text-anchor=\"middle\" x=\"1927.5\" y=\"-364.8\" font-family=\"Helvetica,sans-Serif\" font-size=\"14.00\" fill=\"#000000\">value = [53, 18]</text>\n<text text-anchor=\"middle\" x=\"1927.5\" y=\"-349.8\" font-family=\"Helvetica,sans-Serif\" font-size=\"14.00\" fill=\"#000000\">class = Unsurvived</text>\n</g>\n<!-- 30&#45;&gt;31 -->\n<g id=\"edge31\" class=\"edge\">\n<title>30&#45;&gt;31</title>\n<path fill=\"none\" stroke=\"#000000\" d=\"M1927.5,-460.8796C1927.5,-452.6838 1927.5,-443.9891 1927.5,-435.5013\"/>\n<polygon fill=\"#000000\" stroke=\"#000000\" points=\"1931.0001,-435.298 1927.5,-425.2981 1924.0001,-435.2981 1931.0001,-435.298\"/>\n</g>\n<!-- 34 -->\n<g id=\"node35\" class=\"node\">\n<title>34</title>\n<polygon fill=\"#e89153\" stroke=\"#000000\" points=\"2234.5,-425 2094.5,-425 2094.5,-342 2234.5,-342 2234.5,-425\"/>\n<text text-anchor=\"middle\" x=\"2164.5\" y=\"-409.8\" font-family=\"Helvetica,sans-Serif\" font-size=\"14.00\" fill=\"#000000\">age &lt;= 2.5</text>\n<text text-anchor=\"middle\" x=\"2164.5\" y=\"-394.8\" font-family=\"Helvetica,sans-Serif\" font-size=\"14.00\" fill=\"#000000\">gini = 0.202</text>\n<text text-anchor=\"middle\" x=\"2164.5\" y=\"-379.8\" font-family=\"Helvetica,sans-Serif\" font-size=\"14.00\" fill=\"#000000\">samples = 333</text>\n<text text-anchor=\"middle\" x=\"2164.5\" y=\"-364.8\" font-family=\"Helvetica,sans-Serif\" font-size=\"14.00\" fill=\"#000000\">value = [295, 38]</text>\n<text text-anchor=\"middle\" x=\"2164.5\" y=\"-349.8\" font-family=\"Helvetica,sans-Serif\" font-size=\"14.00\" fill=\"#000000\">class = Unsurvived</text>\n</g>\n<!-- 30&#45;&gt;34 -->\n<g id=\"edge34\" class=\"edge\">\n<title>30&#45;&gt;34</title>\n<path fill=\"none\" stroke=\"#000000\" d=\"M1997.6459,-467.2791C2025.1118,-453.4882 2056.761,-437.5968 2085.0628,-423.3862\"/>\n<polygon fill=\"#000000\" stroke=\"#000000\" points=\"2086.7584,-426.4513 2094.1246,-418.8362 2083.6173,-420.1956 2086.7584,-426.4513\"/>\n</g>\n<!-- 32 -->\n<g id=\"node33\" class=\"node\">\n<title>32</title>\n<polygon fill=\"#ffffff\" stroke=\"#000000\" points=\"1918.5,-298.5 1778.5,-298.5 1778.5,-230.5 1918.5,-230.5 1918.5,-298.5\"/>\n<text text-anchor=\"middle\" x=\"1848.5\" y=\"-283.3\" font-family=\"Helvetica,sans-Serif\" font-size=\"14.00\" fill=\"#000000\">gini = 0.5</text>\n<text text-anchor=\"middle\" x=\"1848.5\" y=\"-268.3\" font-family=\"Helvetica,sans-Serif\" font-size=\"14.00\" fill=\"#000000\">samples = 16</text>\n<text text-anchor=\"middle\" x=\"1848.5\" y=\"-253.3\" font-family=\"Helvetica,sans-Serif\" font-size=\"14.00\" fill=\"#000000\">value = [8, 8]</text>\n<text text-anchor=\"middle\" x=\"1848.5\" y=\"-238.3\" font-family=\"Helvetica,sans-Serif\" font-size=\"14.00\" fill=\"#000000\">class = Unsurvived</text>\n</g>\n<!-- 31&#45;&gt;32 -->\n<g id=\"edge32\" class=\"edge\">\n<title>31&#45;&gt;32</title>\n<path fill=\"none\" stroke=\"#000000\" d=\"M1899.8696,-341.8796C1892.4237,-330.6636 1884.3575,-318.5131 1876.8718,-307.2372\"/>\n<polygon fill=\"#000000\" stroke=\"#000000\" points=\"1879.7273,-305.2104 1871.2805,-298.8149 1873.8954,-309.082 1879.7273,-305.2104\"/>\n</g>\n<!-- 33 -->\n<g id=\"node34\" class=\"node\">\n<title>33</title>\n<polygon fill=\"#eb9d65\" stroke=\"#000000\" points=\"2076.5,-298.5 1936.5,-298.5 1936.5,-230.5 2076.5,-230.5 2076.5,-298.5\"/>\n<text text-anchor=\"middle\" x=\"2006.5\" y=\"-283.3\" font-family=\"Helvetica,sans-Serif\" font-size=\"14.00\" fill=\"#000000\">gini = 0.298</text>\n<text text-anchor=\"middle\" x=\"2006.5\" y=\"-268.3\" font-family=\"Helvetica,sans-Serif\" font-size=\"14.00\" fill=\"#000000\">samples = 55</text>\n<text text-anchor=\"middle\" x=\"2006.5\" y=\"-253.3\" font-family=\"Helvetica,sans-Serif\" font-size=\"14.00\" fill=\"#000000\">value = [45, 10]</text>\n<text text-anchor=\"middle\" x=\"2006.5\" y=\"-238.3\" font-family=\"Helvetica,sans-Serif\" font-size=\"14.00\" fill=\"#000000\">class = Unsurvived</text>\n</g>\n<!-- 31&#45;&gt;33 -->\n<g id=\"edge33\" class=\"edge\">\n<title>31&#45;&gt;33</title>\n<path fill=\"none\" stroke=\"#000000\" d=\"M1955.1304,-341.8796C1962.5763,-330.6636 1970.6425,-318.5131 1978.1282,-307.2372\"/>\n<polygon fill=\"#000000\" stroke=\"#000000\" points=\"1981.1046,-309.082 1983.7195,-298.8149 1975.2727,-305.2104 1981.1046,-309.082\"/>\n</g>\n<!-- 35 -->\n<g id=\"node36\" class=\"node\">\n<title>35</title>\n<polygon fill=\"#e99254\" stroke=\"#000000\" points=\"2234.5,-306 2094.5,-306 2094.5,-223 2234.5,-223 2234.5,-306\"/>\n<text text-anchor=\"middle\" x=\"2164.5\" y=\"-290.8\" font-family=\"Helvetica,sans-Serif\" font-size=\"14.00\" fill=\"#000000\">pclass &lt;= 2.5</text>\n<text text-anchor=\"middle\" x=\"2164.5\" y=\"-275.8\" font-family=\"Helvetica,sans-Serif\" font-size=\"14.00\" fill=\"#000000\">gini = 0.212</text>\n<text text-anchor=\"middle\" x=\"2164.5\" y=\"-260.8\" font-family=\"Helvetica,sans-Serif\" font-size=\"14.00\" fill=\"#000000\">samples = 282</text>\n<text text-anchor=\"middle\" x=\"2164.5\" y=\"-245.8\" font-family=\"Helvetica,sans-Serif\" font-size=\"14.00\" fill=\"#000000\">value = [248, 34]</text>\n<text text-anchor=\"middle\" x=\"2164.5\" y=\"-230.8\" font-family=\"Helvetica,sans-Serif\" font-size=\"14.00\" fill=\"#000000\">class = Unsurvived</text>\n</g>\n<!-- 34&#45;&gt;35 -->\n<g id=\"edge35\" class=\"edge\">\n<title>34&#45;&gt;35</title>\n<path fill=\"none\" stroke=\"#000000\" d=\"M2164.5,-341.8796C2164.5,-333.6838 2164.5,-324.9891 2164.5,-316.5013\"/>\n<polygon fill=\"#000000\" stroke=\"#000000\" points=\"2168.0001,-316.298 2164.5,-306.2981 2161.0001,-316.2981 2168.0001,-316.298\"/>\n</g>\n<!-- 38 -->\n<g id=\"node39\" class=\"node\">\n<title>38</title>\n<polygon fill=\"#e78c4a\" stroke=\"#000000\" points=\"2392.5,-306 2252.5,-306 2252.5,-223 2392.5,-223 2392.5,-306\"/>\n<text text-anchor=\"middle\" x=\"2322.5\" y=\"-290.8\" font-family=\"Helvetica,sans-Serif\" font-size=\"14.00\" fill=\"#000000\">age &lt;= 3.5</text>\n<text text-anchor=\"middle\" x=\"2322.5\" y=\"-275.8\" font-family=\"Helvetica,sans-Serif\" font-size=\"14.00\" fill=\"#000000\">gini = 0.145</text>\n<text text-anchor=\"middle\" x=\"2322.5\" y=\"-260.8\" font-family=\"Helvetica,sans-Serif\" font-size=\"14.00\" fill=\"#000000\">samples = 51</text>\n<text text-anchor=\"middle\" x=\"2322.5\" y=\"-245.8\" font-family=\"Helvetica,sans-Serif\" font-size=\"14.00\" fill=\"#000000\">value = [47, 4]</text>\n<text text-anchor=\"middle\" x=\"2322.5\" y=\"-230.8\" font-family=\"Helvetica,sans-Serif\" font-size=\"14.00\" fill=\"#000000\">class = Unsurvived</text>\n</g>\n<!-- 34&#45;&gt;38 -->\n<g id=\"edge38\" class=\"edge\">\n<title>34&#45;&gt;38</title>\n<path fill=\"none\" stroke=\"#000000\" d=\"M2219.7607,-341.8796C2232.5099,-332.2774 2246.1683,-321.9903 2259.2291,-312.1534\"/>\n<polygon fill=\"#000000\" stroke=\"#000000\" points=\"2261.3883,-314.9089 2267.2705,-306.0969 2257.1769,-309.3174 2261.3883,-314.9089\"/>\n</g>\n<!-- 36 -->\n<g id=\"node37\" class=\"node\">\n<title>36</title>\n<polygon fill=\"#e78d4b\" stroke=\"#000000\" points=\"2076.5,-179.5 1936.5,-179.5 1936.5,-111.5 2076.5,-111.5 2076.5,-179.5\"/>\n<text text-anchor=\"middle\" x=\"2006.5\" y=\"-164.3\" font-family=\"Helvetica,sans-Serif\" font-size=\"14.00\" fill=\"#000000\">gini = 0.155</text>\n<text text-anchor=\"middle\" x=\"2006.5\" y=\"-149.3\" font-family=\"Helvetica,sans-Serif\" font-size=\"14.00\" fill=\"#000000\">samples = 59</text>\n<text text-anchor=\"middle\" x=\"2006.5\" y=\"-134.3\" font-family=\"Helvetica,sans-Serif\" font-size=\"14.00\" fill=\"#000000\">value = [54, 5]</text>\n<text text-anchor=\"middle\" x=\"2006.5\" y=\"-119.3\" font-family=\"Helvetica,sans-Serif\" font-size=\"14.00\" fill=\"#000000\">class = Unsurvived</text>\n</g>\n<!-- 35&#45;&gt;36 -->\n<g id=\"edge36\" class=\"edge\">\n<title>35&#45;&gt;36</title>\n<path fill=\"none\" stroke=\"#000000\" d=\"M2109.2393,-222.8796C2093.2497,-210.8368 2075.8297,-197.7167 2059.9526,-185.7586\"/>\n<polygon fill=\"#000000\" stroke=\"#000000\" points=\"2061.8998,-182.8435 2051.8062,-179.623 2057.6884,-188.435 2061.8998,-182.8435\"/>\n</g>\n<!-- 37 -->\n<g id=\"node38\" class=\"node\">\n<title>37</title>\n<polygon fill=\"#e99457\" stroke=\"#000000\" points=\"2234.5,-179.5 2094.5,-179.5 2094.5,-111.5 2234.5,-111.5 2234.5,-179.5\"/>\n<text text-anchor=\"middle\" x=\"2164.5\" y=\"-164.3\" font-family=\"Helvetica,sans-Serif\" font-size=\"14.00\" fill=\"#000000\">gini = 0.226</text>\n<text text-anchor=\"middle\" x=\"2164.5\" y=\"-149.3\" font-family=\"Helvetica,sans-Serif\" font-size=\"14.00\" fill=\"#000000\">samples = 223</text>\n<text text-anchor=\"middle\" x=\"2164.5\" y=\"-134.3\" font-family=\"Helvetica,sans-Serif\" font-size=\"14.00\" fill=\"#000000\">value = [194, 29]</text>\n<text text-anchor=\"middle\" x=\"2164.5\" y=\"-119.3\" font-family=\"Helvetica,sans-Serif\" font-size=\"14.00\" fill=\"#000000\">class = Unsurvived</text>\n</g>\n<!-- 35&#45;&gt;37 -->\n<g id=\"edge37\" class=\"edge\">\n<title>35&#45;&gt;37</title>\n<path fill=\"none\" stroke=\"#000000\" d=\"M2164.5,-222.8796C2164.5,-212.2134 2164.5,-200.7021 2164.5,-189.9015\"/>\n<polygon fill=\"#000000\" stroke=\"#000000\" points=\"2168.0001,-189.8149 2164.5,-179.8149 2161.0001,-189.815 2168.0001,-189.8149\"/>\n</g>\n<!-- 39 -->\n<g id=\"node40\" class=\"node\">\n<title>39</title>\n<polygon fill=\"#e78a47\" stroke=\"#000000\" points=\"2392.5,-187 2252.5,-187 2252.5,-104 2392.5,-104 2392.5,-187\"/>\n<text text-anchor=\"middle\" x=\"2322.5\" y=\"-171.8\" font-family=\"Helvetica,sans-Serif\" font-size=\"14.00\" fill=\"#000000\">pclass &lt;= 2.5</text>\n<text text-anchor=\"middle\" x=\"2322.5\" y=\"-156.8\" font-family=\"Helvetica,sans-Serif\" font-size=\"14.00\" fill=\"#000000\">gini = 0.127</text>\n<text text-anchor=\"middle\" x=\"2322.5\" y=\"-141.8\" font-family=\"Helvetica,sans-Serif\" font-size=\"14.00\" fill=\"#000000\">samples = 44</text>\n<text text-anchor=\"middle\" x=\"2322.5\" y=\"-126.8\" font-family=\"Helvetica,sans-Serif\" font-size=\"14.00\" fill=\"#000000\">value = [41, 3]</text>\n<text text-anchor=\"middle\" x=\"2322.5\" y=\"-111.8\" font-family=\"Helvetica,sans-Serif\" font-size=\"14.00\" fill=\"#000000\">class = Unsurvived</text>\n</g>\n<!-- 38&#45;&gt;39 -->\n<g id=\"edge39\" class=\"edge\">\n<title>38&#45;&gt;39</title>\n<path fill=\"none\" stroke=\"#000000\" d=\"M2322.5,-222.8796C2322.5,-214.6838 2322.5,-205.9891 2322.5,-197.5013\"/>\n<polygon fill=\"#000000\" stroke=\"#000000\" points=\"2326.0001,-197.298 2322.5,-187.2981 2319.0001,-197.2981 2326.0001,-197.298\"/>\n</g>\n<!-- 42 -->\n<g id=\"node43\" class=\"node\">\n<title>42</title>\n<polygon fill=\"#e9965a\" stroke=\"#000000\" points=\"2550.5,-187 2410.5,-187 2410.5,-104 2550.5,-104 2550.5,-187\"/>\n<text text-anchor=\"middle\" x=\"2480.5\" y=\"-171.8\" font-family=\"Helvetica,sans-Serif\" font-size=\"14.00\" fill=\"#000000\">pclass &lt;= 2.5</text>\n<text text-anchor=\"middle\" x=\"2480.5\" y=\"-156.8\" font-family=\"Helvetica,sans-Serif\" font-size=\"14.00\" fill=\"#000000\">gini = 0.245</text>\n<text text-anchor=\"middle\" x=\"2480.5\" y=\"-141.8\" font-family=\"Helvetica,sans-Serif\" font-size=\"14.00\" fill=\"#000000\">samples = 7</text>\n<text text-anchor=\"middle\" x=\"2480.5\" y=\"-126.8\" font-family=\"Helvetica,sans-Serif\" font-size=\"14.00\" fill=\"#000000\">value = [6, 1]</text>\n<text text-anchor=\"middle\" x=\"2480.5\" y=\"-111.8\" font-family=\"Helvetica,sans-Serif\" font-size=\"14.00\" fill=\"#000000\">class = Unsurvived</text>\n</g>\n<!-- 38&#45;&gt;42 -->\n<g id=\"edge42\" class=\"edge\">\n<title>38&#45;&gt;42</title>\n<path fill=\"none\" stroke=\"#000000\" d=\"M2377.7607,-222.8796C2390.5099,-213.2774 2404.1683,-202.9903 2417.2291,-193.1534\"/>\n<polygon fill=\"#000000\" stroke=\"#000000\" points=\"2419.3883,-195.9089 2425.2705,-187.0969 2415.1769,-190.3174 2419.3883,-195.9089\"/>\n</g>\n<!-- 40 -->\n<g id=\"node41\" class=\"node\">\n<title>40</title>\n<polygon fill=\"#e78945\" stroke=\"#000000\" points=\"2234.5,-68 2094.5,-68 2094.5,0 2234.5,0 2234.5,-68\"/>\n<text text-anchor=\"middle\" x=\"2164.5\" y=\"-52.8\" font-family=\"Helvetica,sans-Serif\" font-size=\"14.00\" fill=\"#000000\">gini = 0.111</text>\n<text text-anchor=\"middle\" x=\"2164.5\" y=\"-37.8\" font-family=\"Helvetica,sans-Serif\" font-size=\"14.00\" fill=\"#000000\">samples = 17</text>\n<text text-anchor=\"middle\" x=\"2164.5\" y=\"-22.8\" font-family=\"Helvetica,sans-Serif\" font-size=\"14.00\" fill=\"#000000\">value = [16, 1]</text>\n<text text-anchor=\"middle\" x=\"2164.5\" y=\"-7.8\" font-family=\"Helvetica,sans-Serif\" font-size=\"14.00\" fill=\"#000000\">class = Unsurvived</text>\n</g>\n<!-- 39&#45;&gt;40 -->\n<g id=\"edge40\" class=\"edge\">\n<title>39&#45;&gt;40</title>\n<path fill=\"none\" stroke=\"#000000\" d=\"M2263.6666,-103.9815C2249.789,-94.1881 2235.0216,-83.7668 2221.2386,-74.0402\"/>\n<polygon fill=\"#000000\" stroke=\"#000000\" points=\"2222.9892,-70.9918 2212.8007,-68.0856 2218.9531,-76.7111 2222.9892,-70.9918\"/>\n</g>\n<!-- 41 -->\n<g id=\"node42\" class=\"node\">\n<title>41</title>\n<polygon fill=\"#e78b49\" stroke=\"#000000\" points=\"2392.5,-68 2252.5,-68 2252.5,0 2392.5,0 2392.5,-68\"/>\n<text text-anchor=\"middle\" x=\"2322.5\" y=\"-52.8\" font-family=\"Helvetica,sans-Serif\" font-size=\"14.00\" fill=\"#000000\">gini = 0.137</text>\n<text text-anchor=\"middle\" x=\"2322.5\" y=\"-37.8\" font-family=\"Helvetica,sans-Serif\" font-size=\"14.00\" fill=\"#000000\">samples = 27</text>\n<text text-anchor=\"middle\" x=\"2322.5\" y=\"-22.8\" font-family=\"Helvetica,sans-Serif\" font-size=\"14.00\" fill=\"#000000\">value = [25, 2]</text>\n<text text-anchor=\"middle\" x=\"2322.5\" y=\"-7.8\" font-family=\"Helvetica,sans-Serif\" font-size=\"14.00\" fill=\"#000000\">class = Unsurvived</text>\n</g>\n<!-- 39&#45;&gt;41 -->\n<g id=\"edge41\" class=\"edge\">\n<title>39&#45;&gt;41</title>\n<path fill=\"none\" stroke=\"#000000\" d=\"M2322.5,-103.9815C2322.5,-95.618 2322.5,-86.7965 2322.5,-78.3409\"/>\n<polygon fill=\"#000000\" stroke=\"#000000\" points=\"2326.0001,-78.2636 2322.5,-68.2637 2319.0001,-78.2637 2326.0001,-78.2636\"/>\n</g>\n<!-- 43 -->\n<g id=\"node44\" class=\"node\">\n<title>43</title>\n<polygon fill=\"#eeab7b\" stroke=\"#000000\" points=\"2550.5,-68 2410.5,-68 2410.5,0 2550.5,0 2550.5,-68\"/>\n<text text-anchor=\"middle\" x=\"2480.5\" y=\"-52.8\" font-family=\"Helvetica,sans-Serif\" font-size=\"14.00\" fill=\"#000000\">gini = 0.375</text>\n<text text-anchor=\"middle\" x=\"2480.5\" y=\"-37.8\" font-family=\"Helvetica,sans-Serif\" font-size=\"14.00\" fill=\"#000000\">samples = 4</text>\n<text text-anchor=\"middle\" x=\"2480.5\" y=\"-22.8\" font-family=\"Helvetica,sans-Serif\" font-size=\"14.00\" fill=\"#000000\">value = [3, 1]</text>\n<text text-anchor=\"middle\" x=\"2480.5\" y=\"-7.8\" font-family=\"Helvetica,sans-Serif\" font-size=\"14.00\" fill=\"#000000\">class = Unsurvived</text>\n</g>\n<!-- 42&#45;&gt;43 -->\n<g id=\"edge43\" class=\"edge\">\n<title>42&#45;&gt;43</title>\n<path fill=\"none\" stroke=\"#000000\" d=\"M2480.5,-103.9815C2480.5,-95.618 2480.5,-86.7965 2480.5,-78.3409\"/>\n<polygon fill=\"#000000\" stroke=\"#000000\" points=\"2484.0001,-78.2636 2480.5,-68.2637 2477.0001,-78.2637 2484.0001,-78.2636\"/>\n</g>\n<!-- 44 -->\n<g id=\"node45\" class=\"node\">\n<title>44</title>\n<polygon fill=\"#e58139\" stroke=\"#000000\" points=\"2708.5,-68 2568.5,-68 2568.5,0 2708.5,0 2708.5,-68\"/>\n<text text-anchor=\"middle\" x=\"2638.5\" y=\"-52.8\" font-family=\"Helvetica,sans-Serif\" font-size=\"14.00\" fill=\"#000000\">gini = 0.0</text>\n<text text-anchor=\"middle\" x=\"2638.5\" y=\"-37.8\" font-family=\"Helvetica,sans-Serif\" font-size=\"14.00\" fill=\"#000000\">samples = 3</text>\n<text text-anchor=\"middle\" x=\"2638.5\" y=\"-22.8\" font-family=\"Helvetica,sans-Serif\" font-size=\"14.00\" fill=\"#000000\">value = [3, 0]</text>\n<text text-anchor=\"middle\" x=\"2638.5\" y=\"-7.8\" font-family=\"Helvetica,sans-Serif\" font-size=\"14.00\" fill=\"#000000\">class = Unsurvived</text>\n</g>\n<!-- 42&#45;&gt;44 -->\n<g id=\"edge44\" class=\"edge\">\n<title>42&#45;&gt;44</title>\n<path fill=\"none\" stroke=\"#000000\" d=\"M2539.3334,-103.9815C2553.211,-94.1881 2567.9784,-83.7668 2581.7614,-74.0402\"/>\n<polygon fill=\"#000000\" stroke=\"#000000\" points=\"2584.0469,-76.7111 2590.1993,-68.0856 2580.0108,-70.9918 2584.0469,-76.7111\"/>\n</g>\n</g>\n</svg>\n"
          },
          "metadata": {},
          "execution_count": 45
        }
      ]
    },
    {
      "cell_type": "markdown",
      "metadata": {
        "id": "j3qg4mmUcPga"
      },
      "source": [
        "# **4. 다양한 머신러닝 기법**"
      ]
    },
    {
      "cell_type": "markdown",
      "metadata": {
        "id": "9WZByD3p9mWA"
      },
      "source": [
        "\\- 데이터 생성"
      ]
    },
    {
      "cell_type": "code",
      "metadata": {
        "id": "QjIPW2eQ82vC",
        "colab": {
          "base_uri": "https://localhost:8080/"
        },
        "outputId": "5b2caf2d-71ca-4fce-9797-ef92430a19bd"
      },
      "source": [
        "import seaborn as sns\n",
        "import pandas as pd\n",
        "\n",
        "df = sns.load_dataset('titanic')\n",
        "\n",
        "train_df = df[:800]\n",
        "test_df = df[800:]\n",
        "\n",
        "names = train_df.columns\n",
        "train_df = train_df.drop(names[4:], axis = 1)\n",
        "test_df = test_df.drop(names[4:], axis = 1)\n",
        "\n",
        "train_df.fillna(train_df.mean()[['age']], inplace = True)\n",
        "test_df.fillna(test_df.mean()[['age']], inplace = True)\n",
        "\n",
        "map_dict = {'female' : 0, 'male' : 1}\n",
        "\n",
        "train_df['sex'] = train_df['sex'].map(map_dict).astype(int)\n",
        "test_df['sex'] = test_df['sex'].map(map_dict).astype(int)\n",
        "\n",
        "def function1(x):\n",
        "    if x < 20:\n",
        "        return 1\n",
        "    elif x < 40:\n",
        "        return 2\n",
        "    elif x < 60:\n",
        "        return 3\n",
        "    else:\n",
        "        return 4\n",
        "\n",
        "train_df['age'] = train_df['age'].apply(function1)\n",
        "test_df['age'] = test_df['age'].apply(function1)\n",
        "\n",
        "X_train = train_df.drop([\"survived\"], axis=1)\n",
        "Y_train = train_df[\"survived\"]\n",
        "X_test  = test_df.drop(\"survived\", axis=1)\n",
        "Y_test = test_df[\"survived\"]"
      ],
      "execution_count": 46,
      "outputs": [
        {
          "output_type": "stream",
          "name": "stderr",
          "text": [
            "/usr/local/lib/python3.7/dist-packages/ipykernel_launcher.py:13: FutureWarning: Dropping of nuisance columns in DataFrame reductions (with 'numeric_only=None') is deprecated; in a future version this will raise TypeError.  Select only valid columns before calling the reduction.\n",
            "  del sys.path[0]\n",
            "/usr/local/lib/python3.7/dist-packages/ipykernel_launcher.py:14: FutureWarning: Dropping of nuisance columns in DataFrame reductions (with 'numeric_only=None') is deprecated; in a future version this will raise TypeError.  Select only valid columns before calling the reduction.\n",
            "  \n"
          ]
        }
      ]
    },
    {
      "cell_type": "markdown",
      "metadata": {
        "id": "7iDKlh0-xEvN"
      },
      "source": [
        "\\- 결정나무"
      ]
    },
    {
      "cell_type": "code",
      "metadata": {
        "colab": {
          "base_uri": "https://localhost:8080/"
        },
        "id": "tH1i2RJTxDvJ",
        "outputId": "be9d0966-84b2-4987-dc80-248908a197b4"
      },
      "source": [
        "from sklearn.tree import DecisionTreeClassifier\n",
        "\n",
        "decision_tree = DecisionTreeClassifier()\n",
        "decision_tree.fit(X_train, Y_train)\n",
        "\n",
        "print(decision_tree.score(X_train, Y_train))\n",
        "print(decision_tree.score(X_test, Y_test))"
      ],
      "execution_count": null,
      "outputs": [
        {
          "output_type": "stream",
          "text": [
            "0.8\n",
            "0.7692307692307693\n"
          ],
          "name": "stdout"
        }
      ]
    },
    {
      "cell_type": "markdown",
      "metadata": {
        "id": "m4p12zZM_JIX"
      },
      "source": [
        "![스크린샷 2021-06-26 오전 10.43.53.png](data:image/png;base64,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)"
      ]
    },
    {
      "cell_type": "markdown",
      "metadata": {
        "id": "4jqXmwy---1X"
      },
      "source": [
        "\\- 배깅(랜덤 포레스트)"
      ]
    },
    {
      "cell_type": "markdown",
      "metadata": {
        "id": "3d7TgTQ5_nRl"
      },
      "source": [
        "![스크린샷 2021-06-26 오전 10.44.13.png](data:image/png;base64,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)"
      ]
    },
    {
      "cell_type": "code",
      "metadata": {
        "id": "ORRfWUAyYX6I",
        "colab": {
          "base_uri": "https://localhost:8080/"
        },
        "outputId": "316984a3-f7a9-4207-8945-6f6c6c84e780"
      },
      "source": [
        "from sklearn.ensemble import RandomForestClassifier\n",
        "random_forest = RandomForestClassifier(n_estimators=100)\n",
        "random_forest.fit(X_train, Y_train)\n",
        "print(random_forest.score(X_train, Y_train))\n",
        "print(random_forest.score(X_test, Y_test))"
      ],
      "execution_count": null,
      "outputs": [
        {
          "output_type": "stream",
          "text": [
            "0.8\n",
            "0.7912087912087912\n"
          ],
          "name": "stdout"
        }
      ]
    },
    {
      "cell_type": "markdown",
      "metadata": {
        "id": "6tab2P0qAQaY"
      },
      "source": [
        "\\- 부스팅(xgboost)"
      ]
    },
    {
      "cell_type": "markdown",
      "metadata": {
        "id": "UH8ZkqJPAW8N"
      },
      "source": [
        "![스크린샷 2021-06-26 오전 10.44.26.png](data:image/png;base64,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)"
      ]
    },
    {
      "cell_type": "code",
      "metadata": {
        "colab": {
          "base_uri": "https://localhost:8080/"
        },
        "id": "aw3EeW1s_6_F",
        "outputId": "1a637acb-67f5-4b38-d04c-6ba51411bd9d"
      },
      "source": [
        "import xgboost as xgb\n",
        "boosting_model = xgb.XGBClassifier(n_estimators = 100)\n",
        "boosting_model.fit(X_train, Y_train)\n",
        "print(boosting_model.score(X_train, Y_train))\n",
        "print(boosting_model.score(X_test, Y_test))"
      ],
      "execution_count": null,
      "outputs": [
        {
          "output_type": "stream",
          "text": [
            "0.79875\n",
            "0.7802197802197802\n"
          ],
          "name": "stdout"
        }
      ]
    }
  ]
}