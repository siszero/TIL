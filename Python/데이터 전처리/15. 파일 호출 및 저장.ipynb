{
  "nbformat": 4,
  "nbformat_minor": 0,
  "metadata": {
    "colab": {
      "name": "파일 호출 및 저장.ipynb",
      "provenance": [],
      "collapsed_sections": []
    },
    "kernelspec": {
      "name": "python3",
      "display_name": "Python 3"
    },
    "language_info": {
      "name": "python"
    }
  },
  "cells": [
    {
      "cell_type": "markdown",
      "metadata": {
        "id": "F_U9abMXviVs"
      },
      "source": [
        "# **파일 호출 / 저장**"
      ]
    },
    {
      "cell_type": "code",
      "metadata": {
        "colab": {
          "base_uri": "https://localhost:8080/"
        },
        "id": "F2iVB5sRpu9B",
        "outputId": "6888e1f3-cf2d-466e-f350-09d6288b8271"
      },
      "source": [
        "# 각자 구글드라이브와 연결(연결했을 때 나오는 코드(비밀키) 복사/붙여넣기 하면 됨)\n",
        "\n",
        "from google.colab import drive\n",
        "drive.mount('/content/drive')"
      ],
      "execution_count": null,
      "outputs": [
        {
          "output_type": "stream",
          "text": [
            "Mounted at /content/drive\n"
          ],
          "name": "stdout"
        }
      ]
    },
    {
      "cell_type": "code",
      "metadata": {
        "id": "x84AydqqvlF-"
      },
      "source": [
        "import pandas as pd"
      ],
      "execution_count": null,
      "outputs": []
    },
    {
      "cell_type": "markdown",
      "metadata": {
        "id": "R--ixf7i_rBO"
      },
      "source": [
        "* 파일 호출"
      ]
    },
    {
      "cell_type": "code",
      "metadata": {
        "id": "NpkM1tYa1zPh"
      },
      "source": [
        "# 파일 위치 확인 후 경로 복사\n",
        "\n",
        "df= pd.read_csv('/content/drive/MyDrive/00__강의자료/데이터분석/실습자료/00_colab/02_데이터_전처리/과일가게.csv')"
      ],
      "execution_count": null,
      "outputs": []
    },
    {
      "cell_type": "code",
      "metadata": {
        "colab": {
          "base_uri": "https://localhost:8080/"
        },
        "id": "2LxXZhBGrxWE",
        "outputId": "7c7ef1c0-9ff9-4c32-879b-5b811e2199b3"
      },
      "source": [
        "type(df)"
      ],
      "execution_count": null,
      "outputs": [
        {
          "output_type": "execute_result",
          "data": {
            "text/plain": [
              "pandas.core.frame.DataFrame"
            ]
          },
          "metadata": {
            "tags": []
          },
          "execution_count": 4
        }
      ]
    },
    {
      "cell_type": "code",
      "metadata": {
        "colab": {
          "base_uri": "https://localhost:8080/",
          "height": 419
        },
        "id": "sW8mSzv2r0Gz",
        "outputId": "fa68c106-6c69-4e8a-df04-bf7da2cd5ebd"
      },
      "source": [
        "df"
      ],
      "execution_count": null,
      "outputs": [
        {
          "output_type": "execute_result",
          "data": {
            "text/html": [
              "<div>\n",
              "<style scoped>\n",
              "    .dataframe tbody tr th:only-of-type {\n",
              "        vertical-align: middle;\n",
              "    }\n",
              "\n",
              "    .dataframe tbody tr th {\n",
              "        vertical-align: top;\n",
              "    }\n",
              "\n",
              "    .dataframe thead th {\n",
              "        text-align: right;\n",
              "    }\n",
              "</style>\n",
              "<table border=\"1\" class=\"dataframe\">\n",
              "  <thead>\n",
              "    <tr style=\"text-align: right;\">\n",
              "      <th></th>\n",
              "      <th>Unnamed: 0</th>\n",
              "      <th>품목</th>\n",
              "      <th>크기</th>\n",
              "      <th>금액</th>\n",
              "      <th>수수료</th>\n",
              "    </tr>\n",
              "  </thead>\n",
              "  <tbody>\n",
              "    <tr>\n",
              "      <th>0</th>\n",
              "      <td>0</td>\n",
              "      <td>바나나</td>\n",
              "      <td>중</td>\n",
              "      <td>2000</td>\n",
              "      <td>200.0</td>\n",
              "    </tr>\n",
              "    <tr>\n",
              "      <th>1</th>\n",
              "      <td>1</td>\n",
              "      <td>바나나</td>\n",
              "      <td>대</td>\n",
              "      <td>3000</td>\n",
              "      <td>300.0</td>\n",
              "    </tr>\n",
              "    <tr>\n",
              "      <th>2</th>\n",
              "      <td>2</td>\n",
              "      <td>바나나</td>\n",
              "      <td>중</td>\n",
              "      <td>2000</td>\n",
              "      <td>200.0</td>\n",
              "    </tr>\n",
              "    <tr>\n",
              "      <th>3</th>\n",
              "      <td>3</td>\n",
              "      <td>토마토</td>\n",
              "      <td>대</td>\n",
              "      <td>1500</td>\n",
              "      <td>150.0</td>\n",
              "    </tr>\n",
              "    <tr>\n",
              "      <th>4</th>\n",
              "      <td>4</td>\n",
              "      <td>토마토</td>\n",
              "      <td>소</td>\n",
              "      <td>500</td>\n",
              "      <td>50.0</td>\n",
              "    </tr>\n",
              "    <tr>\n",
              "      <th>...</th>\n",
              "      <td>...</td>\n",
              "      <td>...</td>\n",
              "      <td>...</td>\n",
              "      <td>...</td>\n",
              "      <td>...</td>\n",
              "    </tr>\n",
              "    <tr>\n",
              "      <th>95</th>\n",
              "      <td>95</td>\n",
              "      <td>토마토</td>\n",
              "      <td>소</td>\n",
              "      <td>500</td>\n",
              "      <td>50.0</td>\n",
              "    </tr>\n",
              "    <tr>\n",
              "      <th>96</th>\n",
              "      <td>96</td>\n",
              "      <td>토마토</td>\n",
              "      <td>중</td>\n",
              "      <td>1000</td>\n",
              "      <td>100.0</td>\n",
              "    </tr>\n",
              "    <tr>\n",
              "      <th>97</th>\n",
              "      <td>97</td>\n",
              "      <td>토마토</td>\n",
              "      <td>대</td>\n",
              "      <td>1500</td>\n",
              "      <td>150.0</td>\n",
              "    </tr>\n",
              "    <tr>\n",
              "      <th>98</th>\n",
              "      <td>98</td>\n",
              "      <td>바나나</td>\n",
              "      <td>중</td>\n",
              "      <td>2000</td>\n",
              "      <td>200.0</td>\n",
              "    </tr>\n",
              "    <tr>\n",
              "      <th>99</th>\n",
              "      <td>99</td>\n",
              "      <td>바나나</td>\n",
              "      <td>소</td>\n",
              "      <td>1000</td>\n",
              "      <td>100.0</td>\n",
              "    </tr>\n",
              "  </tbody>\n",
              "</table>\n",
              "<p>100 rows × 5 columns</p>\n",
              "</div>"
            ],
            "text/plain": [
              "    Unnamed: 0   품목 크기    금액    수수료\n",
              "0            0  바나나  중  2000  200.0\n",
              "1            1  바나나  대  3000  300.0\n",
              "2            2  바나나  중  2000  200.0\n",
              "3            3  토마토  대  1500  150.0\n",
              "4            4  토마토  소   500   50.0\n",
              "..         ...  ... ..   ...    ...\n",
              "95          95  토마토  소   500   50.0\n",
              "96          96  토마토  중  1000  100.0\n",
              "97          97  토마토  대  1500  150.0\n",
              "98          98  바나나  중  2000  200.0\n",
              "99          99  바나나  소  1000  100.0\n",
              "\n",
              "[100 rows x 5 columns]"
            ]
          },
          "metadata": {
            "tags": []
          },
          "execution_count": 5
        }
      ]
    },
    {
      "cell_type": "markdown",
      "metadata": {
        "id": "1mrQz_bc5Few"
      },
      "source": [
        "\\- head() : 처음부터 5행까지 출력"
      ]
    },
    {
      "cell_type": "code",
      "metadata": {
        "colab": {
          "base_uri": "https://localhost:8080/",
          "height": 359
        },
        "id": "HuayUC7s1_RO",
        "outputId": "1db10eb0-03f0-44b8-9705-f0a1cd2b128f"
      },
      "source": [
        "df.head(10)"
      ],
      "execution_count": null,
      "outputs": [
        {
          "output_type": "execute_result",
          "data": {
            "text/html": [
              "<div>\n",
              "<style scoped>\n",
              "    .dataframe tbody tr th:only-of-type {\n",
              "        vertical-align: middle;\n",
              "    }\n",
              "\n",
              "    .dataframe tbody tr th {\n",
              "        vertical-align: top;\n",
              "    }\n",
              "\n",
              "    .dataframe thead th {\n",
              "        text-align: right;\n",
              "    }\n",
              "</style>\n",
              "<table border=\"1\" class=\"dataframe\">\n",
              "  <thead>\n",
              "    <tr style=\"text-align: right;\">\n",
              "      <th></th>\n",
              "      <th>Unnamed: 0</th>\n",
              "      <th>품목</th>\n",
              "      <th>크기</th>\n",
              "      <th>금액</th>\n",
              "      <th>수수료</th>\n",
              "    </tr>\n",
              "  </thead>\n",
              "  <tbody>\n",
              "    <tr>\n",
              "      <th>0</th>\n",
              "      <td>0</td>\n",
              "      <td>바나나</td>\n",
              "      <td>중</td>\n",
              "      <td>2000</td>\n",
              "      <td>200.0</td>\n",
              "    </tr>\n",
              "    <tr>\n",
              "      <th>1</th>\n",
              "      <td>1</td>\n",
              "      <td>바나나</td>\n",
              "      <td>대</td>\n",
              "      <td>3000</td>\n",
              "      <td>300.0</td>\n",
              "    </tr>\n",
              "    <tr>\n",
              "      <th>2</th>\n",
              "      <td>2</td>\n",
              "      <td>바나나</td>\n",
              "      <td>중</td>\n",
              "      <td>2000</td>\n",
              "      <td>200.0</td>\n",
              "    </tr>\n",
              "    <tr>\n",
              "      <th>3</th>\n",
              "      <td>3</td>\n",
              "      <td>토마토</td>\n",
              "      <td>대</td>\n",
              "      <td>1500</td>\n",
              "      <td>150.0</td>\n",
              "    </tr>\n",
              "    <tr>\n",
              "      <th>4</th>\n",
              "      <td>4</td>\n",
              "      <td>토마토</td>\n",
              "      <td>소</td>\n",
              "      <td>500</td>\n",
              "      <td>50.0</td>\n",
              "    </tr>\n",
              "    <tr>\n",
              "      <th>5</th>\n",
              "      <td>5</td>\n",
              "      <td>바나나</td>\n",
              "      <td>중</td>\n",
              "      <td>2000</td>\n",
              "      <td>200.0</td>\n",
              "    </tr>\n",
              "    <tr>\n",
              "      <th>6</th>\n",
              "      <td>6</td>\n",
              "      <td>바나나</td>\n",
              "      <td>소</td>\n",
              "      <td>1000</td>\n",
              "      <td>100.0</td>\n",
              "    </tr>\n",
              "    <tr>\n",
              "      <th>7</th>\n",
              "      <td>7</td>\n",
              "      <td>사과</td>\n",
              "      <td>중</td>\n",
              "      <td>3000</td>\n",
              "      <td>300.0</td>\n",
              "    </tr>\n",
              "    <tr>\n",
              "      <th>8</th>\n",
              "      <td>8</td>\n",
              "      <td>바나나</td>\n",
              "      <td>중</td>\n",
              "      <td>2000</td>\n",
              "      <td>200.0</td>\n",
              "    </tr>\n",
              "    <tr>\n",
              "      <th>9</th>\n",
              "      <td>9</td>\n",
              "      <td>토마토</td>\n",
              "      <td>소</td>\n",
              "      <td>500</td>\n",
              "      <td>50.0</td>\n",
              "    </tr>\n",
              "  </tbody>\n",
              "</table>\n",
              "</div>"
            ],
            "text/plain": [
              "   Unnamed: 0   품목 크기    금액    수수료\n",
              "0           0  바나나  중  2000  200.0\n",
              "1           1  바나나  대  3000  300.0\n",
              "2           2  바나나  중  2000  200.0\n",
              "3           3  토마토  대  1500  150.0\n",
              "4           4  토마토  소   500   50.0\n",
              "5           5  바나나  중  2000  200.0\n",
              "6           6  바나나  소  1000  100.0\n",
              "7           7   사과  중  3000  300.0\n",
              "8           8  바나나  중  2000  200.0\n",
              "9           9  토마토  소   500   50.0"
            ]
          },
          "metadata": {
            "tags": []
          },
          "execution_count": 7
        }
      ]
    },
    {
      "cell_type": "markdown",
      "metadata": {
        "id": "votxPhIP5jzm"
      },
      "source": [
        "\\- tail : 뒤에서부터 5행까지 출력"
      ]
    },
    {
      "cell_type": "code",
      "metadata": {
        "colab": {
          "base_uri": "https://localhost:8080/",
          "height": 359
        },
        "id": "jYPBzb5W5vxi",
        "outputId": "448a4470-4c06-414a-8b76-961b2081b92f"
      },
      "source": [
        "df.tail(10)"
      ],
      "execution_count": null,
      "outputs": [
        {
          "output_type": "execute_result",
          "data": {
            "text/html": [
              "<div>\n",
              "<style scoped>\n",
              "    .dataframe tbody tr th:only-of-type {\n",
              "        vertical-align: middle;\n",
              "    }\n",
              "\n",
              "    .dataframe tbody tr th {\n",
              "        vertical-align: top;\n",
              "    }\n",
              "\n",
              "    .dataframe thead th {\n",
              "        text-align: right;\n",
              "    }\n",
              "</style>\n",
              "<table border=\"1\" class=\"dataframe\">\n",
              "  <thead>\n",
              "    <tr style=\"text-align: right;\">\n",
              "      <th></th>\n",
              "      <th>Unnamed: 0</th>\n",
              "      <th>품목</th>\n",
              "      <th>크기</th>\n",
              "      <th>금액</th>\n",
              "      <th>수수료</th>\n",
              "    </tr>\n",
              "  </thead>\n",
              "  <tbody>\n",
              "    <tr>\n",
              "      <th>90</th>\n",
              "      <td>90</td>\n",
              "      <td>토마토</td>\n",
              "      <td>소</td>\n",
              "      <td>500</td>\n",
              "      <td>50.0</td>\n",
              "    </tr>\n",
              "    <tr>\n",
              "      <th>91</th>\n",
              "      <td>91</td>\n",
              "      <td>바나나</td>\n",
              "      <td>중</td>\n",
              "      <td>2000</td>\n",
              "      <td>200.0</td>\n",
              "    </tr>\n",
              "    <tr>\n",
              "      <th>92</th>\n",
              "      <td>92</td>\n",
              "      <td>사과</td>\n",
              "      <td>중</td>\n",
              "      <td>3000</td>\n",
              "      <td>300.0</td>\n",
              "    </tr>\n",
              "    <tr>\n",
              "      <th>93</th>\n",
              "      <td>93</td>\n",
              "      <td>바나나</td>\n",
              "      <td>소</td>\n",
              "      <td>1000</td>\n",
              "      <td>100.0</td>\n",
              "    </tr>\n",
              "    <tr>\n",
              "      <th>94</th>\n",
              "      <td>94</td>\n",
              "      <td>토마토</td>\n",
              "      <td>중</td>\n",
              "      <td>1000</td>\n",
              "      <td>100.0</td>\n",
              "    </tr>\n",
              "    <tr>\n",
              "      <th>95</th>\n",
              "      <td>95</td>\n",
              "      <td>토마토</td>\n",
              "      <td>소</td>\n",
              "      <td>500</td>\n",
              "      <td>50.0</td>\n",
              "    </tr>\n",
              "    <tr>\n",
              "      <th>96</th>\n",
              "      <td>96</td>\n",
              "      <td>토마토</td>\n",
              "      <td>중</td>\n",
              "      <td>1000</td>\n",
              "      <td>100.0</td>\n",
              "    </tr>\n",
              "    <tr>\n",
              "      <th>97</th>\n",
              "      <td>97</td>\n",
              "      <td>토마토</td>\n",
              "      <td>대</td>\n",
              "      <td>1500</td>\n",
              "      <td>150.0</td>\n",
              "    </tr>\n",
              "    <tr>\n",
              "      <th>98</th>\n",
              "      <td>98</td>\n",
              "      <td>바나나</td>\n",
              "      <td>중</td>\n",
              "      <td>2000</td>\n",
              "      <td>200.0</td>\n",
              "    </tr>\n",
              "    <tr>\n",
              "      <th>99</th>\n",
              "      <td>99</td>\n",
              "      <td>바나나</td>\n",
              "      <td>소</td>\n",
              "      <td>1000</td>\n",
              "      <td>100.0</td>\n",
              "    </tr>\n",
              "  </tbody>\n",
              "</table>\n",
              "</div>"
            ],
            "text/plain": [
              "    Unnamed: 0   품목 크기    금액    수수료\n",
              "90          90  토마토  소   500   50.0\n",
              "91          91  바나나  중  2000  200.0\n",
              "92          92   사과  중  3000  300.0\n",
              "93          93  바나나  소  1000  100.0\n",
              "94          94  토마토  중  1000  100.0\n",
              "95          95  토마토  소   500   50.0\n",
              "96          96  토마토  중  1000  100.0\n",
              "97          97  토마토  대  1500  150.0\n",
              "98          98  바나나  중  2000  200.0\n",
              "99          99  바나나  소  1000  100.0"
            ]
          },
          "metadata": {
            "tags": []
          },
          "execution_count": 9
        }
      ]
    },
    {
      "cell_type": "markdown",
      "metadata": {
        "id": "mtNLfE8h488z"
      },
      "source": [
        "\\- 첫 번째 열을 인덱스열로 삼고 싶을 경우"
      ]
    },
    {
      "cell_type": "code",
      "metadata": {
        "id": "9m0oOsff1_4C"
      },
      "source": [
        "df = pd.read_csv('/content/drive/MyDrive/00__강의자료/2021_05_패스트캠퍼스_데이터분석/실습자료/00_colab/02_데이터_전처리/과일가게.csv', index_col = 0)"
      ],
      "execution_count": null,
      "outputs": []
    },
    {
      "cell_type": "code",
      "metadata": {
        "colab": {
          "base_uri": "https://localhost:8080/",
          "height": 204
        },
        "id": "I4hHObaG5DCb",
        "outputId": "ecf79094-c9ed-4eac-9c38-25f255bd8d21"
      },
      "source": [
        "df.head()"
      ],
      "execution_count": null,
      "outputs": [
        {
          "output_type": "execute_result",
          "data": {
            "text/html": [
              "<div>\n",
              "<style scoped>\n",
              "    .dataframe tbody tr th:only-of-type {\n",
              "        vertical-align: middle;\n",
              "    }\n",
              "\n",
              "    .dataframe tbody tr th {\n",
              "        vertical-align: top;\n",
              "    }\n",
              "\n",
              "    .dataframe thead th {\n",
              "        text-align: right;\n",
              "    }\n",
              "</style>\n",
              "<table border=\"1\" class=\"dataframe\">\n",
              "  <thead>\n",
              "    <tr style=\"text-align: right;\">\n",
              "      <th></th>\n",
              "      <th>품목</th>\n",
              "      <th>크기</th>\n",
              "      <th>금액</th>\n",
              "      <th>수수료</th>\n",
              "    </tr>\n",
              "  </thead>\n",
              "  <tbody>\n",
              "    <tr>\n",
              "      <th>0</th>\n",
              "      <td>바나나</td>\n",
              "      <td>중</td>\n",
              "      <td>2000</td>\n",
              "      <td>200.0</td>\n",
              "    </tr>\n",
              "    <tr>\n",
              "      <th>1</th>\n",
              "      <td>바나나</td>\n",
              "      <td>대</td>\n",
              "      <td>3000</td>\n",
              "      <td>300.0</td>\n",
              "    </tr>\n",
              "    <tr>\n",
              "      <th>2</th>\n",
              "      <td>바나나</td>\n",
              "      <td>중</td>\n",
              "      <td>2000</td>\n",
              "      <td>200.0</td>\n",
              "    </tr>\n",
              "    <tr>\n",
              "      <th>3</th>\n",
              "      <td>토마토</td>\n",
              "      <td>대</td>\n",
              "      <td>1500</td>\n",
              "      <td>150.0</td>\n",
              "    </tr>\n",
              "    <tr>\n",
              "      <th>4</th>\n",
              "      <td>토마토</td>\n",
              "      <td>소</td>\n",
              "      <td>500</td>\n",
              "      <td>50.0</td>\n",
              "    </tr>\n",
              "  </tbody>\n",
              "</table>\n",
              "</div>"
            ],
            "text/plain": [
              "    품목 크기    금액    수수료\n",
              "0  바나나  중  2000  200.0\n",
              "1  바나나  대  3000  300.0\n",
              "2  바나나  중  2000  200.0\n",
              "3  토마토  대  1500  150.0\n",
              "4  토마토  소   500   50.0"
            ]
          },
          "metadata": {
            "tags": []
          },
          "execution_count": 11
        }
      ]
    },
    {
      "cell_type": "markdown",
      "metadata": {
        "id": "qt_OAPRN659l"
      },
      "source": [
        "\\- 구분자가 , 가 아닌 다른 기호인 경우 (csv 파일은 필드의 구분이 , 로 이루어져 있음) \n",
        "- 예를 들면, 아래와 같은 경우"
      ]
    },
    {
      "cell_type": "markdown",
      "source": [
        "![1.PNG](data:image/png;base64,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)"
      ],
      "metadata": {
        "id": "KUFNosXa2eCe"
      }
    },
    {
      "cell_type": "code",
      "metadata": {
        "id": "DOYcRx9x65RC"
      },
      "source": [
        "df = pd.read_csv('/content/drive/MyDrive/00__강의자료/2021_05_패스트캠퍼스_데이터분석/실습자료/00_colab/02_데이터_전처리/read_sep.txt', index_col = 0, sep = '|')"
      ],
      "execution_count": null,
      "outputs": []
    },
    {
      "cell_type": "code",
      "metadata": {
        "colab": {
          "base_uri": "https://localhost:8080/",
          "height": 173
        },
        "id": "oszXPQWr5D9h",
        "outputId": "c8d11f2f-bdac-4d1c-9ea4-6e0a487fdf72"
      },
      "source": [
        "df"
      ],
      "execution_count": null,
      "outputs": [
        {
          "output_type": "execute_result",
          "data": {
            "text/html": [
              "<div>\n",
              "<style scoped>\n",
              "    .dataframe tbody tr th:only-of-type {\n",
              "        vertical-align: middle;\n",
              "    }\n",
              "\n",
              "    .dataframe tbody tr th {\n",
              "        vertical-align: top;\n",
              "    }\n",
              "\n",
              "    .dataframe thead th {\n",
              "        text-align: right;\n",
              "    }\n",
              "</style>\n",
              "<table border=\"1\" class=\"dataframe\">\n",
              "  <thead>\n",
              "    <tr style=\"text-align: right;\">\n",
              "      <th></th>\n",
              "      <th>A</th>\n",
              "      <th>B</th>\n",
              "      <th>C</th>\n",
              "    </tr>\n",
              "    <tr>\n",
              "      <th>index</th>\n",
              "      <th></th>\n",
              "      <th></th>\n",
              "      <th></th>\n",
              "    </tr>\n",
              "  </thead>\n",
              "  <tbody>\n",
              "    <tr>\n",
              "      <th>0</th>\n",
              "      <td>1</td>\n",
              "      <td>11</td>\n",
              "      <td>21</td>\n",
              "    </tr>\n",
              "    <tr>\n",
              "      <th>1</th>\n",
              "      <td>2</td>\n",
              "      <td>12</td>\n",
              "      <td>22</td>\n",
              "    </tr>\n",
              "    <tr>\n",
              "      <th>2</th>\n",
              "      <td>3</td>\n",
              "      <td>13</td>\n",
              "      <td>23</td>\n",
              "    </tr>\n",
              "  </tbody>\n",
              "</table>\n",
              "</div>"
            ],
            "text/plain": [
              "       A   B   C\n",
              "index           \n",
              "0      1  11  21\n",
              "1      2  12  22\n",
              "2      3  13  23"
            ]
          },
          "metadata": {
            "tags": []
          },
          "execution_count": 13
        }
      ]
    },
    {
      "cell_type": "markdown",
      "metadata": {
        "id": "6QI8l6pb8XqF"
      },
      "source": [
        "\\- header 가 여러줄인 경우\n",
        "- 아래와 같은 경우"
      ]
    },
    {
      "cell_type": "markdown",
      "source": [
        "![2.PNG](data:image/png;base64,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)"
      ],
      "metadata": {
        "id": "3vVE8GBs3G8Y"
      }
    },
    {
      "cell_type": "code",
      "metadata": {
        "id": "0TxUZuDG8aAx"
      },
      "source": [
        "# header = 1   ->   인덱스로 치면 0,1 번째 까지는 헤더고 나머지는 데이터\n",
        "\n",
        "df = pd.read_csv('/content/drive/MyDrive/00__강의자료/데이터분석/실습자료/00_colab/02_데이터_전처리/read_multi_header.csv', header = 1)"
      ],
      "execution_count": null,
      "outputs": []
    },
    {
      "cell_type": "code",
      "metadata": {
        "colab": {
          "base_uri": "https://localhost:8080/",
          "height": 173
        },
        "id": "VLbYG5SL8uE8",
        "outputId": "e160e117-ad17-4336-b59b-82a99e2853ea"
      },
      "source": [
        "df"
      ],
      "execution_count": null,
      "outputs": [
        {
          "output_type": "execute_result",
          "data": {
            "text/html": [
              "<div>\n",
              "<style scoped>\n",
              "    .dataframe tbody tr th:only-of-type {\n",
              "        vertical-align: middle;\n",
              "    }\n",
              "\n",
              "    .dataframe tbody tr th {\n",
              "        vertical-align: top;\n",
              "    }\n",
              "\n",
              "    .dataframe thead th {\n",
              "        text-align: right;\n",
              "    }\n",
              "</style>\n",
              "<table border=\"1\" class=\"dataframe\">\n",
              "  <thead>\n",
              "    <tr style=\"text-align: right;\">\n",
              "      <th></th>\n",
              "      <th>a</th>\n",
              "      <th>b</th>\n",
              "      <th>c</th>\n",
              "    </tr>\n",
              "  </thead>\n",
              "  <tbody>\n",
              "    <tr>\n",
              "      <th>0</th>\n",
              "      <td>1</td>\n",
              "      <td>11</td>\n",
              "      <td>21</td>\n",
              "    </tr>\n",
              "    <tr>\n",
              "      <th>1</th>\n",
              "      <td>2</td>\n",
              "      <td>12</td>\n",
              "      <td>22</td>\n",
              "    </tr>\n",
              "    <tr>\n",
              "      <th>2</th>\n",
              "      <td>3</td>\n",
              "      <td>13</td>\n",
              "      <td>23</td>\n",
              "    </tr>\n",
              "    <tr>\n",
              "      <th>3</th>\n",
              "      <td>4</td>\n",
              "      <td>14</td>\n",
              "      <td>24</td>\n",
              "    </tr>\n",
              "  </tbody>\n",
              "</table>\n",
              "</div>"
            ],
            "text/plain": [
              "   a   b   c\n",
              "0  1  11  21\n",
              "1  2  12  22\n",
              "2  3  13  23\n",
              "3  4  14  24"
            ]
          },
          "metadata": {
            "tags": []
          },
          "execution_count": 15
        }
      ]
    },
    {
      "cell_type": "code",
      "metadata": {
        "colab": {
          "base_uri": "https://localhost:8080/"
        },
        "id": "tcTBvC078v1h",
        "outputId": "c6c46e3d-5f8c-4b72-bcc1-b12cac66932f"
      },
      "source": [
        "df.columns"
      ],
      "execution_count": null,
      "outputs": [
        {
          "output_type": "execute_result",
          "data": {
            "text/plain": [
              "Index(['a', ' b', ' c'], dtype='object')"
            ]
          },
          "metadata": {
            "tags": []
          },
          "execution_count": 16
        }
      ]
    },
    {
      "cell_type": "markdown",
      "metadata": {
        "id": "u8LNPThp9fw6"
      },
      "source": [
        "\\- 데이터를 읽으면서 칼럼명을 추가하고 싶을 때"
      ]
    },
    {
      "cell_type": "code",
      "metadata": {
        "id": "OZZzxCss93oL"
      },
      "source": [
        "df = pd.read_csv('/content/drive/MyDrive/00__강의자료/데이터분석/실습자료/00_colab/02_데이터_전처리/make_column_name.csv', \n",
        "                 index_col = 0, names = ['품목', '크기', '금액', '수수료'])"
      ],
      "execution_count": null,
      "outputs": []
    },
    {
      "cell_type": "code",
      "metadata": {
        "colab": {
          "base_uri": "https://localhost:8080/",
          "height": 204
        },
        "id": "zo03ocmR-B2c",
        "outputId": "20d7cace-3ac0-42c3-e2cb-11d8301bf408"
      },
      "source": [
        "df.head()"
      ],
      "execution_count": null,
      "outputs": [
        {
          "output_type": "execute_result",
          "data": {
            "text/html": [
              "<div>\n",
              "<style scoped>\n",
              "    .dataframe tbody tr th:only-of-type {\n",
              "        vertical-align: middle;\n",
              "    }\n",
              "\n",
              "    .dataframe tbody tr th {\n",
              "        vertical-align: top;\n",
              "    }\n",
              "\n",
              "    .dataframe thead th {\n",
              "        text-align: right;\n",
              "    }\n",
              "</style>\n",
              "<table border=\"1\" class=\"dataframe\">\n",
              "  <thead>\n",
              "    <tr style=\"text-align: right;\">\n",
              "      <th></th>\n",
              "      <th>품목</th>\n",
              "      <th>크기</th>\n",
              "      <th>금액</th>\n",
              "      <th>수수료</th>\n",
              "    </tr>\n",
              "  </thead>\n",
              "  <tbody>\n",
              "    <tr>\n",
              "      <th>0</th>\n",
              "      <td>바나나</td>\n",
              "      <td>중</td>\n",
              "      <td>2000</td>\n",
              "      <td>200.0</td>\n",
              "    </tr>\n",
              "    <tr>\n",
              "      <th>1</th>\n",
              "      <td>바나나</td>\n",
              "      <td>대</td>\n",
              "      <td>3000</td>\n",
              "      <td>300.0</td>\n",
              "    </tr>\n",
              "    <tr>\n",
              "      <th>2</th>\n",
              "      <td>바나나</td>\n",
              "      <td>중</td>\n",
              "      <td>2000</td>\n",
              "      <td>200.0</td>\n",
              "    </tr>\n",
              "    <tr>\n",
              "      <th>3</th>\n",
              "      <td>토마토</td>\n",
              "      <td>대</td>\n",
              "      <td>1500</td>\n",
              "      <td>150.0</td>\n",
              "    </tr>\n",
              "    <tr>\n",
              "      <th>4</th>\n",
              "      <td>토마토</td>\n",
              "      <td>소</td>\n",
              "      <td>500</td>\n",
              "      <td>50.0</td>\n",
              "    </tr>\n",
              "  </tbody>\n",
              "</table>\n",
              "</div>"
            ],
            "text/plain": [
              "    품목 크기    금액    수수료\n",
              "0  바나나  중  2000  200.0\n",
              "1  바나나  대  3000  300.0\n",
              "2  바나나  중  2000  200.0\n",
              "3  토마토  대  1500  150.0\n",
              "4  토마토  소   500   50.0"
            ]
          },
          "metadata": {
            "tags": []
          },
          "execution_count": 18
        }
      ]
    },
    {
      "cell_type": "markdown",
      "metadata": {
        "id": "vBzihcOj_I0y"
      },
      "source": [
        "\\- 원하는 칼럼만 쓰고 싶을 때"
      ]
    },
    {
      "cell_type": "code",
      "metadata": {
        "id": "yFXUd4-s-Czs"
      },
      "source": [
        "df = pd.read_csv('/content/drive/MyDrive/00__강의자료/2021_05_패스트캠퍼스_데이터분석/실습자료/00_colab/02_데이터_전처리/과일가게.csv', usecols = ['품목', '크기'])"
      ],
      "execution_count": null,
      "outputs": []
    },
    {
      "cell_type": "code",
      "metadata": {
        "colab": {
          "base_uri": "https://localhost:8080/",
          "height": 204
        },
        "id": "2HH1KdDr_WOS",
        "outputId": "ddd15b26-f169-4f0d-a54f-fe300572267d"
      },
      "source": [
        "df.head()"
      ],
      "execution_count": null,
      "outputs": [
        {
          "output_type": "execute_result",
          "data": {
            "text/html": [
              "<div>\n",
              "<style scoped>\n",
              "    .dataframe tbody tr th:only-of-type {\n",
              "        vertical-align: middle;\n",
              "    }\n",
              "\n",
              "    .dataframe tbody tr th {\n",
              "        vertical-align: top;\n",
              "    }\n",
              "\n",
              "    .dataframe thead th {\n",
              "        text-align: right;\n",
              "    }\n",
              "</style>\n",
              "<table border=\"1\" class=\"dataframe\">\n",
              "  <thead>\n",
              "    <tr style=\"text-align: right;\">\n",
              "      <th></th>\n",
              "      <th>품목</th>\n",
              "      <th>크기</th>\n",
              "    </tr>\n",
              "  </thead>\n",
              "  <tbody>\n",
              "    <tr>\n",
              "      <th>0</th>\n",
              "      <td>바나나</td>\n",
              "      <td>중</td>\n",
              "    </tr>\n",
              "    <tr>\n",
              "      <th>1</th>\n",
              "      <td>바나나</td>\n",
              "      <td>대</td>\n",
              "    </tr>\n",
              "    <tr>\n",
              "      <th>2</th>\n",
              "      <td>바나나</td>\n",
              "      <td>중</td>\n",
              "    </tr>\n",
              "    <tr>\n",
              "      <th>3</th>\n",
              "      <td>토마토</td>\n",
              "      <td>대</td>\n",
              "    </tr>\n",
              "    <tr>\n",
              "      <th>4</th>\n",
              "      <td>토마토</td>\n",
              "      <td>소</td>\n",
              "    </tr>\n",
              "  </tbody>\n",
              "</table>\n",
              "</div>"
            ],
            "text/plain": [
              "    품목 크기\n",
              "0  바나나  중\n",
              "1  바나나  대\n",
              "2  바나나  중\n",
              "3  토마토  대\n",
              "4  토마토  소"
            ]
          },
          "metadata": {
            "tags": []
          },
          "execution_count": 20
        }
      ]
    },
    {
      "cell_type": "markdown",
      "metadata": {
        "id": "tHpvIWNC_tXX"
      },
      "source": [
        "* 파일 저장"
      ]
    },
    {
      "cell_type": "code",
      "metadata": {
        "colab": {
          "base_uri": "https://localhost:8080/",
          "height": 204
        },
        "id": "Mr0bvf8-_W7C",
        "outputId": "17d55d63-1b5c-492c-9f2d-11fa978fcbd8"
      },
      "source": [
        "df.head()"
      ],
      "execution_count": null,
      "outputs": [
        {
          "output_type": "execute_result",
          "data": {
            "text/html": [
              "<div>\n",
              "<style scoped>\n",
              "    .dataframe tbody tr th:only-of-type {\n",
              "        vertical-align: middle;\n",
              "    }\n",
              "\n",
              "    .dataframe tbody tr th {\n",
              "        vertical-align: top;\n",
              "    }\n",
              "\n",
              "    .dataframe thead th {\n",
              "        text-align: right;\n",
              "    }\n",
              "</style>\n",
              "<table border=\"1\" class=\"dataframe\">\n",
              "  <thead>\n",
              "    <tr style=\"text-align: right;\">\n",
              "      <th></th>\n",
              "      <th>품목</th>\n",
              "      <th>크기</th>\n",
              "    </tr>\n",
              "  </thead>\n",
              "  <tbody>\n",
              "    <tr>\n",
              "      <th>0</th>\n",
              "      <td>바나나</td>\n",
              "      <td>중</td>\n",
              "    </tr>\n",
              "    <tr>\n",
              "      <th>1</th>\n",
              "      <td>바나나</td>\n",
              "      <td>대</td>\n",
              "    </tr>\n",
              "    <tr>\n",
              "      <th>2</th>\n",
              "      <td>바나나</td>\n",
              "      <td>중</td>\n",
              "    </tr>\n",
              "    <tr>\n",
              "      <th>3</th>\n",
              "      <td>토마토</td>\n",
              "      <td>대</td>\n",
              "    </tr>\n",
              "    <tr>\n",
              "      <th>4</th>\n",
              "      <td>토마토</td>\n",
              "      <td>소</td>\n",
              "    </tr>\n",
              "  </tbody>\n",
              "</table>\n",
              "</div>"
            ],
            "text/plain": [
              "    품목 크기\n",
              "0  바나나  중\n",
              "1  바나나  대\n",
              "2  바나나  중\n",
              "3  토마토  대\n",
              "4  토마토  소"
            ]
          },
          "metadata": {
            "tags": []
          },
          "execution_count": 21
        }
      ]
    },
    {
      "cell_type": "code",
      "source": [
        "df.to_csv('/content/drive/MyDrive/00__강의자료/데이터분석/실습자료/00_colab/02_데이터_전처리/make_csv.csv')"
      ],
      "metadata": {
        "id": "7IdwnCc-4QVz"
      },
      "execution_count": null,
      "outputs": []
    }
  ]
}